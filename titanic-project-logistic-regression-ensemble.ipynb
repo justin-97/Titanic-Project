{
 "cells": [
  {
   "cell_type": "code",
   "execution_count": 1,
   "id": "73d42c5d",
   "metadata": {
    "_cell_guid": "b1076dfc-b9ad-4769-8c92-a6c4dae69d19",
    "_uuid": "8f2839f25d086af736a60e9eeb907d3b93b6e0e5",
    "execution": {
     "iopub.execute_input": "2024-07-16T06:42:12.233712Z",
     "iopub.status.busy": "2024-07-16T06:42:12.233290Z",
     "iopub.status.idle": "2024-07-16T06:42:15.483162Z",
     "shell.execute_reply": "2024-07-16T06:42:15.481750Z"
    },
    "papermill": {
     "duration": 3.272877,
     "end_time": "2024-07-16T06:42:15.486008",
     "exception": false,
     "start_time": "2024-07-16T06:42:12.213131",
     "status": "completed"
    },
    "tags": []
   },
   "outputs": [
    {
     "name": "stdout",
     "output_type": "stream",
     "text": [
      "/kaggle/input/titanic/train.csv\n",
      "/kaggle/input/titanic/test.csv\n",
      "/kaggle/input/titanic/gender_submission.csv\n"
     ]
    }
   ],
   "source": [
    "# This Python 3 environment comes with many helpful analytics libraries installed\n",
    "# It is defined by the kaggle/python Docker image: https://github.com/kaggle/docker-python\n",
    "# For example, here's several helpful packages to load\n",
    "\n",
    "import numpy as np # linear algebra\n",
    "import pandas as pd # data processing, CSV file I/O (e.g. pd.read_csv)\n",
    "\n",
    "# Input data files are available in the read-only \"../input/\" directory\n",
    "# For example, running this (by clicking run or pressing Shift+Enter) will list all files under the input directory\n",
    "\n",
    "import os\n",
    "for dirname, _, filenames in os.walk('/kaggle/input'):\n",
    "    for filename in filenames:\n",
    "        print(os.path.join(dirname, filename))\n",
    "\n",
    "# You can write up to 20GB to the current directory (/kaggle/working/) that gets preserved as output when you create a version using \"Save & Run All\" \n",
    "# You can also write temporary files to /kaggle/temp/, but they won't be saved outside of the current session\n",
    "\n",
    "'''Importing extra modules'''\n",
    "import matplotlib.pyplot as plt\n",
    "import seaborn as sns\n",
    "from scipy import stats\n",
    "\n",
    "'''Importing modelling packages'''\n",
    "from sklearn.model_selection import GridSearchCV, train_test_split\n",
    "from sklearn.metrics import accuracy_score, precision_score, recall_score, f1_score, confusion_matrix, ConfusionMatrixDisplay, classification_report, roc_auc_score, roc_curve\n",
    "from sklearn.tree import DecisionTreeClassifier\n",
    "from sklearn.ensemble import RandomForestClassifier\n",
    "from xgboost import XGBClassifier\n",
    "from xgboost import plot_importance\n",
    "from sklearn.linear_model import LogisticRegression"
   ]
  },
  {
   "cell_type": "code",
   "execution_count": 2,
   "id": "0111f923",
   "metadata": {
    "execution": {
     "iopub.execute_input": "2024-07-16T06:42:15.526356Z",
     "iopub.status.busy": "2024-07-16T06:42:15.525868Z",
     "iopub.status.idle": "2024-07-16T06:42:15.582013Z",
     "shell.execute_reply": "2024-07-16T06:42:15.580649Z"
    },
    "papermill": {
     "duration": 0.079816,
     "end_time": "2024-07-16T06:42:15.584833",
     "exception": false,
     "start_time": "2024-07-16T06:42:15.505017",
     "status": "completed"
    },
    "tags": []
   },
   "outputs": [
    {
     "data": {
      "text/html": [
       "<div>\n",
       "<style scoped>\n",
       "    .dataframe tbody tr th:only-of-type {\n",
       "        vertical-align: middle;\n",
       "    }\n",
       "\n",
       "    .dataframe tbody tr th {\n",
       "        vertical-align: top;\n",
       "    }\n",
       "\n",
       "    .dataframe thead th {\n",
       "        text-align: right;\n",
       "    }\n",
       "</style>\n",
       "<table border=\"1\" class=\"dataframe\">\n",
       "  <thead>\n",
       "    <tr style=\"text-align: right;\">\n",
       "      <th></th>\n",
       "      <th>PassengerId</th>\n",
       "      <th>Pclass</th>\n",
       "      <th>Name</th>\n",
       "      <th>Sex</th>\n",
       "      <th>Age</th>\n",
       "      <th>SibSp</th>\n",
       "      <th>Parch</th>\n",
       "      <th>Ticket</th>\n",
       "      <th>Fare</th>\n",
       "      <th>Cabin</th>\n",
       "      <th>Embarked</th>\n",
       "    </tr>\n",
       "  </thead>\n",
       "  <tbody>\n",
       "    <tr>\n",
       "      <th>0</th>\n",
       "      <td>892</td>\n",
       "      <td>3</td>\n",
       "      <td>Kelly, Mr. James</td>\n",
       "      <td>male</td>\n",
       "      <td>34.5</td>\n",
       "      <td>0</td>\n",
       "      <td>0</td>\n",
       "      <td>330911</td>\n",
       "      <td>7.8292</td>\n",
       "      <td>NaN</td>\n",
       "      <td>Q</td>\n",
       "    </tr>\n",
       "    <tr>\n",
       "      <th>1</th>\n",
       "      <td>893</td>\n",
       "      <td>3</td>\n",
       "      <td>Wilkes, Mrs. James (Ellen Needs)</td>\n",
       "      <td>female</td>\n",
       "      <td>47.0</td>\n",
       "      <td>1</td>\n",
       "      <td>0</td>\n",
       "      <td>363272</td>\n",
       "      <td>7.0000</td>\n",
       "      <td>NaN</td>\n",
       "      <td>S</td>\n",
       "    </tr>\n",
       "    <tr>\n",
       "      <th>2</th>\n",
       "      <td>894</td>\n",
       "      <td>2</td>\n",
       "      <td>Myles, Mr. Thomas Francis</td>\n",
       "      <td>male</td>\n",
       "      <td>62.0</td>\n",
       "      <td>0</td>\n",
       "      <td>0</td>\n",
       "      <td>240276</td>\n",
       "      <td>9.6875</td>\n",
       "      <td>NaN</td>\n",
       "      <td>Q</td>\n",
       "    </tr>\n",
       "    <tr>\n",
       "      <th>3</th>\n",
       "      <td>895</td>\n",
       "      <td>3</td>\n",
       "      <td>Wirz, Mr. Albert</td>\n",
       "      <td>male</td>\n",
       "      <td>27.0</td>\n",
       "      <td>0</td>\n",
       "      <td>0</td>\n",
       "      <td>315154</td>\n",
       "      <td>8.6625</td>\n",
       "      <td>NaN</td>\n",
       "      <td>S</td>\n",
       "    </tr>\n",
       "    <tr>\n",
       "      <th>4</th>\n",
       "      <td>896</td>\n",
       "      <td>3</td>\n",
       "      <td>Hirvonen, Mrs. Alexander (Helga E Lindqvist)</td>\n",
       "      <td>female</td>\n",
       "      <td>22.0</td>\n",
       "      <td>1</td>\n",
       "      <td>1</td>\n",
       "      <td>3101298</td>\n",
       "      <td>12.2875</td>\n",
       "      <td>NaN</td>\n",
       "      <td>S</td>\n",
       "    </tr>\n",
       "  </tbody>\n",
       "</table>\n",
       "</div>"
      ],
      "text/plain": [
       "   PassengerId  Pclass                                          Name     Sex  \\\n",
       "0          892       3                              Kelly, Mr. James    male   \n",
       "1          893       3              Wilkes, Mrs. James (Ellen Needs)  female   \n",
       "2          894       2                     Myles, Mr. Thomas Francis    male   \n",
       "3          895       3                              Wirz, Mr. Albert    male   \n",
       "4          896       3  Hirvonen, Mrs. Alexander (Helga E Lindqvist)  female   \n",
       "\n",
       "    Age  SibSp  Parch   Ticket     Fare Cabin Embarked  \n",
       "0  34.5      0      0   330911   7.8292   NaN        Q  \n",
       "1  47.0      1      0   363272   7.0000   NaN        S  \n",
       "2  62.0      0      0   240276   9.6875   NaN        Q  \n",
       "3  27.0      0      0   315154   8.6625   NaN        S  \n",
       "4  22.0      1      1  3101298  12.2875   NaN        S  "
      ]
     },
     "execution_count": 2,
     "metadata": {},
     "output_type": "execute_result"
    }
   ],
   "source": [
    "train_data = pd.read_csv('/kaggle/input/titanic/train.csv')\n",
    "test_data = pd.read_csv('/kaggle/input/titanic/test.csv')\n",
    "test_data.head()"
   ]
  },
  {
   "cell_type": "code",
   "execution_count": 3,
   "id": "e0c6d0b5",
   "metadata": {
    "execution": {
     "iopub.execute_input": "2024-07-16T06:42:15.626124Z",
     "iopub.status.busy": "2024-07-16T06:42:15.625741Z",
     "iopub.status.idle": "2024-07-16T06:42:15.644767Z",
     "shell.execute_reply": "2024-07-16T06:42:15.643522Z"
    },
    "papermill": {
     "duration": 0.042216,
     "end_time": "2024-07-16T06:42:15.647199",
     "exception": false,
     "start_time": "2024-07-16T06:42:15.604983",
     "status": "completed"
    },
    "tags": []
   },
   "outputs": [
    {
     "data": {
      "text/html": [
       "<div>\n",
       "<style scoped>\n",
       "    .dataframe tbody tr th:only-of-type {\n",
       "        vertical-align: middle;\n",
       "    }\n",
       "\n",
       "    .dataframe tbody tr th {\n",
       "        vertical-align: top;\n",
       "    }\n",
       "\n",
       "    .dataframe thead th {\n",
       "        text-align: right;\n",
       "    }\n",
       "</style>\n",
       "<table border=\"1\" class=\"dataframe\">\n",
       "  <thead>\n",
       "    <tr style=\"text-align: right;\">\n",
       "      <th></th>\n",
       "      <th>PassengerId</th>\n",
       "      <th>Survived</th>\n",
       "      <th>Pclass</th>\n",
       "      <th>Name</th>\n",
       "      <th>Sex</th>\n",
       "      <th>Age</th>\n",
       "      <th>SibSp</th>\n",
       "      <th>Parch</th>\n",
       "      <th>Ticket</th>\n",
       "      <th>Fare</th>\n",
       "      <th>Cabin</th>\n",
       "      <th>Embarked</th>\n",
       "    </tr>\n",
       "  </thead>\n",
       "  <tbody>\n",
       "    <tr>\n",
       "      <th>0</th>\n",
       "      <td>1</td>\n",
       "      <td>0</td>\n",
       "      <td>3</td>\n",
       "      <td>Braund, Mr. Owen Harris</td>\n",
       "      <td>male</td>\n",
       "      <td>22.0</td>\n",
       "      <td>1</td>\n",
       "      <td>0</td>\n",
       "      <td>A/5 21171</td>\n",
       "      <td>7.2500</td>\n",
       "      <td>NaN</td>\n",
       "      <td>S</td>\n",
       "    </tr>\n",
       "    <tr>\n",
       "      <th>1</th>\n",
       "      <td>2</td>\n",
       "      <td>1</td>\n",
       "      <td>1</td>\n",
       "      <td>Cumings, Mrs. John Bradley (Florence Briggs Th...</td>\n",
       "      <td>female</td>\n",
       "      <td>38.0</td>\n",
       "      <td>1</td>\n",
       "      <td>0</td>\n",
       "      <td>PC 17599</td>\n",
       "      <td>71.2833</td>\n",
       "      <td>C85</td>\n",
       "      <td>C</td>\n",
       "    </tr>\n",
       "    <tr>\n",
       "      <th>2</th>\n",
       "      <td>3</td>\n",
       "      <td>1</td>\n",
       "      <td>3</td>\n",
       "      <td>Heikkinen, Miss. Laina</td>\n",
       "      <td>female</td>\n",
       "      <td>26.0</td>\n",
       "      <td>0</td>\n",
       "      <td>0</td>\n",
       "      <td>STON/O2. 3101282</td>\n",
       "      <td>7.9250</td>\n",
       "      <td>NaN</td>\n",
       "      <td>S</td>\n",
       "    </tr>\n",
       "    <tr>\n",
       "      <th>3</th>\n",
       "      <td>4</td>\n",
       "      <td>1</td>\n",
       "      <td>1</td>\n",
       "      <td>Futrelle, Mrs. Jacques Heath (Lily May Peel)</td>\n",
       "      <td>female</td>\n",
       "      <td>35.0</td>\n",
       "      <td>1</td>\n",
       "      <td>0</td>\n",
       "      <td>113803</td>\n",
       "      <td>53.1000</td>\n",
       "      <td>C123</td>\n",
       "      <td>S</td>\n",
       "    </tr>\n",
       "    <tr>\n",
       "      <th>4</th>\n",
       "      <td>5</td>\n",
       "      <td>0</td>\n",
       "      <td>3</td>\n",
       "      <td>Allen, Mr. William Henry</td>\n",
       "      <td>male</td>\n",
       "      <td>35.0</td>\n",
       "      <td>0</td>\n",
       "      <td>0</td>\n",
       "      <td>373450</td>\n",
       "      <td>8.0500</td>\n",
       "      <td>NaN</td>\n",
       "      <td>S</td>\n",
       "    </tr>\n",
       "    <tr>\n",
       "      <th>5</th>\n",
       "      <td>6</td>\n",
       "      <td>0</td>\n",
       "      <td>3</td>\n",
       "      <td>Moran, Mr. James</td>\n",
       "      <td>male</td>\n",
       "      <td>NaN</td>\n",
       "      <td>0</td>\n",
       "      <td>0</td>\n",
       "      <td>330877</td>\n",
       "      <td>8.4583</td>\n",
       "      <td>NaN</td>\n",
       "      <td>Q</td>\n",
       "    </tr>\n",
       "    <tr>\n",
       "      <th>6</th>\n",
       "      <td>7</td>\n",
       "      <td>0</td>\n",
       "      <td>1</td>\n",
       "      <td>McCarthy, Mr. Timothy J</td>\n",
       "      <td>male</td>\n",
       "      <td>54.0</td>\n",
       "      <td>0</td>\n",
       "      <td>0</td>\n",
       "      <td>17463</td>\n",
       "      <td>51.8625</td>\n",
       "      <td>E46</td>\n",
       "      <td>S</td>\n",
       "    </tr>\n",
       "    <tr>\n",
       "      <th>7</th>\n",
       "      <td>8</td>\n",
       "      <td>0</td>\n",
       "      <td>3</td>\n",
       "      <td>Palsson, Master. Gosta Leonard</td>\n",
       "      <td>male</td>\n",
       "      <td>2.0</td>\n",
       "      <td>3</td>\n",
       "      <td>1</td>\n",
       "      <td>349909</td>\n",
       "      <td>21.0750</td>\n",
       "      <td>NaN</td>\n",
       "      <td>S</td>\n",
       "    </tr>\n",
       "    <tr>\n",
       "      <th>8</th>\n",
       "      <td>9</td>\n",
       "      <td>1</td>\n",
       "      <td>3</td>\n",
       "      <td>Johnson, Mrs. Oscar W (Elisabeth Vilhelmina Berg)</td>\n",
       "      <td>female</td>\n",
       "      <td>27.0</td>\n",
       "      <td>0</td>\n",
       "      <td>2</td>\n",
       "      <td>347742</td>\n",
       "      <td>11.1333</td>\n",
       "      <td>NaN</td>\n",
       "      <td>S</td>\n",
       "    </tr>\n",
       "    <tr>\n",
       "      <th>9</th>\n",
       "      <td>10</td>\n",
       "      <td>1</td>\n",
       "      <td>2</td>\n",
       "      <td>Nasser, Mrs. Nicholas (Adele Achem)</td>\n",
       "      <td>female</td>\n",
       "      <td>14.0</td>\n",
       "      <td>1</td>\n",
       "      <td>0</td>\n",
       "      <td>237736</td>\n",
       "      <td>30.0708</td>\n",
       "      <td>NaN</td>\n",
       "      <td>C</td>\n",
       "    </tr>\n",
       "  </tbody>\n",
       "</table>\n",
       "</div>"
      ],
      "text/plain": [
       "   PassengerId  Survived  Pclass  \\\n",
       "0            1         0       3   \n",
       "1            2         1       1   \n",
       "2            3         1       3   \n",
       "3            4         1       1   \n",
       "4            5         0       3   \n",
       "5            6         0       3   \n",
       "6            7         0       1   \n",
       "7            8         0       3   \n",
       "8            9         1       3   \n",
       "9           10         1       2   \n",
       "\n",
       "                                                Name     Sex   Age  SibSp  \\\n",
       "0                            Braund, Mr. Owen Harris    male  22.0      1   \n",
       "1  Cumings, Mrs. John Bradley (Florence Briggs Th...  female  38.0      1   \n",
       "2                             Heikkinen, Miss. Laina  female  26.0      0   \n",
       "3       Futrelle, Mrs. Jacques Heath (Lily May Peel)  female  35.0      1   \n",
       "4                           Allen, Mr. William Henry    male  35.0      0   \n",
       "5                                   Moran, Mr. James    male   NaN      0   \n",
       "6                            McCarthy, Mr. Timothy J    male  54.0      0   \n",
       "7                     Palsson, Master. Gosta Leonard    male   2.0      3   \n",
       "8  Johnson, Mrs. Oscar W (Elisabeth Vilhelmina Berg)  female  27.0      0   \n",
       "9                Nasser, Mrs. Nicholas (Adele Achem)  female  14.0      1   \n",
       "\n",
       "   Parch            Ticket     Fare Cabin Embarked  \n",
       "0      0         A/5 21171   7.2500   NaN        S  \n",
       "1      0          PC 17599  71.2833   C85        C  \n",
       "2      0  STON/O2. 3101282   7.9250   NaN        S  \n",
       "3      0            113803  53.1000  C123        S  \n",
       "4      0            373450   8.0500   NaN        S  \n",
       "5      0            330877   8.4583   NaN        Q  \n",
       "6      0             17463  51.8625   E46        S  \n",
       "7      1            349909  21.0750   NaN        S  \n",
       "8      2            347742  11.1333   NaN        S  \n",
       "9      0            237736  30.0708   NaN        C  "
      ]
     },
     "execution_count": 3,
     "metadata": {},
     "output_type": "execute_result"
    }
   ],
   "source": [
    "train_data.head(10)"
   ]
  },
  {
   "cell_type": "markdown",
   "id": "dea62231",
   "metadata": {
    "papermill": {
     "duration": 0.018566,
     "end_time": "2024-07-16T06:42:15.684717",
     "exception": false,
     "start_time": "2024-07-16T06:42:15.666151",
     "status": "completed"
    },
    "tags": []
   },
   "source": [
    "### Exploratory Data Analysis\n",
    "Here we will explore our datasets, do some data cleaning and possibly some feature engineering"
   ]
  },
  {
   "cell_type": "code",
   "execution_count": 4,
   "id": "d8cf07dd",
   "metadata": {
    "execution": {
     "iopub.execute_input": "2024-07-16T06:42:15.724046Z",
     "iopub.status.busy": "2024-07-16T06:42:15.723618Z",
     "iopub.status.idle": "2024-07-16T06:42:15.730408Z",
     "shell.execute_reply": "2024-07-16T06:42:15.729338Z"
    },
    "papermill": {
     "duration": 0.029442,
     "end_time": "2024-07-16T06:42:15.732825",
     "exception": false,
     "start_time": "2024-07-16T06:42:15.703383",
     "status": "completed"
    },
    "tags": []
   },
   "outputs": [
    {
     "data": {
      "text/plain": [
       "(891, 12)"
      ]
     },
     "execution_count": 4,
     "metadata": {},
     "output_type": "execute_result"
    }
   ],
   "source": [
    "# Checking shape of dataset\n",
    "train_data.shape"
   ]
  },
  {
   "cell_type": "code",
   "execution_count": 5,
   "id": "8e5c42e7",
   "metadata": {
    "execution": {
     "iopub.execute_input": "2024-07-16T06:42:15.772568Z",
     "iopub.status.busy": "2024-07-16T06:42:15.772176Z",
     "iopub.status.idle": "2024-07-16T06:42:15.800028Z",
     "shell.execute_reply": "2024-07-16T06:42:15.798188Z"
    },
    "papermill": {
     "duration": 0.050815,
     "end_time": "2024-07-16T06:42:15.802738",
     "exception": false,
     "start_time": "2024-07-16T06:42:15.751923",
     "status": "completed"
    },
    "tags": []
   },
   "outputs": [
    {
     "name": "stdout",
     "output_type": "stream",
     "text": [
      "<class 'pandas.core.frame.DataFrame'>\n",
      "RangeIndex: 891 entries, 0 to 890\n",
      "Data columns (total 12 columns):\n",
      " #   Column       Non-Null Count  Dtype  \n",
      "---  ------       --------------  -----  \n",
      " 0   PassengerId  891 non-null    int64  \n",
      " 1   Survived     891 non-null    int64  \n",
      " 2   Pclass       891 non-null    int64  \n",
      " 3   Name         891 non-null    object \n",
      " 4   Sex          891 non-null    object \n",
      " 5   Age          714 non-null    float64\n",
      " 6   SibSp        891 non-null    int64  \n",
      " 7   Parch        891 non-null    int64  \n",
      " 8   Ticket       891 non-null    object \n",
      " 9   Fare         891 non-null    float64\n",
      " 10  Cabin        204 non-null    object \n",
      " 11  Embarked     889 non-null    object \n",
      "dtypes: float64(2), int64(5), object(5)\n",
      "memory usage: 83.7+ KB\n"
     ]
    }
   ],
   "source": [
    "# Checking for descriptive info\n",
    "train_data.info()"
   ]
  },
  {
   "cell_type": "markdown",
   "id": "f27144e4",
   "metadata": {
    "papermill": {
     "duration": 0.019041,
     "end_time": "2024-07-16T06:42:15.840887",
     "exception": false,
     "start_time": "2024-07-16T06:42:15.821846",
     "status": "completed"
    },
    "tags": []
   },
   "source": [
    "#### **What are the variables in this dataset?**\n",
    "\n",
    "Description of the features:\n",
    "1. **PassenderId** - is a unique identification number assigned to each passenger.\n",
    "2. **Survived** - indicates if the passenger survived or parished (0 = No, 1 = Yes).\n",
    "3. **Pclass** - passenger class (1 = 1st class, 2 = 2nd class, 3 = 3rd class).\n",
    "4. **Name** - name of the passenger.\n",
    "5. **Sex** - gender of the passenger.\n",
    "6. **Age** - age of the passenger.\n",
    "7. **SibSp** - no. of siblings/spouses aboard.\n",
    "8. **Parch** - no. of parents/children aboard.\n",
    "9. **Ticket** - ticket number assigned to a passenger.\n",
    "10. **Fare** - price of the ticket\n",
    "11. **Cabin** - cabin category assigned to a passenger.\n",
    "12. **Embarked** - which port the passenger boarded from (C = Cherbourg, Q = Queenstown, S = Southampton).\n",
    "\n",
    "**The purpose of this dataset is to used to predict on the test dataset, if a passenger survived or not. Hence, the target variable is `Survived` & the rest are predictor features.**"
   ]
  },
  {
   "cell_type": "code",
   "execution_count": 6,
   "id": "df33dc06",
   "metadata": {
    "execution": {
     "iopub.execute_input": "2024-07-16T06:42:15.881364Z",
     "iopub.status.busy": "2024-07-16T06:42:15.881008Z",
     "iopub.status.idle": "2024-07-16T06:42:15.890025Z",
     "shell.execute_reply": "2024-07-16T06:42:15.888762Z"
    },
    "papermill": {
     "duration": 0.032214,
     "end_time": "2024-07-16T06:42:15.892801",
     "exception": false,
     "start_time": "2024-07-16T06:42:15.860587",
     "status": "completed"
    },
    "tags": []
   },
   "outputs": [
    {
     "data": {
      "text/plain": [
       "PassengerId      0\n",
       "Survived         0\n",
       "Pclass           0\n",
       "Name             0\n",
       "Sex              0\n",
       "Age            177\n",
       "SibSp            0\n",
       "Parch            0\n",
       "Ticket           0\n",
       "Fare             0\n",
       "Cabin          687\n",
       "Embarked         2\n",
       "dtype: int64"
      ]
     },
     "execution_count": 6,
     "metadata": {},
     "output_type": "execute_result"
    }
   ],
   "source": [
    "# Checking for missing values\n",
    "train_data.isna().sum()"
   ]
  },
  {
   "cell_type": "markdown",
   "id": "21b6f974",
   "metadata": {
    "papermill": {
     "duration": 0.019884,
     "end_time": "2024-07-16T06:42:15.932402",
     "exception": false,
     "start_time": "2024-07-16T06:42:15.912518",
     "status": "completed"
    },
    "tags": []
   },
   "source": [
    "After checking for missing values, it turns out that the `Age` column is missing 177 values, `Cabin` is missing 687 & `Embarked` is missing 2.\n",
    "Potential ways we could go about is:\n",
    "- `Age`: Aggregate the age with the mean age of passengers\n",
    "- `Cabin`: Group the cabin into categorical, with missing values asigned 'Unknown'\n",
    "- `Embarked`: Could leave it as 2 out of 891 is pretty insignificant, furthermore our tree-based models are robust to it."
   ]
  },
  {
   "cell_type": "code",
   "execution_count": 7,
   "id": "1a11c3d5",
   "metadata": {
    "execution": {
     "iopub.execute_input": "2024-07-16T06:42:15.973252Z",
     "iopub.status.busy": "2024-07-16T06:42:15.972876Z",
     "iopub.status.idle": "2024-07-16T06:42:15.982322Z",
     "shell.execute_reply": "2024-07-16T06:42:15.981265Z"
    },
    "papermill": {
     "duration": 0.032514,
     "end_time": "2024-07-16T06:42:15.984786",
     "exception": false,
     "start_time": "2024-07-16T06:42:15.952272",
     "status": "completed"
    },
    "tags": []
   },
   "outputs": [
    {
     "data": {
      "text/plain": [
       "0"
      ]
     },
     "execution_count": 7,
     "metadata": {},
     "output_type": "execute_result"
    }
   ],
   "source": [
    "# Checking for duplicates\n",
    "train_data.duplicated().sum()"
   ]
  },
  {
   "cell_type": "code",
   "execution_count": 8,
   "id": "bc430cdb",
   "metadata": {
    "execution": {
     "iopub.execute_input": "2024-07-16T06:42:16.089808Z",
     "iopub.status.busy": "2024-07-16T06:42:16.089360Z",
     "iopub.status.idle": "2024-07-16T06:42:16.095189Z",
     "shell.execute_reply": "2024-07-16T06:42:16.094113Z"
    },
    "papermill": {
     "duration": 0.093514,
     "end_time": "2024-07-16T06:42:16.097662",
     "exception": false,
     "start_time": "2024-07-16T06:42:16.004148",
     "status": "completed"
    },
    "tags": []
   },
   "outputs": [],
   "source": [
    "# Copying train_data into another new DataFrame\n",
    "df = train_data.copy()"
   ]
  },
  {
   "cell_type": "markdown",
   "id": "ca93a801",
   "metadata": {
    "papermill": {
     "duration": 0.019762,
     "end_time": "2024-07-16T06:42:16.136716",
     "exception": false,
     "start_time": "2024-07-16T06:42:16.116954",
     "status": "completed"
    },
    "tags": []
   },
   "source": [
    "#### Check outliers\n",
    "\n",
    "Check for outliers in the data."
   ]
  },
  {
   "cell_type": "code",
   "execution_count": 9,
   "id": "485c350d",
   "metadata": {
    "execution": {
     "iopub.execute_input": "2024-07-16T06:42:16.180270Z",
     "iopub.status.busy": "2024-07-16T06:42:16.179564Z",
     "iopub.status.idle": "2024-07-16T06:42:16.420617Z",
     "shell.execute_reply": "2024-07-16T06:42:16.419364Z"
    },
    "papermill": {
     "duration": 0.266901,
     "end_time": "2024-07-16T06:42:16.423205",
     "exception": false,
     "start_time": "2024-07-16T06:42:16.156304",
     "status": "completed"
    },
    "tags": []
   },
   "outputs": [
    {
     "data": {
      "image/png": "[encoded data removed]",
      "text/plain": [
       "<Figure size 800x300 with 1 Axes>"
      ]
     },
     "metadata": {},
     "output_type": "display_data"
    }
   ],
   "source": [
    "# Checking Age distribution\n",
    "plt.figure(figsize=(8,3))\n",
    "sns.boxplot(x=df['Age']);"
   ]
  },
  {
   "cell_type": "code",
   "execution_count": 10,
   "id": "607cc569",
   "metadata": {
    "execution": {
     "iopub.execute_input": "2024-07-16T06:42:16.467264Z",
     "iopub.status.busy": "2024-07-16T06:42:16.466869Z",
     "iopub.status.idle": "2024-07-16T06:42:16.483376Z",
     "shell.execute_reply": "2024-07-16T06:42:16.481990Z"
    },
    "papermill": {
     "duration": 0.042311,
     "end_time": "2024-07-16T06:42:16.486112",
     "exception": false,
     "start_time": "2024-07-16T06:42:16.443801",
     "status": "completed"
    },
    "tags": []
   },
   "outputs": [
    {
     "name": "stdout",
     "output_type": "stream",
     "text": [
      "lower_limit:  -6.6875\n",
      "upper_limit:  64.8125\n",
      "No. of rows of Age outliers:  11\n"
     ]
    }
   ],
   "source": [
    "# Determining how many rows contains outliers\n",
    "percentile25 = df['Age'].quantile(0.25)\n",
    "percentile75 = df['Age'].quantile(0.75)\n",
    "iqr = percentile75 - percentile25\n",
    "\n",
    "# Establishing lower & upper limits\n",
    "lower_limit = percentile25 - 1.5 * iqr\n",
    "upper_limit = percentile75 + 1.5 * iqr\n",
    "print('lower_limit: ', lower_limit)\n",
    "print('upper_limit: ', upper_limit)\n",
    "\n",
    "age_outliers = df[(df['Age'] < lower_limit) | (df['Age'] > upper_limit)]\n",
    "print('No. of rows of Age outliers: ', len(age_outliers))"
   ]
  },
  {
   "cell_type": "markdown",
   "id": "969a6387",
   "metadata": {
    "papermill": {
     "duration": 0.019579,
     "end_time": "2024-07-16T06:42:16.525474",
     "exception": false,
     "start_time": "2024-07-16T06:42:16.505895",
     "status": "completed"
    },
    "tags": []
   },
   "source": [
    "**Logistic Regression** is quite sensitive to outliers, while **Tree-based models (DecisionTree, RandomForest, XGBoost Classifier)** are quite robust to outliers due to their splitting mechanism, ensemble methods & gradient boosting.\n",
    "\n",
    "Since there are only 11 outliers in the `Age` column, keeping them might not affect the Logistic Regression that much."
   ]
  },
  {
   "cell_type": "code",
   "execution_count": 11,
   "id": "4923d85e",
   "metadata": {
    "execution": {
     "iopub.execute_input": "2024-07-16T06:42:16.566863Z",
     "iopub.status.busy": "2024-07-16T06:42:16.566361Z",
     "iopub.status.idle": "2024-07-16T06:42:16.955929Z",
     "shell.execute_reply": "2024-07-16T06:42:16.954552Z"
    },
    "papermill": {
     "duration": 0.413563,
     "end_time": "2024-07-16T06:42:16.958774",
     "exception": false,
     "start_time": "2024-07-16T06:42:16.545211",
     "status": "completed"
    },
    "tags": []
   },
   "outputs": [
    {
     "name": "stderr",
     "output_type": "stream",
     "text": [
      "/opt/conda/lib/python3.10/site-packages/seaborn/_oldcore.py:1119: FutureWarning: use_inf_as_na option is deprecated and will be removed in a future version. Convert inf values to NaN before operating instead.\n",
      "  with pd.option_context('mode.use_inf_as_na', True):\n"
     ]
    },
    {
     "data": {
      "image/png": "[encoded data removed]",
      "text/plain": [
       "<Figure size 600x400 with 1 Axes>"
      ]
     },
     "metadata": {},
     "output_type": "display_data"
    }
   ],
   "source": [
    "'''Distribution of Age Histogram'''\n",
    "plt.figure(figsize=(6,4))\n",
    "sns.histplot(df['Age'])\n",
    "plt.xlabel('Age')\n",
    "plt.title('Distribution of Age');"
   ]
  },
  {
   "cell_type": "markdown",
   "id": "09efd318",
   "metadata": {
    "papermill": {
     "duration": 0.020844,
     "end_time": "2024-07-16T06:42:16.999822",
     "exception": false,
     "start_time": "2024-07-16T06:42:16.978978",
     "status": "completed"
    },
    "tags": []
   },
   "source": [
    "#### Dealing with missing values\n",
    "\n",
    "#### 1) Aggregate `Age` column\n",
    "\n",
    "Earlier, it was mentioned that we could calculate the mean age of the training dataset & replace the missing ages with the mean."
   ]
  },
  {
   "cell_type": "code",
   "execution_count": 12,
   "id": "31579941",
   "metadata": {
    "execution": {
     "iopub.execute_input": "2024-07-16T06:42:17.045412Z",
     "iopub.status.busy": "2024-07-16T06:42:17.043941Z",
     "iopub.status.idle": "2024-07-16T06:42:17.054965Z",
     "shell.execute_reply": "2024-07-16T06:42:17.053602Z"
    },
    "papermill": {
     "duration": 0.037873,
     "end_time": "2024-07-16T06:42:17.057914",
     "exception": false,
     "start_time": "2024-07-16T06:42:17.020041",
     "status": "completed"
    },
    "tags": []
   },
   "outputs": [
    {
     "data": {
      "text/plain": [
       "29.7"
      ]
     },
     "execution_count": 12,
     "metadata": {},
     "output_type": "execute_result"
    }
   ],
   "source": [
    "# Calculating the mean age\n",
    "mean_age = df['Age'].mean()\n",
    "mean_age_rounded = round(mean_age, 1)\n",
    "mean_age_rounded"
   ]
  },
  {
   "cell_type": "markdown",
   "id": "98d7f8a7",
   "metadata": {
    "papermill": {
     "duration": 0.025545,
     "end_time": "2024-07-16T06:42:17.113412",
     "exception": false,
     "start_time": "2024-07-16T06:42:17.087867",
     "status": "completed"
    },
    "tags": []
   },
   "source": [
    "The average age is **29.7**, therefore we'll replace the missing values with this."
   ]
  },
  {
   "cell_type": "code",
   "execution_count": 13,
   "id": "025726a3",
   "metadata": {
    "execution": {
     "iopub.execute_input": "2024-07-16T06:42:17.159560Z",
     "iopub.status.busy": "2024-07-16T06:42:17.159096Z",
     "iopub.status.idle": "2024-07-16T06:42:17.185550Z",
     "shell.execute_reply": "2024-07-16T06:42:17.184595Z"
    },
    "papermill": {
     "duration": 0.058439,
     "end_time": "2024-07-16T06:42:17.192806",
     "exception": false,
     "start_time": "2024-07-16T06:42:17.134367",
     "status": "completed"
    },
    "tags": []
   },
   "outputs": [
    {
     "name": "stderr",
     "output_type": "stream",
     "text": [
      "/tmp/ipykernel_18/3529145118.py:2: FutureWarning: A value is trying to be set on a copy of a DataFrame or Series through chained assignment using an inplace method.\n",
      "The behavior will change in pandas 3.0. This inplace method will never work because the intermediate object on which we are setting values always behaves as a copy.\n",
      "\n",
      "For example, when doing 'df[col].method(value, inplace=True)', try using 'df.method({col: value}, inplace=True)' or df[col] = df[col].method(value) instead, to perform the operation inplace on the original object.\n",
      "\n",
      "\n",
      "  df['Age'].fillna(mean_age_rounded, inplace=True)\n"
     ]
    },
    {
     "data": {
      "text/html": [
       "<div>\n",
       "<style scoped>\n",
       "    .dataframe tbody tr th:only-of-type {\n",
       "        vertical-align: middle;\n",
       "    }\n",
       "\n",
       "    .dataframe tbody tr th {\n",
       "        vertical-align: top;\n",
       "    }\n",
       "\n",
       "    .dataframe thead th {\n",
       "        text-align: right;\n",
       "    }\n",
       "</style>\n",
       "<table border=\"1\" class=\"dataframe\">\n",
       "  <thead>\n",
       "    <tr style=\"text-align: right;\">\n",
       "      <th></th>\n",
       "      <th>PassengerId</th>\n",
       "      <th>Survived</th>\n",
       "      <th>Pclass</th>\n",
       "      <th>Name</th>\n",
       "      <th>Sex</th>\n",
       "      <th>Age</th>\n",
       "      <th>SibSp</th>\n",
       "      <th>Parch</th>\n",
       "      <th>Ticket</th>\n",
       "      <th>Fare</th>\n",
       "      <th>Cabin</th>\n",
       "      <th>Embarked</th>\n",
       "    </tr>\n",
       "  </thead>\n",
       "  <tbody>\n",
       "    <tr>\n",
       "      <th>0</th>\n",
       "      <td>1</td>\n",
       "      <td>0</td>\n",
       "      <td>3</td>\n",
       "      <td>Braund, Mr. Owen Harris</td>\n",
       "      <td>male</td>\n",
       "      <td>22.0</td>\n",
       "      <td>1</td>\n",
       "      <td>0</td>\n",
       "      <td>A/5 21171</td>\n",
       "      <td>7.2500</td>\n",
       "      <td>NaN</td>\n",
       "      <td>S</td>\n",
       "    </tr>\n",
       "    <tr>\n",
       "      <th>1</th>\n",
       "      <td>2</td>\n",
       "      <td>1</td>\n",
       "      <td>1</td>\n",
       "      <td>Cumings, Mrs. John Bradley (Florence Briggs Th...</td>\n",
       "      <td>female</td>\n",
       "      <td>38.0</td>\n",
       "      <td>1</td>\n",
       "      <td>0</td>\n",
       "      <td>PC 17599</td>\n",
       "      <td>71.2833</td>\n",
       "      <td>C85</td>\n",
       "      <td>C</td>\n",
       "    </tr>\n",
       "    <tr>\n",
       "      <th>2</th>\n",
       "      <td>3</td>\n",
       "      <td>1</td>\n",
       "      <td>3</td>\n",
       "      <td>Heikkinen, Miss. Laina</td>\n",
       "      <td>female</td>\n",
       "      <td>26.0</td>\n",
       "      <td>0</td>\n",
       "      <td>0</td>\n",
       "      <td>STON/O2. 3101282</td>\n",
       "      <td>7.9250</td>\n",
       "      <td>NaN</td>\n",
       "      <td>S</td>\n",
       "    </tr>\n",
       "    <tr>\n",
       "      <th>3</th>\n",
       "      <td>4</td>\n",
       "      <td>1</td>\n",
       "      <td>1</td>\n",
       "      <td>Futrelle, Mrs. Jacques Heath (Lily May Peel)</td>\n",
       "      <td>female</td>\n",
       "      <td>35.0</td>\n",
       "      <td>1</td>\n",
       "      <td>0</td>\n",
       "      <td>113803</td>\n",
       "      <td>53.1000</td>\n",
       "      <td>C123</td>\n",
       "      <td>S</td>\n",
       "    </tr>\n",
       "    <tr>\n",
       "      <th>4</th>\n",
       "      <td>5</td>\n",
       "      <td>0</td>\n",
       "      <td>3</td>\n",
       "      <td>Allen, Mr. William Henry</td>\n",
       "      <td>male</td>\n",
       "      <td>35.0</td>\n",
       "      <td>0</td>\n",
       "      <td>0</td>\n",
       "      <td>373450</td>\n",
       "      <td>8.0500</td>\n",
       "      <td>NaN</td>\n",
       "      <td>S</td>\n",
       "    </tr>\n",
       "    <tr>\n",
       "      <th>5</th>\n",
       "      <td>6</td>\n",
       "      <td>0</td>\n",
       "      <td>3</td>\n",
       "      <td>Moran, Mr. James</td>\n",
       "      <td>male</td>\n",
       "      <td>29.7</td>\n",
       "      <td>0</td>\n",
       "      <td>0</td>\n",
       "      <td>330877</td>\n",
       "      <td>8.4583</td>\n",
       "      <td>NaN</td>\n",
       "      <td>Q</td>\n",
       "    </tr>\n",
       "    <tr>\n",
       "      <th>6</th>\n",
       "      <td>7</td>\n",
       "      <td>0</td>\n",
       "      <td>1</td>\n",
       "      <td>McCarthy, Mr. Timothy J</td>\n",
       "      <td>male</td>\n",
       "      <td>54.0</td>\n",
       "      <td>0</td>\n",
       "      <td>0</td>\n",
       "      <td>17463</td>\n",
       "      <td>51.8625</td>\n",
       "      <td>E46</td>\n",
       "      <td>S</td>\n",
       "    </tr>\n",
       "    <tr>\n",
       "      <th>7</th>\n",
       "      <td>8</td>\n",
       "      <td>0</td>\n",
       "      <td>3</td>\n",
       "      <td>Palsson, Master. Gosta Leonard</td>\n",
       "      <td>male</td>\n",
       "      <td>2.0</td>\n",
       "      <td>3</td>\n",
       "      <td>1</td>\n",
       "      <td>349909</td>\n",
       "      <td>21.0750</td>\n",
       "      <td>NaN</td>\n",
       "      <td>S</td>\n",
       "    </tr>\n",
       "    <tr>\n",
       "      <th>8</th>\n",
       "      <td>9</td>\n",
       "      <td>1</td>\n",
       "      <td>3</td>\n",
       "      <td>Johnson, Mrs. Oscar W (Elisabeth Vilhelmina Berg)</td>\n",
       "      <td>female</td>\n",
       "      <td>27.0</td>\n",
       "      <td>0</td>\n",
       "      <td>2</td>\n",
       "      <td>347742</td>\n",
       "      <td>11.1333</td>\n",
       "      <td>NaN</td>\n",
       "      <td>S</td>\n",
       "    </tr>\n",
       "    <tr>\n",
       "      <th>9</th>\n",
       "      <td>10</td>\n",
       "      <td>1</td>\n",
       "      <td>2</td>\n",
       "      <td>Nasser, Mrs. Nicholas (Adele Achem)</td>\n",
       "      <td>female</td>\n",
       "      <td>14.0</td>\n",
       "      <td>1</td>\n",
       "      <td>0</td>\n",
       "      <td>237736</td>\n",
       "      <td>30.0708</td>\n",
       "      <td>NaN</td>\n",
       "      <td>C</td>\n",
       "    </tr>\n",
       "  </tbody>\n",
       "</table>\n",
       "</div>"
      ],
      "text/plain": [
       "   PassengerId  Survived  Pclass  \\\n",
       "0            1         0       3   \n",
       "1            2         1       1   \n",
       "2            3         1       3   \n",
       "3            4         1       1   \n",
       "4            5         0       3   \n",
       "5            6         0       3   \n",
       "6            7         0       1   \n",
       "7            8         0       3   \n",
       "8            9         1       3   \n",
       "9           10         1       2   \n",
       "\n",
       "                                                Name     Sex   Age  SibSp  \\\n",
       "0                            Braund, Mr. Owen Harris    male  22.0      1   \n",
       "1  Cumings, Mrs. John Bradley (Florence Briggs Th...  female  38.0      1   \n",
       "2                             Heikkinen, Miss. Laina  female  26.0      0   \n",
       "3       Futrelle, Mrs. Jacques Heath (Lily May Peel)  female  35.0      1   \n",
       "4                           Allen, Mr. William Henry    male  35.0      0   \n",
       "5                                   Moran, Mr. James    male  29.7      0   \n",
       "6                            McCarthy, Mr. Timothy J    male  54.0      0   \n",
       "7                     Palsson, Master. Gosta Leonard    male   2.0      3   \n",
       "8  Johnson, Mrs. Oscar W (Elisabeth Vilhelmina Berg)  female  27.0      0   \n",
       "9                Nasser, Mrs. Nicholas (Adele Achem)  female  14.0      1   \n",
       "\n",
       "   Parch            Ticket     Fare Cabin Embarked  \n",
       "0      0         A/5 21171   7.2500   NaN        S  \n",
       "1      0          PC 17599  71.2833   C85        C  \n",
       "2      0  STON/O2. 3101282   7.9250   NaN        S  \n",
       "3      0            113803  53.1000  C123        S  \n",
       "4      0            373450   8.0500   NaN        S  \n",
       "5      0            330877   8.4583   NaN        Q  \n",
       "6      0             17463  51.8625   E46        S  \n",
       "7      1            349909  21.0750   NaN        S  \n",
       "8      2            347742  11.1333   NaN        S  \n",
       "9      0            237736  30.0708   NaN        C  "
      ]
     },
     "execution_count": 13,
     "metadata": {},
     "output_type": "execute_result"
    }
   ],
   "source": [
    "# Filling missing `Age` data with average age\n",
    "df['Age'].fillna(mean_age_rounded, inplace=True)\n",
    "df.head(10)"
   ]
  },
  {
   "cell_type": "markdown",
   "id": "835e3802",
   "metadata": {
    "papermill": {
     "duration": 0.028452,
     "end_time": "2024-07-16T06:42:17.253324",
     "exception": false,
     "start_time": "2024-07-16T06:42:17.224872",
     "status": "completed"
    },
    "tags": []
   },
   "source": [
    "#### 2) Categorize `Cabin` column\n",
    "\n",
    "Earlier, it was found that `Cabin` was a object type data. We could divide the `Cabin` into categories then group all missing values to be labelled as **'X'**.\n",
    "\n",
    "But first, let's take a look at the various data in the `Cabin` column"
   ]
  },
  {
   "cell_type": "code",
   "execution_count": 14,
   "id": "2800c7a5",
   "metadata": {
    "execution": {
     "iopub.execute_input": "2024-07-16T06:42:17.297477Z",
     "iopub.status.busy": "2024-07-16T06:42:17.297092Z",
     "iopub.status.idle": "2024-07-16T06:42:17.307444Z",
     "shell.execute_reply": "2024-07-16T06:42:17.306331Z"
    },
    "papermill": {
     "duration": 0.035076,
     "end_time": "2024-07-16T06:42:17.310164",
     "exception": false,
     "start_time": "2024-07-16T06:42:17.275088",
     "status": "completed"
    },
    "tags": []
   },
   "outputs": [
    {
     "data": {
      "text/plain": [
       "Cabin\n",
       "B96 B98        4\n",
       "G6             4\n",
       "C23 C25 C27    4\n",
       "C22 C26        3\n",
       "F33            3\n",
       "              ..\n",
       "E34            1\n",
       "C7             1\n",
       "C54            1\n",
       "E36            1\n",
       "C148           1\n",
       "Name: count, Length: 147, dtype: int64"
      ]
     },
     "execution_count": 14,
     "metadata": {},
     "output_type": "execute_result"
    }
   ],
   "source": [
    "# Exploring the Cabin Columns\n",
    "df['Cabin'].value_counts()"
   ]
  },
  {
   "cell_type": "markdown",
   "id": "98d11bcd",
   "metadata": {
    "papermill": {
     "duration": 0.023687,
     "end_time": "2024-07-16T06:42:17.354873",
     "exception": false,
     "start_time": "2024-07-16T06:42:17.331186",
     "status": "completed"
    },
    "tags": []
   },
   "source": [
    "The data in the `Cabin` column contains a letter, following with numbers to describe the cabin information. As we can see, the naming of the cabins are pretty inconsistent. Some has 3 numbers, while others might have 2 numbers.\n",
    "\n",
    "Let's simplify it by **extracting the first letter of the cabin to categorize them**.\n",
    "\n",
    "Pictures of the titanic levels found online, show that the lifeboats are on the sundeck, which is the highest level of the ship. This means that cabins on the higher floor have better access to them, increasing the likelihood of surviving. Therefore, I've added hierarchy to the category.\n",
    "\n",
    "The order of the cabins are assigned as: ***A, B, C, D, E, F, G, H, T, X***.  \n",
    "\n",
    "X is assigned as the lowest because it assumed that passengers in this category are difficult to infer which level they might be at during the accident.\n",
    "\n",
    "link: https://rmstitanic1912.weebly.com/the-levels-of-the-titanic.html"
   ]
  },
  {
   "cell_type": "code",
   "execution_count": 15,
   "id": "35e5e5ed",
   "metadata": {
    "execution": {
     "iopub.execute_input": "2024-07-16T06:42:17.404572Z",
     "iopub.status.busy": "2024-07-16T06:42:17.404152Z",
     "iopub.status.idle": "2024-07-16T06:42:17.426200Z",
     "shell.execute_reply": "2024-07-16T06:42:17.425008Z"
    },
    "papermill": {
     "duration": 0.048388,
     "end_time": "2024-07-16T06:42:17.428927",
     "exception": false,
     "start_time": "2024-07-16T06:42:17.380539",
     "status": "completed"
    },
    "tags": []
   },
   "outputs": [
    {
     "data": {
      "text/html": [
       "<div>\n",
       "<style scoped>\n",
       "    .dataframe tbody tr th:only-of-type {\n",
       "        vertical-align: middle;\n",
       "    }\n",
       "\n",
       "    .dataframe tbody tr th {\n",
       "        vertical-align: top;\n",
       "    }\n",
       "\n",
       "    .dataframe thead th {\n",
       "        text-align: right;\n",
       "    }\n",
       "</style>\n",
       "<table border=\"1\" class=\"dataframe\">\n",
       "  <thead>\n",
       "    <tr style=\"text-align: right;\">\n",
       "      <th></th>\n",
       "      <th>PassengerId</th>\n",
       "      <th>Survived</th>\n",
       "      <th>Pclass</th>\n",
       "      <th>Name</th>\n",
       "      <th>Sex</th>\n",
       "      <th>Age</th>\n",
       "      <th>SibSp</th>\n",
       "      <th>Parch</th>\n",
       "      <th>Ticket</th>\n",
       "      <th>Fare</th>\n",
       "      <th>Cabin</th>\n",
       "      <th>Embarked</th>\n",
       "      <th>CabinProcessed</th>\n",
       "    </tr>\n",
       "  </thead>\n",
       "  <tbody>\n",
       "    <tr>\n",
       "      <th>0</th>\n",
       "      <td>1</td>\n",
       "      <td>0</td>\n",
       "      <td>3</td>\n",
       "      <td>Braund, Mr. Owen Harris</td>\n",
       "      <td>male</td>\n",
       "      <td>22.0</td>\n",
       "      <td>1</td>\n",
       "      <td>0</td>\n",
       "      <td>A/5 21171</td>\n",
       "      <td>7.2500</td>\n",
       "      <td>NaN</td>\n",
       "      <td>S</td>\n",
       "      <td>8</td>\n",
       "    </tr>\n",
       "    <tr>\n",
       "      <th>1</th>\n",
       "      <td>2</td>\n",
       "      <td>1</td>\n",
       "      <td>1</td>\n",
       "      <td>Cumings, Mrs. John Bradley (Florence Briggs Th...</td>\n",
       "      <td>female</td>\n",
       "      <td>38.0</td>\n",
       "      <td>1</td>\n",
       "      <td>0</td>\n",
       "      <td>PC 17599</td>\n",
       "      <td>71.2833</td>\n",
       "      <td>C85</td>\n",
       "      <td>C</td>\n",
       "      <td>2</td>\n",
       "    </tr>\n",
       "    <tr>\n",
       "      <th>2</th>\n",
       "      <td>3</td>\n",
       "      <td>1</td>\n",
       "      <td>3</td>\n",
       "      <td>Heikkinen, Miss. Laina</td>\n",
       "      <td>female</td>\n",
       "      <td>26.0</td>\n",
       "      <td>0</td>\n",
       "      <td>0</td>\n",
       "      <td>STON/O2. 3101282</td>\n",
       "      <td>7.9250</td>\n",
       "      <td>NaN</td>\n",
       "      <td>S</td>\n",
       "      <td>8</td>\n",
       "    </tr>\n",
       "    <tr>\n",
       "      <th>3</th>\n",
       "      <td>4</td>\n",
       "      <td>1</td>\n",
       "      <td>1</td>\n",
       "      <td>Futrelle, Mrs. Jacques Heath (Lily May Peel)</td>\n",
       "      <td>female</td>\n",
       "      <td>35.0</td>\n",
       "      <td>1</td>\n",
       "      <td>0</td>\n",
       "      <td>113803</td>\n",
       "      <td>53.1000</td>\n",
       "      <td>C123</td>\n",
       "      <td>S</td>\n",
       "      <td>2</td>\n",
       "    </tr>\n",
       "    <tr>\n",
       "      <th>4</th>\n",
       "      <td>5</td>\n",
       "      <td>0</td>\n",
       "      <td>3</td>\n",
       "      <td>Allen, Mr. William Henry</td>\n",
       "      <td>male</td>\n",
       "      <td>35.0</td>\n",
       "      <td>0</td>\n",
       "      <td>0</td>\n",
       "      <td>373450</td>\n",
       "      <td>8.0500</td>\n",
       "      <td>NaN</td>\n",
       "      <td>S</td>\n",
       "      <td>8</td>\n",
       "    </tr>\n",
       "  </tbody>\n",
       "</table>\n",
       "</div>"
      ],
      "text/plain": [
       "   PassengerId  Survived  Pclass  \\\n",
       "0            1         0       3   \n",
       "1            2         1       1   \n",
       "2            3         1       3   \n",
       "3            4         1       1   \n",
       "4            5         0       3   \n",
       "\n",
       "                                                Name     Sex   Age  SibSp  \\\n",
       "0                            Braund, Mr. Owen Harris    male  22.0      1   \n",
       "1  Cumings, Mrs. John Bradley (Florence Briggs Th...  female  38.0      1   \n",
       "2                             Heikkinen, Miss. Laina  female  26.0      0   \n",
       "3       Futrelle, Mrs. Jacques Heath (Lily May Peel)  female  35.0      1   \n",
       "4                           Allen, Mr. William Henry    male  35.0      0   \n",
       "\n",
       "   Parch            Ticket     Fare Cabin Embarked  CabinProcessed  \n",
       "0      0         A/5 21171   7.2500   NaN        S               8  \n",
       "1      0          PC 17599  71.2833   C85        C               2  \n",
       "2      0  STON/O2. 3101282   7.9250   NaN        S               8  \n",
       "3      0            113803  53.1000  C123        S               2  \n",
       "4      0            373450   8.0500   NaN        S               8  "
      ]
     },
     "execution_count": 15,
     "metadata": {},
     "output_type": "execute_result"
    }
   ],
   "source": [
    "'''\n",
    "    1) Replaces missing values with 'Missing'\n",
    "    2) Extracts the first letter of each cabin\n",
    "    3) 'Missing' is then converted in 'X'\n",
    "'''\n",
    "df['CabinProcessed'] = df['Cabin'].fillna('Missing').apply(lambda x:x[0] if x!='Missing' else 'X')\n",
    "\n",
    "# Convert to CabinProcessed into categorical variables\n",
    "df['CabinProcessed'] = (df['CabinProcessed'].astype('category')\n",
    "                        .cat.set_categories(['A','B','C','D','E','F','G','T','X'])\n",
    "                        .cat.codes\n",
    "                       )\n",
    "df.head()"
   ]
  },
  {
   "cell_type": "markdown",
   "id": "3d58d4c3",
   "metadata": {
    "papermill": {
     "duration": 0.020913,
     "end_time": "2024-07-16T06:42:17.476521",
     "exception": false,
     "start_time": "2024-07-16T06:42:17.455608",
     "status": "completed"
    },
    "tags": []
   },
   "source": [
    "It appears to be many cabin categories, let's take a look at how they are distributed."
   ]
  },
  {
   "cell_type": "code",
   "execution_count": 16,
   "id": "7b2c0f2f",
   "metadata": {
    "execution": {
     "iopub.execute_input": "2024-07-16T06:42:17.521508Z",
     "iopub.status.busy": "2024-07-16T06:42:17.521095Z",
     "iopub.status.idle": "2024-07-16T06:42:17.531725Z",
     "shell.execute_reply": "2024-07-16T06:42:17.530564Z"
    },
    "papermill": {
     "duration": 0.035728,
     "end_time": "2024-07-16T06:42:17.534275",
     "exception": false,
     "start_time": "2024-07-16T06:42:17.498547",
     "status": "completed"
    },
    "tags": []
   },
   "outputs": [
    {
     "data": {
      "text/plain": [
       "CabinProcessed\n",
       "8    687\n",
       "2     59\n",
       "1     47\n",
       "3     33\n",
       "4     32\n",
       "0     15\n",
       "5     13\n",
       "6      4\n",
       "7      1\n",
       "Name: count, dtype: int64"
      ]
     },
     "execution_count": 16,
     "metadata": {},
     "output_type": "execute_result"
    }
   ],
   "source": [
    "df['CabinProcessed'].value_counts()"
   ]
  },
  {
   "cell_type": "code",
   "execution_count": 17,
   "id": "f346462c",
   "metadata": {
    "execution": {
     "iopub.execute_input": "2024-07-16T06:42:17.579561Z",
     "iopub.status.busy": "2024-07-16T06:42:17.579143Z",
     "iopub.status.idle": "2024-07-16T06:42:17.589543Z",
     "shell.execute_reply": "2024-07-16T06:42:17.588207Z"
    },
    "papermill": {
     "duration": 0.036612,
     "end_time": "2024-07-16T06:42:17.592421",
     "exception": false,
     "start_time": "2024-07-16T06:42:17.555809",
     "status": "completed"
    },
    "tags": []
   },
   "outputs": [
    {
     "data": {
      "text/plain": [
       "PassengerId         0\n",
       "Survived            0\n",
       "Pclass              0\n",
       "Name                0\n",
       "Sex                 0\n",
       "Age                 0\n",
       "SibSp               0\n",
       "Parch               0\n",
       "Ticket              0\n",
       "Fare                0\n",
       "Cabin             687\n",
       "Embarked            2\n",
       "CabinProcessed      0\n",
       "dtype: int64"
      ]
     },
     "execution_count": 17,
     "metadata": {},
     "output_type": "execute_result"
    }
   ],
   "source": [
    "# Check for missing values again\n",
    "df.isna().sum()"
   ]
  },
  {
   "cell_type": "code",
   "execution_count": 18,
   "id": "7d98a159",
   "metadata": {
    "execution": {
     "iopub.execute_input": "2024-07-16T06:42:17.638420Z",
     "iopub.status.busy": "2024-07-16T06:42:17.637999Z",
     "iopub.status.idle": "2024-07-16T06:42:17.651084Z",
     "shell.execute_reply": "2024-07-16T06:42:17.649797Z"
    },
    "papermill": {
     "duration": 0.039856,
     "end_time": "2024-07-16T06:42:17.654240",
     "exception": false,
     "start_time": "2024-07-16T06:42:17.614384",
     "status": "completed"
    },
    "tags": []
   },
   "outputs": [
    {
     "name": "stdout",
     "output_type": "stream",
     "text": [
      "<class 'pandas.core.frame.DataFrame'>\n",
      "RangeIndex: 891 entries, 0 to 890\n",
      "Data columns (total 13 columns):\n",
      " #   Column          Non-Null Count  Dtype  \n",
      "---  ------          --------------  -----  \n",
      " 0   PassengerId     891 non-null    int64  \n",
      " 1   Survived        891 non-null    int64  \n",
      " 2   Pclass          891 non-null    int64  \n",
      " 3   Name            891 non-null    object \n",
      " 4   Sex             891 non-null    object \n",
      " 5   Age             891 non-null    float64\n",
      " 6   SibSp           891 non-null    int64  \n",
      " 7   Parch           891 non-null    int64  \n",
      " 8   Ticket          891 non-null    object \n",
      " 9   Fare            891 non-null    float64\n",
      " 10  Cabin           204 non-null    object \n",
      " 11  Embarked        889 non-null    object \n",
      " 12  CabinProcessed  891 non-null    int8   \n",
      "dtypes: float64(2), int64(5), int8(1), object(5)\n",
      "memory usage: 84.5+ KB\n"
     ]
    }
   ],
   "source": [
    "df.info()"
   ]
  },
  {
   "cell_type": "markdown",
   "id": "c39c12c2",
   "metadata": {
    "papermill": {
     "duration": 0.021668,
     "end_time": "2024-07-16T06:42:17.697655",
     "exception": false,
     "start_time": "2024-07-16T06:42:17.675987",
     "status": "completed"
    },
    "tags": []
   },
   "source": [
    "### Converting features into numerical values\n",
    "\n",
    "Machine learning models can only work with numerical values, hence we shall convert the remaining features that are are interested in, into numerical dtypes. \n",
    "\n",
    "These features are `Sex`, `Embarked`"
   ]
  },
  {
   "cell_type": "markdown",
   "id": "c28030b0",
   "metadata": {
    "execution": {
     "iopub.execute_input": "2024-06-10T17:21:59.341150Z",
     "iopub.status.busy": "2024-06-10T17:21:59.340723Z",
     "iopub.status.idle": "2024-06-10T17:21:59.348416Z",
     "shell.execute_reply": "2024-06-10T17:21:59.347087Z",
     "shell.execute_reply.started": "2024-06-10T17:21:59.341117Z"
    },
    "papermill": {
     "duration": 0.026823,
     "end_time": "2024-07-16T06:42:17.745934",
     "exception": false,
     "start_time": "2024-07-16T06:42:17.719111",
     "status": "completed"
    },
    "tags": []
   },
   "source": [
    "#### LabelEncode `Sex`"
   ]
  },
  {
   "cell_type": "code",
   "execution_count": 19,
   "id": "01e2656c",
   "metadata": {
    "execution": {
     "iopub.execute_input": "2024-07-16T06:42:17.795102Z",
     "iopub.status.busy": "2024-07-16T06:42:17.793672Z",
     "iopub.status.idle": "2024-07-16T06:42:17.801950Z",
     "shell.execute_reply": "2024-07-16T06:42:17.799777Z"
    },
    "papermill": {
     "duration": 0.035181,
     "end_time": "2024-07-16T06:42:17.805037",
     "exception": false,
     "start_time": "2024-07-16T06:42:17.769856",
     "status": "completed"
    },
    "tags": []
   },
   "outputs": [],
   "source": [
    "# Import `LabelEncoder` from scikit-learn\n",
    "from sklearn.preprocessing import LabelEncoder\n",
    "# Initialize label encoder\n",
    "label_encoder = LabelEncoder()\n",
    "df['Sex_enc'] = label_encoder.fit_transform(df['Sex'])"
   ]
  },
  {
   "cell_type": "markdown",
   "id": "bbec4954",
   "metadata": {
    "papermill": {
     "duration": 0.021479,
     "end_time": "2024-07-16T06:42:17.849267",
     "exception": false,
     "start_time": "2024-07-16T06:42:17.827788",
     "status": "completed"
    },
    "tags": []
   },
   "source": [
    "#### LabelEncode `Embarked`"
   ]
  },
  {
   "cell_type": "code",
   "execution_count": 20,
   "id": "a49dfd9a",
   "metadata": {
    "execution": {
     "iopub.execute_input": "2024-07-16T06:42:17.893587Z",
     "iopub.status.busy": "2024-07-16T06:42:17.893155Z",
     "iopub.status.idle": "2024-07-16T06:42:17.911596Z",
     "shell.execute_reply": "2024-07-16T06:42:17.910342Z"
    },
    "papermill": {
     "duration": 0.043826,
     "end_time": "2024-07-16T06:42:17.914394",
     "exception": false,
     "start_time": "2024-07-16T06:42:17.870568",
     "status": "completed"
    },
    "tags": []
   },
   "outputs": [
    {
     "data": {
      "text/html": [
       "<div>\n",
       "<style scoped>\n",
       "    .dataframe tbody tr th:only-of-type {\n",
       "        vertical-align: middle;\n",
       "    }\n",
       "\n",
       "    .dataframe tbody tr th {\n",
       "        vertical-align: top;\n",
       "    }\n",
       "\n",
       "    .dataframe thead th {\n",
       "        text-align: right;\n",
       "    }\n",
       "</style>\n",
       "<table border=\"1\" class=\"dataframe\">\n",
       "  <thead>\n",
       "    <tr style=\"text-align: right;\">\n",
       "      <th></th>\n",
       "      <th>PassengerId</th>\n",
       "      <th>Survived</th>\n",
       "      <th>Pclass</th>\n",
       "      <th>Name</th>\n",
       "      <th>Sex</th>\n",
       "      <th>Age</th>\n",
       "      <th>SibSp</th>\n",
       "      <th>Parch</th>\n",
       "      <th>Ticket</th>\n",
       "      <th>Fare</th>\n",
       "      <th>Cabin</th>\n",
       "      <th>Embarked</th>\n",
       "      <th>CabinProcessed</th>\n",
       "      <th>Sex_enc</th>\n",
       "      <th>Embarked_enc</th>\n",
       "    </tr>\n",
       "  </thead>\n",
       "  <tbody>\n",
       "    <tr>\n",
       "      <th>0</th>\n",
       "      <td>1</td>\n",
       "      <td>0</td>\n",
       "      <td>3</td>\n",
       "      <td>Braund, Mr. Owen Harris</td>\n",
       "      <td>male</td>\n",
       "      <td>22.0</td>\n",
       "      <td>1</td>\n",
       "      <td>0</td>\n",
       "      <td>A/5 21171</td>\n",
       "      <td>7.2500</td>\n",
       "      <td>NaN</td>\n",
       "      <td>S</td>\n",
       "      <td>8</td>\n",
       "      <td>1</td>\n",
       "      <td>2</td>\n",
       "    </tr>\n",
       "    <tr>\n",
       "      <th>1</th>\n",
       "      <td>2</td>\n",
       "      <td>1</td>\n",
       "      <td>1</td>\n",
       "      <td>Cumings, Mrs. John Bradley (Florence Briggs Th...</td>\n",
       "      <td>female</td>\n",
       "      <td>38.0</td>\n",
       "      <td>1</td>\n",
       "      <td>0</td>\n",
       "      <td>PC 17599</td>\n",
       "      <td>71.2833</td>\n",
       "      <td>C85</td>\n",
       "      <td>C</td>\n",
       "      <td>2</td>\n",
       "      <td>0</td>\n",
       "      <td>0</td>\n",
       "    </tr>\n",
       "    <tr>\n",
       "      <th>2</th>\n",
       "      <td>3</td>\n",
       "      <td>1</td>\n",
       "      <td>3</td>\n",
       "      <td>Heikkinen, Miss. Laina</td>\n",
       "      <td>female</td>\n",
       "      <td>26.0</td>\n",
       "      <td>0</td>\n",
       "      <td>0</td>\n",
       "      <td>STON/O2. 3101282</td>\n",
       "      <td>7.9250</td>\n",
       "      <td>NaN</td>\n",
       "      <td>S</td>\n",
       "      <td>8</td>\n",
       "      <td>0</td>\n",
       "      <td>2</td>\n",
       "    </tr>\n",
       "    <tr>\n",
       "      <th>3</th>\n",
       "      <td>4</td>\n",
       "      <td>1</td>\n",
       "      <td>1</td>\n",
       "      <td>Futrelle, Mrs. Jacques Heath (Lily May Peel)</td>\n",
       "      <td>female</td>\n",
       "      <td>35.0</td>\n",
       "      <td>1</td>\n",
       "      <td>0</td>\n",
       "      <td>113803</td>\n",
       "      <td>53.1000</td>\n",
       "      <td>C123</td>\n",
       "      <td>S</td>\n",
       "      <td>2</td>\n",
       "      <td>0</td>\n",
       "      <td>2</td>\n",
       "    </tr>\n",
       "    <tr>\n",
       "      <th>4</th>\n",
       "      <td>5</td>\n",
       "      <td>0</td>\n",
       "      <td>3</td>\n",
       "      <td>Allen, Mr. William Henry</td>\n",
       "      <td>male</td>\n",
       "      <td>35.0</td>\n",
       "      <td>0</td>\n",
       "      <td>0</td>\n",
       "      <td>373450</td>\n",
       "      <td>8.0500</td>\n",
       "      <td>NaN</td>\n",
       "      <td>S</td>\n",
       "      <td>8</td>\n",
       "      <td>1</td>\n",
       "      <td>2</td>\n",
       "    </tr>\n",
       "  </tbody>\n",
       "</table>\n",
       "</div>"
      ],
      "text/plain": [
       "   PassengerId  Survived  Pclass  \\\n",
       "0            1         0       3   \n",
       "1            2         1       1   \n",
       "2            3         1       3   \n",
       "3            4         1       1   \n",
       "4            5         0       3   \n",
       "\n",
       "                                                Name     Sex   Age  SibSp  \\\n",
       "0                            Braund, Mr. Owen Harris    male  22.0      1   \n",
       "1  Cumings, Mrs. John Bradley (Florence Briggs Th...  female  38.0      1   \n",
       "2                             Heikkinen, Miss. Laina  female  26.0      0   \n",
       "3       Futrelle, Mrs. Jacques Heath (Lily May Peel)  female  35.0      1   \n",
       "4                           Allen, Mr. William Henry    male  35.0      0   \n",
       "\n",
       "   Parch            Ticket     Fare Cabin Embarked  CabinProcessed  Sex_enc  \\\n",
       "0      0         A/5 21171   7.2500   NaN        S               8        1   \n",
       "1      0          PC 17599  71.2833   C85        C               2        0   \n",
       "2      0  STON/O2. 3101282   7.9250   NaN        S               8        0   \n",
       "3      0            113803  53.1000  C123        S               2        0   \n",
       "4      0            373450   8.0500   NaN        S               8        1   \n",
       "\n",
       "   Embarked_enc  \n",
       "0             2  \n",
       "1             0  \n",
       "2             2  \n",
       "3             2  \n",
       "4             2  "
      ]
     },
     "execution_count": 20,
     "metadata": {},
     "output_type": "execute_result"
    }
   ],
   "source": [
    "df['Embarked_enc'] = label_encoder.fit_transform(df['Embarked'])\n",
    "df.head()"
   ]
  },
  {
   "cell_type": "markdown",
   "id": "7b3810ee",
   "metadata": {
    "papermill": {
     "duration": 0.021856,
     "end_time": "2024-07-16T06:42:17.959071",
     "exception": false,
     "start_time": "2024-07-16T06:42:17.937215",
     "status": "completed"
    },
    "tags": []
   },
   "source": [
    "### Feature Engineering\n",
    "\n",
    "#### Adding a `Children` feature\n",
    "\n",
    "It could be assumed that ***women & children*** were prioritized in evacuating the Titanic. However, only the `Sex` column distinguishes ***men*** from ***women***. There is no column in identifying ***children***, hence we shall add a new column `Children` and label encode it.\n",
    "\n",
    "Also, anyone who is under the age of 18, shall be considered as a child."
   ]
  },
  {
   "cell_type": "code",
   "execution_count": 21,
   "id": "13a58339",
   "metadata": {
    "execution": {
     "iopub.execute_input": "2024-07-16T06:42:18.004716Z",
     "iopub.status.busy": "2024-07-16T06:42:18.004313Z",
     "iopub.status.idle": "2024-07-16T06:42:18.025286Z",
     "shell.execute_reply": "2024-07-16T06:42:18.024278Z"
    },
    "papermill": {
     "duration": 0.046243,
     "end_time": "2024-07-16T06:42:18.027611",
     "exception": false,
     "start_time": "2024-07-16T06:42:17.981368",
     "status": "completed"
    },
    "tags": []
   },
   "outputs": [
    {
     "data": {
      "text/html": [
       "<div>\n",
       "<style scoped>\n",
       "    .dataframe tbody tr th:only-of-type {\n",
       "        vertical-align: middle;\n",
       "    }\n",
       "\n",
       "    .dataframe tbody tr th {\n",
       "        vertical-align: top;\n",
       "    }\n",
       "\n",
       "    .dataframe thead th {\n",
       "        text-align: right;\n",
       "    }\n",
       "</style>\n",
       "<table border=\"1\" class=\"dataframe\">\n",
       "  <thead>\n",
       "    <tr style=\"text-align: right;\">\n",
       "      <th></th>\n",
       "      <th>PassengerId</th>\n",
       "      <th>Survived</th>\n",
       "      <th>Pclass</th>\n",
       "      <th>Name</th>\n",
       "      <th>Sex</th>\n",
       "      <th>Age</th>\n",
       "      <th>SibSp</th>\n",
       "      <th>Parch</th>\n",
       "      <th>Ticket</th>\n",
       "      <th>Fare</th>\n",
       "      <th>Cabin</th>\n",
       "      <th>Embarked</th>\n",
       "      <th>CabinProcessed</th>\n",
       "      <th>Sex_enc</th>\n",
       "      <th>Embarked_enc</th>\n",
       "      <th>Children</th>\n",
       "    </tr>\n",
       "  </thead>\n",
       "  <tbody>\n",
       "    <tr>\n",
       "      <th>0</th>\n",
       "      <td>1</td>\n",
       "      <td>0</td>\n",
       "      <td>3</td>\n",
       "      <td>Braund, Mr. Owen Harris</td>\n",
       "      <td>male</td>\n",
       "      <td>22.0</td>\n",
       "      <td>1</td>\n",
       "      <td>0</td>\n",
       "      <td>A/5 21171</td>\n",
       "      <td>7.2500</td>\n",
       "      <td>NaN</td>\n",
       "      <td>S</td>\n",
       "      <td>8</td>\n",
       "      <td>1</td>\n",
       "      <td>2</td>\n",
       "      <td>0</td>\n",
       "    </tr>\n",
       "    <tr>\n",
       "      <th>1</th>\n",
       "      <td>2</td>\n",
       "      <td>1</td>\n",
       "      <td>1</td>\n",
       "      <td>Cumings, Mrs. John Bradley (Florence Briggs Th...</td>\n",
       "      <td>female</td>\n",
       "      <td>38.0</td>\n",
       "      <td>1</td>\n",
       "      <td>0</td>\n",
       "      <td>PC 17599</td>\n",
       "      <td>71.2833</td>\n",
       "      <td>C85</td>\n",
       "      <td>C</td>\n",
       "      <td>2</td>\n",
       "      <td>0</td>\n",
       "      <td>0</td>\n",
       "      <td>0</td>\n",
       "    </tr>\n",
       "    <tr>\n",
       "      <th>2</th>\n",
       "      <td>3</td>\n",
       "      <td>1</td>\n",
       "      <td>3</td>\n",
       "      <td>Heikkinen, Miss. Laina</td>\n",
       "      <td>female</td>\n",
       "      <td>26.0</td>\n",
       "      <td>0</td>\n",
       "      <td>0</td>\n",
       "      <td>STON/O2. 3101282</td>\n",
       "      <td>7.9250</td>\n",
       "      <td>NaN</td>\n",
       "      <td>S</td>\n",
       "      <td>8</td>\n",
       "      <td>0</td>\n",
       "      <td>2</td>\n",
       "      <td>0</td>\n",
       "    </tr>\n",
       "    <tr>\n",
       "      <th>3</th>\n",
       "      <td>4</td>\n",
       "      <td>1</td>\n",
       "      <td>1</td>\n",
       "      <td>Futrelle, Mrs. Jacques Heath (Lily May Peel)</td>\n",
       "      <td>female</td>\n",
       "      <td>35.0</td>\n",
       "      <td>1</td>\n",
       "      <td>0</td>\n",
       "      <td>113803</td>\n",
       "      <td>53.1000</td>\n",
       "      <td>C123</td>\n",
       "      <td>S</td>\n",
       "      <td>2</td>\n",
       "      <td>0</td>\n",
       "      <td>2</td>\n",
       "      <td>0</td>\n",
       "    </tr>\n",
       "    <tr>\n",
       "      <th>4</th>\n",
       "      <td>5</td>\n",
       "      <td>0</td>\n",
       "      <td>3</td>\n",
       "      <td>Allen, Mr. William Henry</td>\n",
       "      <td>male</td>\n",
       "      <td>35.0</td>\n",
       "      <td>0</td>\n",
       "      <td>0</td>\n",
       "      <td>373450</td>\n",
       "      <td>8.0500</td>\n",
       "      <td>NaN</td>\n",
       "      <td>S</td>\n",
       "      <td>8</td>\n",
       "      <td>1</td>\n",
       "      <td>2</td>\n",
       "      <td>0</td>\n",
       "    </tr>\n",
       "    <tr>\n",
       "      <th>5</th>\n",
       "      <td>6</td>\n",
       "      <td>0</td>\n",
       "      <td>3</td>\n",
       "      <td>Moran, Mr. James</td>\n",
       "      <td>male</td>\n",
       "      <td>29.7</td>\n",
       "      <td>0</td>\n",
       "      <td>0</td>\n",
       "      <td>330877</td>\n",
       "      <td>8.4583</td>\n",
       "      <td>NaN</td>\n",
       "      <td>Q</td>\n",
       "      <td>8</td>\n",
       "      <td>1</td>\n",
       "      <td>1</td>\n",
       "      <td>0</td>\n",
       "    </tr>\n",
       "    <tr>\n",
       "      <th>6</th>\n",
       "      <td>7</td>\n",
       "      <td>0</td>\n",
       "      <td>1</td>\n",
       "      <td>McCarthy, Mr. Timothy J</td>\n",
       "      <td>male</td>\n",
       "      <td>54.0</td>\n",
       "      <td>0</td>\n",
       "      <td>0</td>\n",
       "      <td>17463</td>\n",
       "      <td>51.8625</td>\n",
       "      <td>E46</td>\n",
       "      <td>S</td>\n",
       "      <td>4</td>\n",
       "      <td>1</td>\n",
       "      <td>2</td>\n",
       "      <td>0</td>\n",
       "    </tr>\n",
       "    <tr>\n",
       "      <th>7</th>\n",
       "      <td>8</td>\n",
       "      <td>0</td>\n",
       "      <td>3</td>\n",
       "      <td>Palsson, Master. Gosta Leonard</td>\n",
       "      <td>male</td>\n",
       "      <td>2.0</td>\n",
       "      <td>3</td>\n",
       "      <td>1</td>\n",
       "      <td>349909</td>\n",
       "      <td>21.0750</td>\n",
       "      <td>NaN</td>\n",
       "      <td>S</td>\n",
       "      <td>8</td>\n",
       "      <td>1</td>\n",
       "      <td>2</td>\n",
       "      <td>1</td>\n",
       "    </tr>\n",
       "    <tr>\n",
       "      <th>8</th>\n",
       "      <td>9</td>\n",
       "      <td>1</td>\n",
       "      <td>3</td>\n",
       "      <td>Johnson, Mrs. Oscar W (Elisabeth Vilhelmina Berg)</td>\n",
       "      <td>female</td>\n",
       "      <td>27.0</td>\n",
       "      <td>0</td>\n",
       "      <td>2</td>\n",
       "      <td>347742</td>\n",
       "      <td>11.1333</td>\n",
       "      <td>NaN</td>\n",
       "      <td>S</td>\n",
       "      <td>8</td>\n",
       "      <td>0</td>\n",
       "      <td>2</td>\n",
       "      <td>0</td>\n",
       "    </tr>\n",
       "    <tr>\n",
       "      <th>9</th>\n",
       "      <td>10</td>\n",
       "      <td>1</td>\n",
       "      <td>2</td>\n",
       "      <td>Nasser, Mrs. Nicholas (Adele Achem)</td>\n",
       "      <td>female</td>\n",
       "      <td>14.0</td>\n",
       "      <td>1</td>\n",
       "      <td>0</td>\n",
       "      <td>237736</td>\n",
       "      <td>30.0708</td>\n",
       "      <td>NaN</td>\n",
       "      <td>C</td>\n",
       "      <td>8</td>\n",
       "      <td>0</td>\n",
       "      <td>0</td>\n",
       "      <td>1</td>\n",
       "    </tr>\n",
       "  </tbody>\n",
       "</table>\n",
       "</div>"
      ],
      "text/plain": [
       "   PassengerId  Survived  Pclass  \\\n",
       "0            1         0       3   \n",
       "1            2         1       1   \n",
       "2            3         1       3   \n",
       "3            4         1       1   \n",
       "4            5         0       3   \n",
       "5            6         0       3   \n",
       "6            7         0       1   \n",
       "7            8         0       3   \n",
       "8            9         1       3   \n",
       "9           10         1       2   \n",
       "\n",
       "                                                Name     Sex   Age  SibSp  \\\n",
       "0                            Braund, Mr. Owen Harris    male  22.0      1   \n",
       "1  Cumings, Mrs. John Bradley (Florence Briggs Th...  female  38.0      1   \n",
       "2                             Heikkinen, Miss. Laina  female  26.0      0   \n",
       "3       Futrelle, Mrs. Jacques Heath (Lily May Peel)  female  35.0      1   \n",
       "4                           Allen, Mr. William Henry    male  35.0      0   \n",
       "5                                   Moran, Mr. James    male  29.7      0   \n",
       "6                            McCarthy, Mr. Timothy J    male  54.0      0   \n",
       "7                     Palsson, Master. Gosta Leonard    male   2.0      3   \n",
       "8  Johnson, Mrs. Oscar W (Elisabeth Vilhelmina Berg)  female  27.0      0   \n",
       "9                Nasser, Mrs. Nicholas (Adele Achem)  female  14.0      1   \n",
       "\n",
       "   Parch            Ticket     Fare Cabin Embarked  CabinProcessed  Sex_enc  \\\n",
       "0      0         A/5 21171   7.2500   NaN        S               8        1   \n",
       "1      0          PC 17599  71.2833   C85        C               2        0   \n",
       "2      0  STON/O2. 3101282   7.9250   NaN        S               8        0   \n",
       "3      0            113803  53.1000  C123        S               2        0   \n",
       "4      0            373450   8.0500   NaN        S               8        1   \n",
       "5      0            330877   8.4583   NaN        Q               8        1   \n",
       "6      0             17463  51.8625   E46        S               4        1   \n",
       "7      1            349909  21.0750   NaN        S               8        1   \n",
       "8      2            347742  11.1333   NaN        S               8        0   \n",
       "9      0            237736  30.0708   NaN        C               8        0   \n",
       "\n",
       "   Embarked_enc  Children  \n",
       "0             2         0  \n",
       "1             0         0  \n",
       "2             2         0  \n",
       "3             2         0  \n",
       "4             2         0  \n",
       "5             1         0  \n",
       "6             2         0  \n",
       "7             2         1  \n",
       "8             2         0  \n",
       "9             0         1  "
      ]
     },
     "execution_count": 21,
     "metadata": {},
     "output_type": "execute_result"
    }
   ],
   "source": [
    "# Adding a new `Children` column.\n",
    "df['Children'] = df['Age'] < 18\n",
    "df['Children'] = df['Children'].astype(int)\n",
    "df.head(10)"
   ]
  },
  {
   "cell_type": "markdown",
   "id": "8f6bea2c",
   "metadata": {
    "papermill": {
     "duration": 0.021829,
     "end_time": "2024-07-16T06:42:18.072008",
     "exception": false,
     "start_time": "2024-07-16T06:42:18.050179",
     "status": "completed"
    },
    "tags": []
   },
   "source": [
    "#### Combining SibSp & Parch\n",
    "\n",
    "Another new feature we could create is combining both (`SibSp` & `Parch` + 1) into `Family`. \n",
    "\n",
    "During an evacuation, one could be swarmed with locating all family members in the chaotic environment before evacuating together, hence lowering the chance of survival of the passenger rate.\n",
    "\n",
    "The idea is that with lesser family members, the passenger could immediately head for evacuation, leading to a higher rate of survival."
   ]
  },
  {
   "cell_type": "code",
   "execution_count": 22,
   "id": "63755dcd",
   "metadata": {
    "execution": {
     "iopub.execute_input": "2024-07-16T06:42:18.119200Z",
     "iopub.status.busy": "2024-07-16T06:42:18.118836Z",
     "iopub.status.idle": "2024-07-16T06:42:18.137608Z",
     "shell.execute_reply": "2024-07-16T06:42:18.136499Z"
    },
    "papermill": {
     "duration": 0.044285,
     "end_time": "2024-07-16T06:42:18.139946",
     "exception": false,
     "start_time": "2024-07-16T06:42:18.095661",
     "status": "completed"
    },
    "tags": []
   },
   "outputs": [
    {
     "data": {
      "text/html": [
       "<div>\n",
       "<style scoped>\n",
       "    .dataframe tbody tr th:only-of-type {\n",
       "        vertical-align: middle;\n",
       "    }\n",
       "\n",
       "    .dataframe tbody tr th {\n",
       "        vertical-align: top;\n",
       "    }\n",
       "\n",
       "    .dataframe thead th {\n",
       "        text-align: right;\n",
       "    }\n",
       "</style>\n",
       "<table border=\"1\" class=\"dataframe\">\n",
       "  <thead>\n",
       "    <tr style=\"text-align: right;\">\n",
       "      <th></th>\n",
       "      <th>PassengerId</th>\n",
       "      <th>Survived</th>\n",
       "      <th>Pclass</th>\n",
       "      <th>Name</th>\n",
       "      <th>Sex</th>\n",
       "      <th>Age</th>\n",
       "      <th>SibSp</th>\n",
       "      <th>Parch</th>\n",
       "      <th>Ticket</th>\n",
       "      <th>Fare</th>\n",
       "      <th>Cabin</th>\n",
       "      <th>Embarked</th>\n",
       "      <th>CabinProcessed</th>\n",
       "      <th>Sex_enc</th>\n",
       "      <th>Embarked_enc</th>\n",
       "      <th>Children</th>\n",
       "      <th>Family</th>\n",
       "    </tr>\n",
       "  </thead>\n",
       "  <tbody>\n",
       "    <tr>\n",
       "      <th>0</th>\n",
       "      <td>1</td>\n",
       "      <td>0</td>\n",
       "      <td>3</td>\n",
       "      <td>Braund, Mr. Owen Harris</td>\n",
       "      <td>male</td>\n",
       "      <td>22.0</td>\n",
       "      <td>1</td>\n",
       "      <td>0</td>\n",
       "      <td>A/5 21171</td>\n",
       "      <td>7.2500</td>\n",
       "      <td>NaN</td>\n",
       "      <td>S</td>\n",
       "      <td>8</td>\n",
       "      <td>1</td>\n",
       "      <td>2</td>\n",
       "      <td>0</td>\n",
       "      <td>2</td>\n",
       "    </tr>\n",
       "    <tr>\n",
       "      <th>1</th>\n",
       "      <td>2</td>\n",
       "      <td>1</td>\n",
       "      <td>1</td>\n",
       "      <td>Cumings, Mrs. John Bradley (Florence Briggs Th...</td>\n",
       "      <td>female</td>\n",
       "      <td>38.0</td>\n",
       "      <td>1</td>\n",
       "      <td>0</td>\n",
       "      <td>PC 17599</td>\n",
       "      <td>71.2833</td>\n",
       "      <td>C85</td>\n",
       "      <td>C</td>\n",
       "      <td>2</td>\n",
       "      <td>0</td>\n",
       "      <td>0</td>\n",
       "      <td>0</td>\n",
       "      <td>2</td>\n",
       "    </tr>\n",
       "    <tr>\n",
       "      <th>2</th>\n",
       "      <td>3</td>\n",
       "      <td>1</td>\n",
       "      <td>3</td>\n",
       "      <td>Heikkinen, Miss. Laina</td>\n",
       "      <td>female</td>\n",
       "      <td>26.0</td>\n",
       "      <td>0</td>\n",
       "      <td>0</td>\n",
       "      <td>STON/O2. 3101282</td>\n",
       "      <td>7.9250</td>\n",
       "      <td>NaN</td>\n",
       "      <td>S</td>\n",
       "      <td>8</td>\n",
       "      <td>0</td>\n",
       "      <td>2</td>\n",
       "      <td>0</td>\n",
       "      <td>1</td>\n",
       "    </tr>\n",
       "    <tr>\n",
       "      <th>3</th>\n",
       "      <td>4</td>\n",
       "      <td>1</td>\n",
       "      <td>1</td>\n",
       "      <td>Futrelle, Mrs. Jacques Heath (Lily May Peel)</td>\n",
       "      <td>female</td>\n",
       "      <td>35.0</td>\n",
       "      <td>1</td>\n",
       "      <td>0</td>\n",
       "      <td>113803</td>\n",
       "      <td>53.1000</td>\n",
       "      <td>C123</td>\n",
       "      <td>S</td>\n",
       "      <td>2</td>\n",
       "      <td>0</td>\n",
       "      <td>2</td>\n",
       "      <td>0</td>\n",
       "      <td>2</td>\n",
       "    </tr>\n",
       "    <tr>\n",
       "      <th>4</th>\n",
       "      <td>5</td>\n",
       "      <td>0</td>\n",
       "      <td>3</td>\n",
       "      <td>Allen, Mr. William Henry</td>\n",
       "      <td>male</td>\n",
       "      <td>35.0</td>\n",
       "      <td>0</td>\n",
       "      <td>0</td>\n",
       "      <td>373450</td>\n",
       "      <td>8.0500</td>\n",
       "      <td>NaN</td>\n",
       "      <td>S</td>\n",
       "      <td>8</td>\n",
       "      <td>1</td>\n",
       "      <td>2</td>\n",
       "      <td>0</td>\n",
       "      <td>1</td>\n",
       "    </tr>\n",
       "  </tbody>\n",
       "</table>\n",
       "</div>"
      ],
      "text/plain": [
       "   PassengerId  Survived  Pclass  \\\n",
       "0            1         0       3   \n",
       "1            2         1       1   \n",
       "2            3         1       3   \n",
       "3            4         1       1   \n",
       "4            5         0       3   \n",
       "\n",
       "                                                Name     Sex   Age  SibSp  \\\n",
       "0                            Braund, Mr. Owen Harris    male  22.0      1   \n",
       "1  Cumings, Mrs. John Bradley (Florence Briggs Th...  female  38.0      1   \n",
       "2                             Heikkinen, Miss. Laina  female  26.0      0   \n",
       "3       Futrelle, Mrs. Jacques Heath (Lily May Peel)  female  35.0      1   \n",
       "4                           Allen, Mr. William Henry    male  35.0      0   \n",
       "\n",
       "   Parch            Ticket     Fare Cabin Embarked  CabinProcessed  Sex_enc  \\\n",
       "0      0         A/5 21171   7.2500   NaN        S               8        1   \n",
       "1      0          PC 17599  71.2833   C85        C               2        0   \n",
       "2      0  STON/O2. 3101282   7.9250   NaN        S               8        0   \n",
       "3      0            113803  53.1000  C123        S               2        0   \n",
       "4      0            373450   8.0500   NaN        S               8        1   \n",
       "\n",
       "   Embarked_enc  Children  Family  \n",
       "0             2         0       2  \n",
       "1             0         0       2  \n",
       "2             2         0       1  \n",
       "3             2         0       2  \n",
       "4             2         0       1  "
      ]
     },
     "execution_count": 22,
     "metadata": {},
     "output_type": "execute_result"
    }
   ],
   "source": [
    "df['Family'] = df['SibSp'] + df['Parch'] + 1\n",
    "df.head()"
   ]
  },
  {
   "cell_type": "markdown",
   "id": "2ca27bd2",
   "metadata": {
    "papermill": {
     "duration": 0.022213,
     "end_time": "2024-07-16T06:42:18.184925",
     "exception": false,
     "start_time": "2024-07-16T06:42:18.162712",
     "status": "completed"
    },
    "tags": []
   },
   "source": [
    "####  Removing redundant features\n",
    "\n",
    "Now, we can remove redundant features like `PassengerId`, `Name`, `Ticket` & `Fare`. Likewise `SibSp`, `Parch`, `Sex`, `Embarked` & `Cabin` will also be removed to avoid duplicate biases results."
   ]
  },
  {
   "cell_type": "code",
   "execution_count": 23,
   "id": "c5de5725",
   "metadata": {
    "execution": {
     "iopub.execute_input": "2024-07-16T06:42:18.231152Z",
     "iopub.status.busy": "2024-07-16T06:42:18.230758Z",
     "iopub.status.idle": "2024-07-16T06:42:18.245392Z",
     "shell.execute_reply": "2024-07-16T06:42:18.244325Z"
    },
    "papermill": {
     "duration": 0.040536,
     "end_time": "2024-07-16T06:42:18.247852",
     "exception": false,
     "start_time": "2024-07-16T06:42:18.207316",
     "status": "completed"
    },
    "tags": []
   },
   "outputs": [
    {
     "data": {
      "text/html": [
       "<div>\n",
       "<style scoped>\n",
       "    .dataframe tbody tr th:only-of-type {\n",
       "        vertical-align: middle;\n",
       "    }\n",
       "\n",
       "    .dataframe tbody tr th {\n",
       "        vertical-align: top;\n",
       "    }\n",
       "\n",
       "    .dataframe thead th {\n",
       "        text-align: right;\n",
       "    }\n",
       "</style>\n",
       "<table border=\"1\" class=\"dataframe\">\n",
       "  <thead>\n",
       "    <tr style=\"text-align: right;\">\n",
       "      <th></th>\n",
       "      <th>Survived</th>\n",
       "      <th>Pclass</th>\n",
       "      <th>Age</th>\n",
       "      <th>CabinProcessed</th>\n",
       "      <th>Sex_enc</th>\n",
       "      <th>Embarked_enc</th>\n",
       "      <th>Children</th>\n",
       "      <th>Family</th>\n",
       "    </tr>\n",
       "  </thead>\n",
       "  <tbody>\n",
       "    <tr>\n",
       "      <th>0</th>\n",
       "      <td>0</td>\n",
       "      <td>3</td>\n",
       "      <td>22.0</td>\n",
       "      <td>8</td>\n",
       "      <td>1</td>\n",
       "      <td>2</td>\n",
       "      <td>0</td>\n",
       "      <td>2</td>\n",
       "    </tr>\n",
       "    <tr>\n",
       "      <th>1</th>\n",
       "      <td>1</td>\n",
       "      <td>1</td>\n",
       "      <td>38.0</td>\n",
       "      <td>2</td>\n",
       "      <td>0</td>\n",
       "      <td>0</td>\n",
       "      <td>0</td>\n",
       "      <td>2</td>\n",
       "    </tr>\n",
       "    <tr>\n",
       "      <th>2</th>\n",
       "      <td>1</td>\n",
       "      <td>3</td>\n",
       "      <td>26.0</td>\n",
       "      <td>8</td>\n",
       "      <td>0</td>\n",
       "      <td>2</td>\n",
       "      <td>0</td>\n",
       "      <td>1</td>\n",
       "    </tr>\n",
       "    <tr>\n",
       "      <th>3</th>\n",
       "      <td>1</td>\n",
       "      <td>1</td>\n",
       "      <td>35.0</td>\n",
       "      <td>2</td>\n",
       "      <td>0</td>\n",
       "      <td>2</td>\n",
       "      <td>0</td>\n",
       "      <td>2</td>\n",
       "    </tr>\n",
       "    <tr>\n",
       "      <th>4</th>\n",
       "      <td>0</td>\n",
       "      <td>3</td>\n",
       "      <td>35.0</td>\n",
       "      <td>8</td>\n",
       "      <td>1</td>\n",
       "      <td>2</td>\n",
       "      <td>0</td>\n",
       "      <td>1</td>\n",
       "    </tr>\n",
       "  </tbody>\n",
       "</table>\n",
       "</div>"
      ],
      "text/plain": [
       "   Survived  Pclass   Age  CabinProcessed  Sex_enc  Embarked_enc  Children  \\\n",
       "0         0       3  22.0               8        1             2         0   \n",
       "1         1       1  38.0               2        0             0         0   \n",
       "2         1       3  26.0               8        0             2         0   \n",
       "3         1       1  35.0               2        0             2         0   \n",
       "4         0       3  35.0               8        1             2         0   \n",
       "\n",
       "   Family  \n",
       "0       2  \n",
       "1       2  \n",
       "2       1  \n",
       "3       2  \n",
       "4       1  "
      ]
     },
     "execution_count": 23,
     "metadata": {},
     "output_type": "execute_result"
    }
   ],
   "source": [
    "df1 = df.drop(columns=['Name', 'Sex', 'Cabin', 'Ticket', 'Fare', 'SibSp', 'Parch', 'Embarked', 'PassengerId'])\n",
    "df1.head()"
   ]
  },
  {
   "cell_type": "code",
   "execution_count": 24,
   "id": "331c015b",
   "metadata": {
    "execution": {
     "iopub.execute_input": "2024-07-16T06:42:18.295024Z",
     "iopub.status.busy": "2024-07-16T06:42:18.294032Z",
     "iopub.status.idle": "2024-07-16T06:42:18.306034Z",
     "shell.execute_reply": "2024-07-16T06:42:18.304851Z"
    },
    "papermill": {
     "duration": 0.03843,
     "end_time": "2024-07-16T06:42:18.308938",
     "exception": false,
     "start_time": "2024-07-16T06:42:18.270508",
     "status": "completed"
    },
    "tags": []
   },
   "outputs": [
    {
     "name": "stdout",
     "output_type": "stream",
     "text": [
      "<class 'pandas.core.frame.DataFrame'>\n",
      "RangeIndex: 891 entries, 0 to 890\n",
      "Data columns (total 8 columns):\n",
      " #   Column          Non-Null Count  Dtype  \n",
      "---  ------          --------------  -----  \n",
      " 0   Survived        891 non-null    int64  \n",
      " 1   Pclass          891 non-null    int64  \n",
      " 2   Age             891 non-null    float64\n",
      " 3   CabinProcessed  891 non-null    int8   \n",
      " 4   Sex_enc         891 non-null    int64  \n",
      " 5   Embarked_enc    891 non-null    int64  \n",
      " 6   Children        891 non-null    int64  \n",
      " 7   Family          891 non-null    int64  \n",
      "dtypes: float64(1), int64(6), int8(1)\n",
      "memory usage: 49.7 KB\n"
     ]
    }
   ],
   "source": [
    "df1.info()"
   ]
  },
  {
   "cell_type": "code",
   "execution_count": 25,
   "id": "42234ef4",
   "metadata": {
    "execution": {
     "iopub.execute_input": "2024-07-16T06:42:18.355855Z",
     "iopub.status.busy": "2024-07-16T06:42:18.355472Z",
     "iopub.status.idle": "2024-07-16T06:42:18.365900Z",
     "shell.execute_reply": "2024-07-16T06:42:18.364841Z"
    },
    "papermill": {
     "duration": 0.037103,
     "end_time": "2024-07-16T06:42:18.368600",
     "exception": false,
     "start_time": "2024-07-16T06:42:18.331497",
     "status": "completed"
    },
    "tags": []
   },
   "outputs": [
    {
     "data": {
      "text/plain": [
       "Survived\n",
       "0    0.616162\n",
       "1    0.383838\n",
       "Name: proportion, dtype: float64"
      ]
     },
     "execution_count": 25,
     "metadata": {},
     "output_type": "execute_result"
    }
   ],
   "source": [
    "# Checking the percentage of `Survived`\n",
    "\n",
    "df1['Survived'].value_counts(normalize=True)"
   ]
  },
  {
   "cell_type": "markdown",
   "id": "ba797cba",
   "metadata": {
    "papermill": {
     "duration": 0.023497,
     "end_time": "2024-07-16T06:42:18.415109",
     "exception": false,
     "start_time": "2024-07-16T06:42:18.391612",
     "status": "completed"
    },
    "tags": []
   },
   "source": [
    "### Modelling\n",
    "\n",
    "**Now the data has been prepared, we can finally start on the modelling.**\n",
    "\n",
    "#### Type of prediction task:\n",
    "\n",
    "The goal is to predict whether a passenger survives the Titanic, which is a categorical outcome variable. So this task invovles classification, more specifically, ***binary classification***. `Survived` can either be 0 (did not survived) or 1 (survived).\n",
    "\n",
    "#### Types of model suitable for this task:\n",
    "\n",
    "Since the outcome variable is categorical, there are a few approaches we can take & determine how they compare:\n",
    "- **Logistic Regression**\n",
    "- **DecisionTree**\n",
    "- **RandomForestClassifier**\n",
    "- **XGBoost Classifier**\n",
    "\n",
    "In order to decide which scoring metric should be used, we should further understand the consequences of the model predicting the wrong value:\n",
    "- **False Positive**: Assumes the passenger did survive when indeed they did not.\n",
    "- **False Negative**: Assumes the passenger did died but actually survived."
   ]
  },
  {
   "cell_type": "markdown",
   "id": "3b859fb7",
   "metadata": {
    "papermill": {
     "duration": 0.022462,
     "end_time": "2024-07-16T06:42:18.460369",
     "exception": false,
     "start_time": "2024-07-16T06:42:18.437907",
     "status": "completed"
    },
    "tags": []
   },
   "source": [
    "#### Defining a function to save Metric Scores of all models\n",
    "\n",
    "This function will create a dictionary that will include:\n",
    "- **Model's Name**\n",
    "- **Accuracy Score**\n",
    "- **Recall Score**\n",
    "- **Precision Score**\n",
    "- **F1 Score**\n",
    "- **ROC_AUC**"
   ]
  },
  {
   "cell_type": "code",
   "execution_count": 26,
   "id": "daf0f0d1",
   "metadata": {
    "execution": {
     "iopub.execute_input": "2024-07-16T06:42:18.509515Z",
     "iopub.status.busy": "2024-07-16T06:42:18.509111Z",
     "iopub.status.idle": "2024-07-16T06:42:18.516150Z",
     "shell.execute_reply": "2024-07-16T06:42:18.514976Z"
    },
    "papermill": {
     "duration": 0.035238,
     "end_time": "2024-07-16T06:42:18.518542",
     "exception": false,
     "start_time": "2024-07-16T06:42:18.483304",
     "status": "completed"
    },
    "tags": []
   },
   "outputs": [],
   "source": [
    "def calculate_metrics(y_true, y_pred, model_name):\n",
    "    metrics = {\n",
    "        'Model': model_name,\n",
    "        'Accuracy': accuracy_score(y_true, y_pred),\n",
    "        'Recall': recall_score(y_true, y_pred),\n",
    "        'Precision': precision_score(y_true, y_pred),\n",
    "        'F1 Score': f1_score(y_true, y_pred),\n",
    "        'ROC AUC': roc_auc_score(y_true, y_pred)\n",
    "    }\n",
    "    return metrics\n",
    "\n",
    "def save_metrics_to_dataframe(log_reg_metrics, other_models_metrics):\n",
    "    # Convert lists of dictionaries to DataFrames\n",
    "    log_reg_metrics_df = pd.DataFrame(log_reg_metrics)\n",
    "    other_models_metrics_df = pd.DataFrame(other_models_metrics)\n",
    "    \n",
    "    # Concatenate DataFrames\n",
    "    combined_metrics_df = pd.concat([log_reg_metrics_df, other_models_metrics_df], ignore_index=True)\n",
    "    \n",
    "    return combined_metrics_df"
   ]
  },
  {
   "cell_type": "code",
   "execution_count": 27,
   "id": "b848e582",
   "metadata": {
    "execution": {
     "iopub.execute_input": "2024-07-16T06:42:18.566708Z",
     "iopub.status.busy": "2024-07-16T06:42:18.566298Z",
     "iopub.status.idle": "2024-07-16T06:42:19.048665Z",
     "shell.execute_reply": "2024-07-16T06:42:19.047223Z"
    },
    "papermill": {
     "duration": 0.510157,
     "end_time": "2024-07-16T06:42:19.051672",
     "exception": false,
     "start_time": "2024-07-16T06:42:18.541515",
     "status": "completed"
    },
    "tags": []
   },
   "outputs": [
    {
     "data": {
      "image/png": "[encoded data removed]",
      "text/plain": [
       "<Figure size 800x600 with 2 Axes>"
      ]
     },
     "metadata": {},
     "output_type": "display_data"
    }
   ],
   "source": [
    "# Create a heatmap to see how correlated the variables are\n",
    "\n",
    "plt.figure(figsize=(8,6))\n",
    "sns.heatmap(df1[['Pclass', 'Age', 'CabinProcessed', 'Sex_enc', 'Embarked_enc',\n",
    "                 'Children', 'Family']].corr(), annot=True, cmap='crest')\n",
    "plt.title('Heatmap of training dataset')\n",
    "plt.show()"
   ]
  },
  {
   "cell_type": "markdown",
   "id": "3cd6b7d7",
   "metadata": {
    "papermill": {
     "duration": 0.025892,
     "end_time": "2024-07-16T06:42:19.101783",
     "exception": false,
     "start_time": "2024-07-16T06:42:19.075891",
     "status": "completed"
    },
    "tags": []
   },
   "source": [
    "#### Splitting the target & predictor features"
   ]
  },
  {
   "cell_type": "code",
   "execution_count": 28,
   "id": "2d01a6ad",
   "metadata": {
    "execution": {
     "iopub.execute_input": "2024-07-16T06:42:19.153048Z",
     "iopub.status.busy": "2024-07-16T06:42:19.152068Z",
     "iopub.status.idle": "2024-07-16T06:42:19.160925Z",
     "shell.execute_reply": "2024-07-16T06:42:19.159731Z"
    },
    "papermill": {
     "duration": 0.03742,
     "end_time": "2024-07-16T06:42:19.163322",
     "exception": false,
     "start_time": "2024-07-16T06:42:19.125902",
     "status": "completed"
    },
    "tags": []
   },
   "outputs": [
    {
     "data": {
      "text/plain": [
       "0    0\n",
       "1    1\n",
       "2    1\n",
       "3    1\n",
       "4    0\n",
       "Name: Survived, dtype: int64"
      ]
     },
     "execution_count": 28,
     "metadata": {},
     "output_type": "execute_result"
    }
   ],
   "source": [
    "# Isolating the outcome variable\n",
    "y = df1['Survived']\n",
    "y.head()"
   ]
  },
  {
   "cell_type": "code",
   "execution_count": 29,
   "id": "6028245e",
   "metadata": {
    "execution": {
     "iopub.execute_input": "2024-07-16T06:42:19.214588Z",
     "iopub.status.busy": "2024-07-16T06:42:19.213392Z",
     "iopub.status.idle": "2024-07-16T06:42:19.228206Z",
     "shell.execute_reply": "2024-07-16T06:42:19.226969Z"
    },
    "papermill": {
     "duration": 0.043055,
     "end_time": "2024-07-16T06:42:19.230714",
     "exception": false,
     "start_time": "2024-07-16T06:42:19.187659",
     "status": "completed"
    },
    "tags": []
   },
   "outputs": [
    {
     "data": {
      "text/html": [
       "<div>\n",
       "<style scoped>\n",
       "    .dataframe tbody tr th:only-of-type {\n",
       "        vertical-align: middle;\n",
       "    }\n",
       "\n",
       "    .dataframe tbody tr th {\n",
       "        vertical-align: top;\n",
       "    }\n",
       "\n",
       "    .dataframe thead th {\n",
       "        text-align: right;\n",
       "    }\n",
       "</style>\n",
       "<table border=\"1\" class=\"dataframe\">\n",
       "  <thead>\n",
       "    <tr style=\"text-align: right;\">\n",
       "      <th></th>\n",
       "      <th>Pclass</th>\n",
       "      <th>Age</th>\n",
       "      <th>CabinProcessed</th>\n",
       "      <th>Sex_enc</th>\n",
       "      <th>Embarked_enc</th>\n",
       "      <th>Children</th>\n",
       "      <th>Family</th>\n",
       "    </tr>\n",
       "  </thead>\n",
       "  <tbody>\n",
       "    <tr>\n",
       "      <th>0</th>\n",
       "      <td>3</td>\n",
       "      <td>22.0</td>\n",
       "      <td>8</td>\n",
       "      <td>1</td>\n",
       "      <td>2</td>\n",
       "      <td>0</td>\n",
       "      <td>2</td>\n",
       "    </tr>\n",
       "    <tr>\n",
       "      <th>1</th>\n",
       "      <td>1</td>\n",
       "      <td>38.0</td>\n",
       "      <td>2</td>\n",
       "      <td>0</td>\n",
       "      <td>0</td>\n",
       "      <td>0</td>\n",
       "      <td>2</td>\n",
       "    </tr>\n",
       "    <tr>\n",
       "      <th>2</th>\n",
       "      <td>3</td>\n",
       "      <td>26.0</td>\n",
       "      <td>8</td>\n",
       "      <td>0</td>\n",
       "      <td>2</td>\n",
       "      <td>0</td>\n",
       "      <td>1</td>\n",
       "    </tr>\n",
       "    <tr>\n",
       "      <th>3</th>\n",
       "      <td>1</td>\n",
       "      <td>35.0</td>\n",
       "      <td>2</td>\n",
       "      <td>0</td>\n",
       "      <td>2</td>\n",
       "      <td>0</td>\n",
       "      <td>2</td>\n",
       "    </tr>\n",
       "    <tr>\n",
       "      <th>4</th>\n",
       "      <td>3</td>\n",
       "      <td>35.0</td>\n",
       "      <td>8</td>\n",
       "      <td>1</td>\n",
       "      <td>2</td>\n",
       "      <td>0</td>\n",
       "      <td>1</td>\n",
       "    </tr>\n",
       "  </tbody>\n",
       "</table>\n",
       "</div>"
      ],
      "text/plain": [
       "   Pclass   Age  CabinProcessed  Sex_enc  Embarked_enc  Children  Family\n",
       "0       3  22.0               8        1             2         0       2\n",
       "1       1  38.0               2        0             0         0       2\n",
       "2       3  26.0               8        0             2         0       1\n",
       "3       1  35.0               2        0             2         0       2\n",
       "4       3  35.0               8        1             2         0       1"
      ]
     },
     "execution_count": 29,
     "metadata": {},
     "output_type": "execute_result"
    }
   ],
   "source": [
    "# Selecting features to be used\n",
    "X = df1.drop('Survived', axis=1)\n",
    "X.head()"
   ]
  },
  {
   "cell_type": "markdown",
   "id": "a9d68fc3",
   "metadata": {
    "papermill": {
     "duration": 0.02376,
     "end_time": "2024-07-16T06:42:19.278742",
     "exception": false,
     "start_time": "2024-07-16T06:42:19.254982",
     "status": "completed"
    },
    "tags": []
   },
   "source": [
    "Creating a DataFrame to store the scoring metrics of Logistic Regression"
   ]
  },
  {
   "cell_type": "code",
   "execution_count": 30,
   "id": "3e781810",
   "metadata": {
    "execution": {
     "iopub.execute_input": "2024-07-16T06:42:19.329696Z",
     "iopub.status.busy": "2024-07-16T06:42:19.329276Z",
     "iopub.status.idle": "2024-07-16T06:42:19.338866Z",
     "shell.execute_reply": "2024-07-16T06:42:19.337756Z"
    },
    "papermill": {
     "duration": 0.038389,
     "end_time": "2024-07-16T06:42:19.341395",
     "exception": false,
     "start_time": "2024-07-16T06:42:19.303006",
     "status": "completed"
    },
    "tags": []
   },
   "outputs": [],
   "source": [
    "# Split the training and validation sets\n",
    "X_train, X_val, y_train, y_val = train_test_split(X, y, test_size=0.2, random_state=42)"
   ]
  },
  {
   "cell_type": "markdown",
   "id": "f68eb039",
   "metadata": {
    "papermill": {
     "duration": 0.023821,
     "end_time": "2024-07-16T06:42:19.389464",
     "exception": false,
     "start_time": "2024-07-16T06:42:19.365643",
     "status": "completed"
    },
    "tags": []
   },
   "source": [
    "### Logistic Regression\n",
    "\n",
    "This section will focus on **Logistic Regression (LR)**. In order for a fair comparision between models, we shall use `GridSearchCV` for all models and evaluate the scores before applying it on the test dataset."
   ]
  },
  {
   "cell_type": "code",
   "execution_count": 31,
   "id": "f8d788c8",
   "metadata": {
    "execution": {
     "iopub.execute_input": "2024-07-16T06:42:19.440025Z",
     "iopub.status.busy": "2024-07-16T06:42:19.439607Z",
     "iopub.status.idle": "2024-07-16T06:42:19.997712Z",
     "shell.execute_reply": "2024-07-16T06:42:19.996337Z"
    },
    "papermill": {
     "duration": 0.586471,
     "end_time": "2024-07-16T06:42:20.000309",
     "exception": false,
     "start_time": "2024-07-16T06:42:19.413838",
     "status": "completed"
    },
    "tags": []
   },
   "outputs": [
    {
     "name": "stdout",
     "output_type": "stream",
     "text": [
      "Logistic Regression Validation Metrics: \n",
      "{'Model': 'Logistic Regression', 'Accuracy': 0.8156424581005587, 'Recall': 0.7567567567567568, 'Precision': 0.7887323943661971, 'F1 Score': 0.7724137931034482, 'ROC AUC': 0.806949806949807}\n"
     ]
    }
   ],
   "source": [
    "# Define parameter grid for Logistic Regression\n",
    "param_grid_log_reg = {\n",
    "    'C': [0.001, 0.01, 0.1, 1, 10, 100],\n",
    "    'penalty': ['l2']\n",
    "}\n",
    "\n",
    "# Construct the Logistic Regression and fit into training dataset\n",
    "log_reg = LogisticRegression(solver='lbfgs', max_iter=1000)\n",
    "\n",
    "# GridSearchCV for Logistic Regression\n",
    "grid_log_reg = GridSearchCV(log_reg, param_grid_log_reg, cv=5, scoring='accuracy')\n",
    "grid_log_reg.fit(X_train, y_train)\n",
    "\n",
    "# Best Logistic Regression hyperparameters\n",
    "best_log_reg = grid_log_reg.best_estimator_\n",
    "\n",
    "# Get predictions on validation set\n",
    "log_reg_val_pred = best_log_reg.predict(X_val)\n",
    "\n",
    "# Evaluation metrics for validation set\n",
    "log_reg_metrics = calculate_metrics(y_val, log_reg_val_pred, 'Logistic Regression')\n",
    "\n",
    "print('Logistic Regression Validation Metrics: ')\n",
    "print(log_reg_metrics)"
   ]
  },
  {
   "cell_type": "markdown",
   "id": "a5643e70",
   "metadata": {
    "papermill": {
     "duration": 0.023917,
     "end_time": "2024-07-16T06:42:20.048374",
     "exception": false,
     "start_time": "2024-07-16T06:42:20.024457",
     "status": "completed"
    },
    "tags": []
   },
   "source": [
    "### Decision Tree, Random Forest, XGBoost Classifier\n",
    "\n",
    "This section covers the modelling, training and validating **Decision Tree, Random Forest, XGBoost Classifier** with `GridSearchCV`"
   ]
  },
  {
   "cell_type": "code",
   "execution_count": 32,
   "id": "e8567059",
   "metadata": {
    "execution": {
     "iopub.execute_input": "2024-07-16T06:42:20.100984Z",
     "iopub.status.busy": "2024-07-16T06:42:20.100563Z",
     "iopub.status.idle": "2024-07-16T06:42:37.392586Z",
     "shell.execute_reply": "2024-07-16T06:42:37.391650Z"
    },
    "papermill": {
     "duration": 17.322343,
     "end_time": "2024-07-16T06:42:37.394984",
     "exception": false,
     "start_time": "2024-07-16T06:42:20.072641",
     "status": "completed"
    },
    "tags": []
   },
   "outputs": [],
   "source": [
    "# Define parameter grids for other models\n",
    "param_grid_dec_tree = {'max_depth': [None, 10, 20, 30], 'min_samples_split': [2, 10, 20]}\n",
    "param_grid_rf = {'n_estimators': [100, 200], 'max_depth': [None, 10, 20]}\n",
    "param_grid_xgb = {'n_estimators': [100, 200], 'max_depth': [3, 6, 9], 'learning_rate': [0.01, 0.1, 0.2]}\n",
    "\n",
    "# Decision Tree\n",
    "grid_dec_tree = GridSearchCV(DecisionTreeClassifier(), param_grid_dec_tree, cv=5, scoring='accuracy')\n",
    "grid_dec_tree.fit(X_train, y_train)\n",
    "best_dec_tree = grid_dec_tree.best_estimator_\n",
    "\n",
    "# Random Forest\n",
    "grid_rf = GridSearchCV(RandomForestClassifier(), param_grid_rf, cv=5, scoring='accuracy')\n",
    "grid_rf.fit(X_train, y_train)\n",
    "best_rf = grid_rf.best_estimator_\n",
    "\n",
    "# XGBoost\n",
    "grid_xgb = GridSearchCV(XGBClassifier(), param_grid_xgb, cv=5, scoring='accuracy')\n",
    "grid_xgb.fit(X_train, y_train)\n",
    "best_xgb = grid_xgb.best_estimator_"
   ]
  },
  {
   "cell_type": "code",
   "execution_count": 33,
   "id": "f073b9e2",
   "metadata": {
    "execution": {
     "iopub.execute_input": "2024-07-16T06:42:37.447494Z",
     "iopub.status.busy": "2024-07-16T06:42:37.447075Z",
     "iopub.status.idle": "2024-07-16T06:42:37.495081Z",
     "shell.execute_reply": "2024-07-16T06:42:37.493715Z"
    },
    "papermill": {
     "duration": 0.077777,
     "end_time": "2024-07-16T06:42:37.497860",
     "exception": false,
     "start_time": "2024-07-16T06:42:37.420083",
     "status": "completed"
    },
    "tags": []
   },
   "outputs": [],
   "source": [
    "# Predictions on validation set for other models\n",
    "dec_tree_val_predictions = best_dec_tree.predict(X_val)\n",
    "rf_val_predictions = best_rf.predict(X_val)\n",
    "xgb_val_predictions = best_xgb.predict(X_val)\n",
    "\n",
    "# Evaluation metrics for other models on validation set\n",
    "dec_tree_metrics = calculate_metrics(y_val, dec_tree_val_predictions, 'Decision Tree')\n",
    "rf_metrics = calculate_metrics(y_val, rf_val_predictions, 'Random Forest')\n",
    "xgb_metrics = calculate_metrics(y_val, xgb_val_predictions, 'XGBoost')"
   ]
  },
  {
   "cell_type": "code",
   "execution_count": 34,
   "id": "d2abf45e",
   "metadata": {
    "execution": {
     "iopub.execute_input": "2024-07-16T06:42:37.549155Z",
     "iopub.status.busy": "2024-07-16T06:42:37.548788Z",
     "iopub.status.idle": "2024-07-16T06:42:37.565629Z",
     "shell.execute_reply": "2024-07-16T06:42:37.564185Z"
    },
    "papermill": {
     "duration": 0.046131,
     "end_time": "2024-07-16T06:42:37.568643",
     "exception": false,
     "start_time": "2024-07-16T06:42:37.522512",
     "status": "completed"
    },
    "tags": []
   },
   "outputs": [
    {
     "data": {
      "text/html": [
       "<div>\n",
       "<style scoped>\n",
       "    .dataframe tbody tr th:only-of-type {\n",
       "        vertical-align: middle;\n",
       "    }\n",
       "\n",
       "    .dataframe tbody tr th {\n",
       "        vertical-align: top;\n",
       "    }\n",
       "\n",
       "    .dataframe thead th {\n",
       "        text-align: right;\n",
       "    }\n",
       "</style>\n",
       "<table border=\"1\" class=\"dataframe\">\n",
       "  <thead>\n",
       "    <tr style=\"text-align: right;\">\n",
       "      <th></th>\n",
       "      <th>Model</th>\n",
       "      <th>Accuracy</th>\n",
       "      <th>Recall</th>\n",
       "      <th>Precision</th>\n",
       "      <th>F1 Score</th>\n",
       "      <th>ROC AUC</th>\n",
       "    </tr>\n",
       "  </thead>\n",
       "  <tbody>\n",
       "    <tr>\n",
       "      <th>0</th>\n",
       "      <td>Logistic Regression</td>\n",
       "      <td>0.815642</td>\n",
       "      <td>0.756757</td>\n",
       "      <td>0.788732</td>\n",
       "      <td>0.772414</td>\n",
       "      <td>0.806950</td>\n",
       "    </tr>\n",
       "    <tr>\n",
       "      <th>1</th>\n",
       "      <td>Decision Tree</td>\n",
       "      <td>0.782123</td>\n",
       "      <td>0.716216</td>\n",
       "      <td>0.746479</td>\n",
       "      <td>0.731034</td>\n",
       "      <td>0.772394</td>\n",
       "    </tr>\n",
       "    <tr>\n",
       "      <th>2</th>\n",
       "      <td>Random Forest</td>\n",
       "      <td>0.782123</td>\n",
       "      <td>0.743243</td>\n",
       "      <td>0.733333</td>\n",
       "      <td>0.738255</td>\n",
       "      <td>0.776384</td>\n",
       "    </tr>\n",
       "    <tr>\n",
       "      <th>3</th>\n",
       "      <td>XGBoost</td>\n",
       "      <td>0.821229</td>\n",
       "      <td>0.689189</td>\n",
       "      <td>0.850000</td>\n",
       "      <td>0.761194</td>\n",
       "      <td>0.801737</td>\n",
       "    </tr>\n",
       "  </tbody>\n",
       "</table>\n",
       "</div>"
      ],
      "text/plain": [
       "                 Model  Accuracy    Recall  Precision  F1 Score   ROC AUC\n",
       "0  Logistic Regression  0.815642  0.756757   0.788732  0.772414  0.806950\n",
       "1        Decision Tree  0.782123  0.716216   0.746479  0.731034  0.772394\n",
       "2        Random Forest  0.782123  0.743243   0.733333  0.738255  0.776384\n",
       "3              XGBoost  0.821229  0.689189   0.850000  0.761194  0.801737"
      ]
     },
     "execution_count": 34,
     "metadata": {},
     "output_type": "execute_result"
    }
   ],
   "source": [
    "# Combine metrics into a single DataFrame\n",
    "combined_metrics_df = save_metrics_to_dataframe([log_reg_metrics], [dec_tree_metrics, rf_metrics, xgb_metrics])\n",
    "\n",
    "# Print or use the combined metrics DataFrame\n",
    "combined_metrics_df"
   ]
  },
  {
   "cell_type": "markdown",
   "id": "45e93066",
   "metadata": {
    "papermill": {
     "duration": 0.026202,
     "end_time": "2024-07-16T06:42:37.621718",
     "exception": false,
     "start_time": "2024-07-16T06:42:37.595516",
     "status": "completed"
    },
    "tags": []
   },
   "source": [
    "### Selecting Champion Model\n",
    "\n",
    "Above shows the scoring metrics of Logistic Regression, Decision Tree, Random Forest & XGBoost. \n",
    "\n",
    "Overall **XGBoost** model outperformed the other models in all scoring metrics with the exception of `Recall`, which lost to **Random Forest** by **0.041**, which is considered not that significant.\n",
    "\n",
    "XGBoost model scoring metrics were:\n",
    "- `Accuracy`: 0.822\n",
    "- `Recall`: 0.689\n",
    "- `Precision`: 0.850\n",
    "- `F1 Score`: 0.761\n",
    "- `ROC_AUC`: 0.802\n",
    "\n",
    "Therefore, **XGBoost** shall be selected to predict on the test dataset to determine whether a passenger survives the titanic or not."
   ]
  },
  {
   "cell_type": "markdown",
   "id": "44113b41",
   "metadata": {
    "papermill": {
     "duration": 0.025762,
     "end_time": "2024-07-16T06:42:37.674346",
     "exception": false,
     "start_time": "2024-07-16T06:42:37.648584",
     "status": "completed"
    },
    "tags": []
   },
   "source": [
    "#### Confusion Matrix\n",
    "\n",
    "A confusion matrix can give some insights on how the **XGBoost** model predicted on the validation set, giving a quantifiable score on how many of its predictions were correct and wrong. "
   ]
  },
  {
   "cell_type": "code",
   "execution_count": 35,
   "id": "b7755c16",
   "metadata": {
    "execution": {
     "iopub.execute_input": "2024-07-16T06:42:37.728855Z",
     "iopub.status.busy": "2024-07-16T06:42:37.728456Z",
     "iopub.status.idle": "2024-07-16T06:42:38.039167Z",
     "shell.execute_reply": "2024-07-16T06:42:38.037799Z"
    },
    "papermill": {
     "duration": 0.34106,
     "end_time": "2024-07-16T06:42:38.041787",
     "exception": false,
     "start_time": "2024-07-16T06:42:37.700727",
     "status": "completed"
    },
    "tags": []
   },
   "outputs": [
    {
     "data": {
      "image/png": "[encoded data removed]",
      "text/plain": [
       "<Figure size 640x480 with 2 Axes>"
      ]
     },
     "metadata": {},
     "output_type": "display_data"
    }
   ],
   "source": [
    "# Confusion Matrix\n",
    "preds = best_xgb.predict(X_val)\n",
    "\n",
    "cm = confusion_matrix(y_val, preds, labels=grid_xgb.classes_)\n",
    "disp = ConfusionMatrixDisplay(confusion_matrix=cm, display_labels=grid_xgb.classes_)\n",
    "disp.plot(values_format='');"
   ]
  },
  {
   "cell_type": "markdown",
   "id": "2a091e4b",
   "metadata": {
    "papermill": {
     "duration": 0.025799,
     "end_time": "2024-07-16T06:42:38.093124",
     "exception": false,
     "start_time": "2024-07-16T06:42:38.067325",
     "status": "completed"
    },
    "tags": []
   },
   "source": [
    "#### Confusion Matrix Parameters\n",
    "- **True Negatives** (Top Left): Correctly predicted passenger did not survive.\n",
    "- **False Positive** (Top Right): Wrongly predicted passenger survived but actually did not.\n",
    "- **True Positives** (Bottom Right): Correctly predicted passenger did survive.\n",
    "- **False Negatives** (Bottom Left): Wrongly predicted passenger did not survive but actually did.\n",
    "\n",
    "Based on the validation sets, the **XGboost** model predicted False Positives and False Negatives, 9 & 23, respectively. This number is quite small compared to the True Positives & True Negatives, which indicates this is a fairly good model. This is further supported with the fairly good scoring metrics too."
   ]
  },
  {
   "cell_type": "markdown",
   "id": "e6cb2049",
   "metadata": {
    "papermill": {
     "duration": 0.024622,
     "end_time": "2024-07-16T06:42:38.145294",
     "exception": false,
     "start_time": "2024-07-16T06:42:38.120672",
     "status": "completed"
    },
    "tags": []
   },
   "source": [
    "#### Feature Importance\n",
    "\n",
    "Digging a little into how the **XGBoost** model performed, using **Feature Importance**, we can get some insights on which features influence the most in terms whether or not a passenger surives."
   ]
  },
  {
   "cell_type": "code",
   "execution_count": 36,
   "id": "eb97a404",
   "metadata": {
    "execution": {
     "iopub.execute_input": "2024-07-16T06:42:38.201012Z",
     "iopub.status.busy": "2024-07-16T06:42:38.200592Z",
     "iopub.status.idle": "2024-07-16T06:42:38.480189Z",
     "shell.execute_reply": "2024-07-16T06:42:38.478968Z"
    },
    "papermill": {
     "duration": 0.310142,
     "end_time": "2024-07-16T06:42:38.482899",
     "exception": false,
     "start_time": "2024-07-16T06:42:38.172757",
     "status": "completed"
    },
    "tags": []
   },
   "outputs": [
    {
     "data": {
      "image/png": "[encoded data removed]",
      "text/plain": [
       "<Figure size 1000x600 with 1 Axes>"
      ]
     },
     "metadata": {},
     "output_type": "display_data"
    }
   ],
   "source": [
    "# Get feature importance from the Random Forest model\n",
    "feature_importances = best_xgb.feature_importances_\n",
    "features = X.columns\n",
    "\n",
    "# Create a DataFrame for visualization\n",
    "feature_importance_df = pd.DataFrame({'Feature': features, 'Importance': feature_importances})\n",
    "feature_importance_df = feature_importance_df.sort_values(by='Importance', ascending=False)\n",
    "\n",
    "# Plot the feature importances\n",
    "plt.figure(figsize=(10, 6))\n",
    "sns.barplot(x='Importance', y='Feature', data=feature_importance_df)\n",
    "plt.title('Feature Importances - XGBoost')\n",
    "plt.show()"
   ]
  },
  {
   "cell_type": "markdown",
   "id": "9dbcd382",
   "metadata": {
    "papermill": {
     "duration": 0.025329,
     "end_time": "2024-07-16T06:42:38.533703",
     "exception": false,
     "start_time": "2024-07-16T06:42:38.508374",
     "status": "completed"
    },
    "tags": []
   },
   "source": [
    "Above shows the feature importance of the XGBoost model. It illustrates which features influenced the outcome variable `Survived` the most.\n",
    "\n",
    "The top 3 features are `Sex_enc`, `Pclass`, and `CabinProcessed`. This is surprising as it was initially thought that `Children` might play a bigger role in survivability of a passenger."
   ]
  },
  {
   "cell_type": "markdown",
   "id": "08a32942",
   "metadata": {
    "papermill": {
     "duration": 0.026086,
     "end_time": "2024-07-16T06:42:38.585125",
     "exception": false,
     "start_time": "2024-07-16T06:42:38.559039",
     "status": "completed"
    },
    "tags": []
   },
   "source": [
    "### Applying to Test Dataset\n",
    "\n",
    "The test dataset shall go through the same preprocessing, and encoding.\n",
    "\n",
    "To recap, here are the steps we took earlier on the `train_data` were:\n",
    "#### 1) Exploratory Data Analysis (EDA)     \n",
    "  - Checked the dtyes of the features with `info`\n",
    "  - Checked for missing & duplicated data in the features\n",
    "  - Dealt with missing data either by aggregating with mean values/dropping\n",
    "  - Extracted the first letter of `Cabin`, categorized & gave them hierarchy with `cat.codes`\n",
    "  - \n",
    "  - Converted features into numerical dtypes\n",
    "  \n",
    "#### 2) Feature Engineering\n",
    "  - Added `Children` & `Family` features\n",
    "  - Removed redundant features\n",
    "  \n",
    "#### 3) Modelling\n",
    "  - In this case, we shall apply Random Forest on the `test_data` & evaluate the scoring metrics"
   ]
  },
  {
   "cell_type": "markdown",
   "id": "d5b7b06f",
   "metadata": {
    "papermill": {
     "duration": 0.025076,
     "end_time": "2024-07-16T06:42:38.635709",
     "exception": false,
     "start_time": "2024-07-16T06:42:38.610633",
     "status": "completed"
    },
    "tags": []
   },
   "source": [
    "### 1) Exploratory Data Analysis\n",
    "\n",
    "Exploratory Data Analysis is done to get a better understanding of the test dataset, before data cleaning, labelling, encoding & feature engineering."
   ]
  },
  {
   "cell_type": "code",
   "execution_count": 37,
   "id": "dbcb2fa2",
   "metadata": {
    "execution": {
     "iopub.execute_input": "2024-07-16T06:42:38.689018Z",
     "iopub.status.busy": "2024-07-16T06:42:38.688606Z",
     "iopub.status.idle": "2024-07-16T06:42:38.694512Z",
     "shell.execute_reply": "2024-07-16T06:42:38.693290Z"
    },
    "papermill": {
     "duration": 0.035263,
     "end_time": "2024-07-16T06:42:38.697060",
     "exception": false,
     "start_time": "2024-07-16T06:42:38.661797",
     "status": "completed"
    },
    "tags": []
   },
   "outputs": [],
   "source": [
    "df_test = test_data.copy()"
   ]
  },
  {
   "cell_type": "code",
   "execution_count": 38,
   "id": "f7a67824",
   "metadata": {
    "execution": {
     "iopub.execute_input": "2024-07-16T06:42:38.750101Z",
     "iopub.status.busy": "2024-07-16T06:42:38.749700Z",
     "iopub.status.idle": "2024-07-16T06:42:38.768040Z",
     "shell.execute_reply": "2024-07-16T06:42:38.766674Z"
    },
    "papermill": {
     "duration": 0.047972,
     "end_time": "2024-07-16T06:42:38.770638",
     "exception": false,
     "start_time": "2024-07-16T06:42:38.722666",
     "status": "completed"
    },
    "tags": []
   },
   "outputs": [
    {
     "data": {
      "text/html": [
       "<div>\n",
       "<style scoped>\n",
       "    .dataframe tbody tr th:only-of-type {\n",
       "        vertical-align: middle;\n",
       "    }\n",
       "\n",
       "    .dataframe tbody tr th {\n",
       "        vertical-align: top;\n",
       "    }\n",
       "\n",
       "    .dataframe thead th {\n",
       "        text-align: right;\n",
       "    }\n",
       "</style>\n",
       "<table border=\"1\" class=\"dataframe\">\n",
       "  <thead>\n",
       "    <tr style=\"text-align: right;\">\n",
       "      <th></th>\n",
       "      <th>PassengerId</th>\n",
       "      <th>Pclass</th>\n",
       "      <th>Name</th>\n",
       "      <th>Sex</th>\n",
       "      <th>Age</th>\n",
       "      <th>SibSp</th>\n",
       "      <th>Parch</th>\n",
       "      <th>Ticket</th>\n",
       "      <th>Fare</th>\n",
       "      <th>Cabin</th>\n",
       "      <th>Embarked</th>\n",
       "    </tr>\n",
       "  </thead>\n",
       "  <tbody>\n",
       "    <tr>\n",
       "      <th>0</th>\n",
       "      <td>892</td>\n",
       "      <td>3</td>\n",
       "      <td>Kelly, Mr. James</td>\n",
       "      <td>male</td>\n",
       "      <td>34.5</td>\n",
       "      <td>0</td>\n",
       "      <td>0</td>\n",
       "      <td>330911</td>\n",
       "      <td>7.8292</td>\n",
       "      <td>NaN</td>\n",
       "      <td>Q</td>\n",
       "    </tr>\n",
       "    <tr>\n",
       "      <th>1</th>\n",
       "      <td>893</td>\n",
       "      <td>3</td>\n",
       "      <td>Wilkes, Mrs. James (Ellen Needs)</td>\n",
       "      <td>female</td>\n",
       "      <td>47.0</td>\n",
       "      <td>1</td>\n",
       "      <td>0</td>\n",
       "      <td>363272</td>\n",
       "      <td>7.0000</td>\n",
       "      <td>NaN</td>\n",
       "      <td>S</td>\n",
       "    </tr>\n",
       "    <tr>\n",
       "      <th>2</th>\n",
       "      <td>894</td>\n",
       "      <td>2</td>\n",
       "      <td>Myles, Mr. Thomas Francis</td>\n",
       "      <td>male</td>\n",
       "      <td>62.0</td>\n",
       "      <td>0</td>\n",
       "      <td>0</td>\n",
       "      <td>240276</td>\n",
       "      <td>9.6875</td>\n",
       "      <td>NaN</td>\n",
       "      <td>Q</td>\n",
       "    </tr>\n",
       "    <tr>\n",
       "      <th>3</th>\n",
       "      <td>895</td>\n",
       "      <td>3</td>\n",
       "      <td>Wirz, Mr. Albert</td>\n",
       "      <td>male</td>\n",
       "      <td>27.0</td>\n",
       "      <td>0</td>\n",
       "      <td>0</td>\n",
       "      <td>315154</td>\n",
       "      <td>8.6625</td>\n",
       "      <td>NaN</td>\n",
       "      <td>S</td>\n",
       "    </tr>\n",
       "    <tr>\n",
       "      <th>4</th>\n",
       "      <td>896</td>\n",
       "      <td>3</td>\n",
       "      <td>Hirvonen, Mrs. Alexander (Helga E Lindqvist)</td>\n",
       "      <td>female</td>\n",
       "      <td>22.0</td>\n",
       "      <td>1</td>\n",
       "      <td>1</td>\n",
       "      <td>3101298</td>\n",
       "      <td>12.2875</td>\n",
       "      <td>NaN</td>\n",
       "      <td>S</td>\n",
       "    </tr>\n",
       "    <tr>\n",
       "      <th>5</th>\n",
       "      <td>897</td>\n",
       "      <td>3</td>\n",
       "      <td>Svensson, Mr. Johan Cervin</td>\n",
       "      <td>male</td>\n",
       "      <td>14.0</td>\n",
       "      <td>0</td>\n",
       "      <td>0</td>\n",
       "      <td>7538</td>\n",
       "      <td>9.2250</td>\n",
       "      <td>NaN</td>\n",
       "      <td>S</td>\n",
       "    </tr>\n",
       "    <tr>\n",
       "      <th>6</th>\n",
       "      <td>898</td>\n",
       "      <td>3</td>\n",
       "      <td>Connolly, Miss. Kate</td>\n",
       "      <td>female</td>\n",
       "      <td>30.0</td>\n",
       "      <td>0</td>\n",
       "      <td>0</td>\n",
       "      <td>330972</td>\n",
       "      <td>7.6292</td>\n",
       "      <td>NaN</td>\n",
       "      <td>Q</td>\n",
       "    </tr>\n",
       "    <tr>\n",
       "      <th>7</th>\n",
       "      <td>899</td>\n",
       "      <td>2</td>\n",
       "      <td>Caldwell, Mr. Albert Francis</td>\n",
       "      <td>male</td>\n",
       "      <td>26.0</td>\n",
       "      <td>1</td>\n",
       "      <td>1</td>\n",
       "      <td>248738</td>\n",
       "      <td>29.0000</td>\n",
       "      <td>NaN</td>\n",
       "      <td>S</td>\n",
       "    </tr>\n",
       "    <tr>\n",
       "      <th>8</th>\n",
       "      <td>900</td>\n",
       "      <td>3</td>\n",
       "      <td>Abrahim, Mrs. Joseph (Sophie Halaut Easu)</td>\n",
       "      <td>female</td>\n",
       "      <td>18.0</td>\n",
       "      <td>0</td>\n",
       "      <td>0</td>\n",
       "      <td>2657</td>\n",
       "      <td>7.2292</td>\n",
       "      <td>NaN</td>\n",
       "      <td>C</td>\n",
       "    </tr>\n",
       "    <tr>\n",
       "      <th>9</th>\n",
       "      <td>901</td>\n",
       "      <td>3</td>\n",
       "      <td>Davies, Mr. John Samuel</td>\n",
       "      <td>male</td>\n",
       "      <td>21.0</td>\n",
       "      <td>2</td>\n",
       "      <td>0</td>\n",
       "      <td>A/4 48871</td>\n",
       "      <td>24.1500</td>\n",
       "      <td>NaN</td>\n",
       "      <td>S</td>\n",
       "    </tr>\n",
       "  </tbody>\n",
       "</table>\n",
       "</div>"
      ],
      "text/plain": [
       "   PassengerId  Pclass                                          Name     Sex  \\\n",
       "0          892       3                              Kelly, Mr. James    male   \n",
       "1          893       3              Wilkes, Mrs. James (Ellen Needs)  female   \n",
       "2          894       2                     Myles, Mr. Thomas Francis    male   \n",
       "3          895       3                              Wirz, Mr. Albert    male   \n",
       "4          896       3  Hirvonen, Mrs. Alexander (Helga E Lindqvist)  female   \n",
       "5          897       3                    Svensson, Mr. Johan Cervin    male   \n",
       "6          898       3                          Connolly, Miss. Kate  female   \n",
       "7          899       2                  Caldwell, Mr. Albert Francis    male   \n",
       "8          900       3     Abrahim, Mrs. Joseph (Sophie Halaut Easu)  female   \n",
       "9          901       3                       Davies, Mr. John Samuel    male   \n",
       "\n",
       "    Age  SibSp  Parch     Ticket     Fare Cabin Embarked  \n",
       "0  34.5      0      0     330911   7.8292   NaN        Q  \n",
       "1  47.0      1      0     363272   7.0000   NaN        S  \n",
       "2  62.0      0      0     240276   9.6875   NaN        Q  \n",
       "3  27.0      0      0     315154   8.6625   NaN        S  \n",
       "4  22.0      1      1    3101298  12.2875   NaN        S  \n",
       "5  14.0      0      0       7538   9.2250   NaN        S  \n",
       "6  30.0      0      0     330972   7.6292   NaN        Q  \n",
       "7  26.0      1      1     248738  29.0000   NaN        S  \n",
       "8  18.0      0      0       2657   7.2292   NaN        C  \n",
       "9  21.0      2      0  A/4 48871  24.1500   NaN        S  "
      ]
     },
     "execution_count": 38,
     "metadata": {},
     "output_type": "execute_result"
    }
   ],
   "source": [
    "df_test.head(10)"
   ]
  },
  {
   "cell_type": "code",
   "execution_count": 39,
   "id": "a102377e",
   "metadata": {
    "execution": {
     "iopub.execute_input": "2024-07-16T06:42:38.824823Z",
     "iopub.status.busy": "2024-07-16T06:42:38.824355Z",
     "iopub.status.idle": "2024-07-16T06:42:38.836762Z",
     "shell.execute_reply": "2024-07-16T06:42:38.835471Z"
    },
    "papermill": {
     "duration": 0.042766,
     "end_time": "2024-07-16T06:42:38.839612",
     "exception": false,
     "start_time": "2024-07-16T06:42:38.796846",
     "status": "completed"
    },
    "tags": []
   },
   "outputs": [
    {
     "name": "stdout",
     "output_type": "stream",
     "text": [
      "<class 'pandas.core.frame.DataFrame'>\n",
      "RangeIndex: 418 entries, 0 to 417\n",
      "Data columns (total 11 columns):\n",
      " #   Column       Non-Null Count  Dtype  \n",
      "---  ------       --------------  -----  \n",
      " 0   PassengerId  418 non-null    int64  \n",
      " 1   Pclass       418 non-null    int64  \n",
      " 2   Name         418 non-null    object \n",
      " 3   Sex          418 non-null    object \n",
      " 4   Age          332 non-null    float64\n",
      " 5   SibSp        418 non-null    int64  \n",
      " 6   Parch        418 non-null    int64  \n",
      " 7   Ticket       418 non-null    object \n",
      " 8   Fare         417 non-null    float64\n",
      " 9   Cabin        91 non-null     object \n",
      " 10  Embarked     418 non-null    object \n",
      "dtypes: float64(2), int64(4), object(5)\n",
      "memory usage: 36.0+ KB\n"
     ]
    }
   ],
   "source": [
    "df_test.info()"
   ]
  },
  {
   "cell_type": "code",
   "execution_count": 40,
   "id": "c6e98edf",
   "metadata": {
    "execution": {
     "iopub.execute_input": "2024-07-16T06:42:38.894533Z",
     "iopub.status.busy": "2024-07-16T06:42:38.893510Z",
     "iopub.status.idle": "2024-07-16T06:42:38.902783Z",
     "shell.execute_reply": "2024-07-16T06:42:38.901647Z"
    },
    "papermill": {
     "duration": 0.038569,
     "end_time": "2024-07-16T06:42:38.905176",
     "exception": false,
     "start_time": "2024-07-16T06:42:38.866607",
     "status": "completed"
    },
    "tags": []
   },
   "outputs": [
    {
     "data": {
      "text/plain": [
       "0"
      ]
     },
     "execution_count": 40,
     "metadata": {},
     "output_type": "execute_result"
    }
   ],
   "source": [
    "df_test.duplicated().sum()"
   ]
  },
  {
   "cell_type": "code",
   "execution_count": 41,
   "id": "fa160a1f",
   "metadata": {
    "execution": {
     "iopub.execute_input": "2024-07-16T06:42:38.959885Z",
     "iopub.status.busy": "2024-07-16T06:42:38.959493Z",
     "iopub.status.idle": "2024-07-16T06:42:38.968924Z",
     "shell.execute_reply": "2024-07-16T06:42:38.967577Z"
    },
    "papermill": {
     "duration": 0.038814,
     "end_time": "2024-07-16T06:42:38.971234",
     "exception": false,
     "start_time": "2024-07-16T06:42:38.932420",
     "status": "completed"
    },
    "tags": []
   },
   "outputs": [
    {
     "data": {
      "text/plain": [
       "PassengerId      0\n",
       "Pclass           0\n",
       "Name             0\n",
       "Sex              0\n",
       "Age             86\n",
       "SibSp            0\n",
       "Parch            0\n",
       "Ticket           0\n",
       "Fare             1\n",
       "Cabin          327\n",
       "Embarked         0\n",
       "dtype: int64"
      ]
     },
     "execution_count": 41,
     "metadata": {},
     "output_type": "execute_result"
    }
   ],
   "source": [
    "df_test.isna().sum()"
   ]
  },
  {
   "cell_type": "markdown",
   "id": "39a865dd",
   "metadata": {
    "papermill": {
     "duration": 0.025704,
     "end_time": "2024-07-16T06:42:39.022604",
     "exception": false,
     "start_time": "2024-07-16T06:42:38.996900",
     "status": "completed"
    },
    "tags": []
   },
   "source": [
    "### Missing data\n",
    "\n",
    "Likewise, in the test dataset, there are a few missing values from features like `Age`, `Cabin`, & `Fare`.\n",
    "Again, we could proceed in the same way as we did for the training data, which is:\n",
    "- `Age`: Aggregate the age & replace missing values with the mean age.\n",
    "- `Cabin`: Group the cabin into categorical, with missing values asigned 'Unknown'\n",
    "- `Fare`: Since only 1 value is missing out of the total 418 entries, we could drop this particular row."
   ]
  },
  {
   "cell_type": "markdown",
   "id": "caeae3e8",
   "metadata": {
    "execution": {
     "iopub.execute_input": "2024-06-12T10:36:43.694750Z",
     "iopub.status.busy": "2024-06-12T10:36:43.694362Z",
     "iopub.status.idle": "2024-06-12T10:36:43.705732Z",
     "shell.execute_reply": "2024-06-12T10:36:43.704443Z",
     "shell.execute_reply.started": "2024-06-12T10:36:43.694721Z"
    },
    "papermill": {
     "duration": 0.0259,
     "end_time": "2024-07-16T06:42:39.074844",
     "exception": false,
     "start_time": "2024-07-16T06:42:39.048944",
     "status": "completed"
    },
    "tags": []
   },
   "source": [
    "#### Digging deeper into the `Age` feature\n",
    "\n",
    "- Boxplot of age\n",
    "- Determine how many outliers\n",
    "- Distribution"
   ]
  },
  {
   "cell_type": "code",
   "execution_count": 42,
   "id": "8d20df5f",
   "metadata": {
    "execution": {
     "iopub.execute_input": "2024-07-16T06:42:39.128729Z",
     "iopub.status.busy": "2024-07-16T06:42:39.128291Z",
     "iopub.status.idle": "2024-07-16T06:42:39.289818Z",
     "shell.execute_reply": "2024-07-16T06:42:39.288518Z"
    },
    "papermill": {
     "duration": 0.191719,
     "end_time": "2024-07-16T06:42:39.292769",
     "exception": false,
     "start_time": "2024-07-16T06:42:39.101050",
     "status": "completed"
    },
    "tags": []
   },
   "outputs": [
    {
     "data": {
      "image/png": "[encoded data removed]",
      "text/plain": [
       "<Figure size 600x200 with 1 Axes>"
      ]
     },
     "metadata": {},
     "output_type": "display_data"
    }
   ],
   "source": [
    "# Boxplot of `Age` feature\n",
    "plt.figure(figsize=(6,2))\n",
    "sns.boxplot(x=df_test['Age']);"
   ]
  },
  {
   "cell_type": "code",
   "execution_count": 43,
   "id": "b5d54d1e",
   "metadata": {
    "execution": {
     "iopub.execute_input": "2024-07-16T06:42:39.349226Z",
     "iopub.status.busy": "2024-07-16T06:42:39.348843Z",
     "iopub.status.idle": "2024-07-16T06:42:39.361206Z",
     "shell.execute_reply": "2024-07-16T06:42:39.359788Z"
    },
    "papermill": {
     "duration": 0.043406,
     "end_time": "2024-07-16T06:42:39.363754",
     "exception": false,
     "start_time": "2024-07-16T06:42:39.320348",
     "status": "completed"
    },
    "tags": []
   },
   "outputs": [
    {
     "name": "stdout",
     "output_type": "stream",
     "text": [
      "lower_limit:  -6.0\n",
      "upper_limit:  66.0\n",
      "No. of rows of Age outliers:  2\n"
     ]
    }
   ],
   "source": [
    "# Determining how many rows contains outliers\n",
    "percentile25 = df_test['Age'].quantile(0.25)\n",
    "percentile75 = df_test['Age'].quantile(0.75)\n",
    "iqr = percentile75 - percentile25\n",
    "\n",
    "# Establishing lower & upper limits\n",
    "lower_limit = percentile25 - 1.5 * iqr\n",
    "upper_limit = percentile75 + 1.5 * iqr\n",
    "print('lower_limit: ', lower_limit)\n",
    "print('upper_limit: ', upper_limit)\n",
    "\n",
    "age_outliers = df_test[(df_test['Age'] < lower_limit) | (df_test['Age'] > upper_limit)]\n",
    "print('No. of rows of Age outliers: ', len(age_outliers))"
   ]
  },
  {
   "cell_type": "markdown",
   "id": "2ebe828e",
   "metadata": {
    "papermill": {
     "duration": 0.02633,
     "end_time": "2024-07-16T06:42:39.416486",
     "exception": false,
     "start_time": "2024-07-16T06:42:39.390156",
     "status": "completed"
    },
    "tags": []
   },
   "source": [
    "Likewise in the training data, the number of outliers in the `Age` column is only 2. Hence, we will keep this few outliers."
   ]
  },
  {
   "cell_type": "code",
   "execution_count": 44,
   "id": "3460da6d",
   "metadata": {
    "execution": {
     "iopub.execute_input": "2024-07-16T06:42:39.472407Z",
     "iopub.status.busy": "2024-07-16T06:42:39.471391Z",
     "iopub.status.idle": "2024-07-16T06:42:39.790980Z",
     "shell.execute_reply": "2024-07-16T06:42:39.789759Z"
    },
    "papermill": {
     "duration": 0.350097,
     "end_time": "2024-07-16T06:42:39.793559",
     "exception": false,
     "start_time": "2024-07-16T06:42:39.443462",
     "status": "completed"
    },
    "tags": []
   },
   "outputs": [
    {
     "name": "stderr",
     "output_type": "stream",
     "text": [
      "/opt/conda/lib/python3.10/site-packages/seaborn/_oldcore.py:1119: FutureWarning: use_inf_as_na option is deprecated and will be removed in a future version. Convert inf values to NaN before operating instead.\n",
      "  with pd.option_context('mode.use_inf_as_na', True):\n"
     ]
    },
    {
     "data": {
      "image/png": "[encoded data removed]",
      "text/plain": [
       "<Figure size 600x400 with 1 Axes>"
      ]
     },
     "metadata": {},
     "output_type": "display_data"
    }
   ],
   "source": [
    "# Distribution of Age Histogram\n",
    "plt.figure(figsize=(6,4))\n",
    "sns.histplot(df['Age'])\n",
    "plt.xlabel('Age')\n",
    "plt.title('Distribution of Age');"
   ]
  },
  {
   "cell_type": "markdown",
   "id": "e9696315",
   "metadata": {
    "papermill": {
     "duration": 0.02624,
     "end_time": "2024-07-16T06:42:39.846391",
     "exception": false,
     "start_time": "2024-07-16T06:42:39.820151",
     "status": "completed"
    },
    "tags": []
   },
   "source": [
    "After deciding to keep the `Age` outliers, we shall now determine the mean age of all the passengers then replace the missing values with it."
   ]
  },
  {
   "cell_type": "code",
   "execution_count": 45,
   "id": "e51bec17",
   "metadata": {
    "execution": {
     "iopub.execute_input": "2024-07-16T06:42:39.901234Z",
     "iopub.status.busy": "2024-07-16T06:42:39.900831Z",
     "iopub.status.idle": "2024-07-16T06:42:39.909142Z",
     "shell.execute_reply": "2024-07-16T06:42:39.908043Z"
    },
    "papermill": {
     "duration": 0.038319,
     "end_time": "2024-07-16T06:42:39.911419",
     "exception": false,
     "start_time": "2024-07-16T06:42:39.873100",
     "status": "completed"
    },
    "tags": []
   },
   "outputs": [
    {
     "data": {
      "text/plain": [
       "30.3"
      ]
     },
     "execution_count": 45,
     "metadata": {},
     "output_type": "execute_result"
    }
   ],
   "source": [
    "# Calculating the mean age\n",
    "mean_age = df_test['Age'].mean()\n",
    "mean_age_rounded = round(mean_age, 1)\n",
    "mean_age_rounded"
   ]
  },
  {
   "cell_type": "markdown",
   "id": "32a88cb3",
   "metadata": {
    "papermill": {
     "duration": 0.027026,
     "end_time": "2024-07-16T06:42:39.966038",
     "exception": false,
     "start_time": "2024-07-16T06:42:39.939012",
     "status": "completed"
    },
    "tags": []
   },
   "source": [
    "The average age of the 418 passengers is **30.2**. We shall replace the missing ages with this."
   ]
  },
  {
   "cell_type": "code",
   "execution_count": 46,
   "id": "71dfd182",
   "metadata": {
    "execution": {
     "iopub.execute_input": "2024-07-16T06:42:40.020882Z",
     "iopub.status.busy": "2024-07-16T06:42:40.020491Z",
     "iopub.status.idle": "2024-07-16T06:42:40.042585Z",
     "shell.execute_reply": "2024-07-16T06:42:40.041106Z"
    },
    "papermill": {
     "duration": 0.052748,
     "end_time": "2024-07-16T06:42:40.045282",
     "exception": false,
     "start_time": "2024-07-16T06:42:39.992534",
     "status": "completed"
    },
    "tags": []
   },
   "outputs": [
    {
     "name": "stderr",
     "output_type": "stream",
     "text": [
      "/tmp/ipykernel_18/1796991360.py:2: FutureWarning: A value is trying to be set on a copy of a DataFrame or Series through chained assignment using an inplace method.\n",
      "The behavior will change in pandas 3.0. This inplace method will never work because the intermediate object on which we are setting values always behaves as a copy.\n",
      "\n",
      "For example, when doing 'df[col].method(value, inplace=True)', try using 'df.method({col: value}, inplace=True)' or df[col] = df[col].method(value) instead, to perform the operation inplace on the original object.\n",
      "\n",
      "\n",
      "  df_test['Age'].fillna(mean_age_rounded, inplace=True)\n"
     ]
    },
    {
     "data": {
      "text/html": [
       "<div>\n",
       "<style scoped>\n",
       "    .dataframe tbody tr th:only-of-type {\n",
       "        vertical-align: middle;\n",
       "    }\n",
       "\n",
       "    .dataframe tbody tr th {\n",
       "        vertical-align: top;\n",
       "    }\n",
       "\n",
       "    .dataframe thead th {\n",
       "        text-align: right;\n",
       "    }\n",
       "</style>\n",
       "<table border=\"1\" class=\"dataframe\">\n",
       "  <thead>\n",
       "    <tr style=\"text-align: right;\">\n",
       "      <th></th>\n",
       "      <th>PassengerId</th>\n",
       "      <th>Survived</th>\n",
       "      <th>Pclass</th>\n",
       "      <th>Name</th>\n",
       "      <th>Sex</th>\n",
       "      <th>Age</th>\n",
       "      <th>SibSp</th>\n",
       "      <th>Parch</th>\n",
       "      <th>Ticket</th>\n",
       "      <th>Fare</th>\n",
       "      <th>Cabin</th>\n",
       "      <th>Embarked</th>\n",
       "      <th>CabinProcessed</th>\n",
       "      <th>Sex_enc</th>\n",
       "      <th>Embarked_enc</th>\n",
       "      <th>Children</th>\n",
       "      <th>Family</th>\n",
       "    </tr>\n",
       "  </thead>\n",
       "  <tbody>\n",
       "    <tr>\n",
       "      <th>0</th>\n",
       "      <td>1</td>\n",
       "      <td>0</td>\n",
       "      <td>3</td>\n",
       "      <td>Braund, Mr. Owen Harris</td>\n",
       "      <td>male</td>\n",
       "      <td>22.0</td>\n",
       "      <td>1</td>\n",
       "      <td>0</td>\n",
       "      <td>A/5 21171</td>\n",
       "      <td>7.2500</td>\n",
       "      <td>NaN</td>\n",
       "      <td>S</td>\n",
       "      <td>8</td>\n",
       "      <td>1</td>\n",
       "      <td>2</td>\n",
       "      <td>0</td>\n",
       "      <td>2</td>\n",
       "    </tr>\n",
       "    <tr>\n",
       "      <th>1</th>\n",
       "      <td>2</td>\n",
       "      <td>1</td>\n",
       "      <td>1</td>\n",
       "      <td>Cumings, Mrs. John Bradley (Florence Briggs Th...</td>\n",
       "      <td>female</td>\n",
       "      <td>38.0</td>\n",
       "      <td>1</td>\n",
       "      <td>0</td>\n",
       "      <td>PC 17599</td>\n",
       "      <td>71.2833</td>\n",
       "      <td>C85</td>\n",
       "      <td>C</td>\n",
       "      <td>2</td>\n",
       "      <td>0</td>\n",
       "      <td>0</td>\n",
       "      <td>0</td>\n",
       "      <td>2</td>\n",
       "    </tr>\n",
       "    <tr>\n",
       "      <th>2</th>\n",
       "      <td>3</td>\n",
       "      <td>1</td>\n",
       "      <td>3</td>\n",
       "      <td>Heikkinen, Miss. Laina</td>\n",
       "      <td>female</td>\n",
       "      <td>26.0</td>\n",
       "      <td>0</td>\n",
       "      <td>0</td>\n",
       "      <td>STON/O2. 3101282</td>\n",
       "      <td>7.9250</td>\n",
       "      <td>NaN</td>\n",
       "      <td>S</td>\n",
       "      <td>8</td>\n",
       "      <td>0</td>\n",
       "      <td>2</td>\n",
       "      <td>0</td>\n",
       "      <td>1</td>\n",
       "    </tr>\n",
       "    <tr>\n",
       "      <th>3</th>\n",
       "      <td>4</td>\n",
       "      <td>1</td>\n",
       "      <td>1</td>\n",
       "      <td>Futrelle, Mrs. Jacques Heath (Lily May Peel)</td>\n",
       "      <td>female</td>\n",
       "      <td>35.0</td>\n",
       "      <td>1</td>\n",
       "      <td>0</td>\n",
       "      <td>113803</td>\n",
       "      <td>53.1000</td>\n",
       "      <td>C123</td>\n",
       "      <td>S</td>\n",
       "      <td>2</td>\n",
       "      <td>0</td>\n",
       "      <td>2</td>\n",
       "      <td>0</td>\n",
       "      <td>2</td>\n",
       "    </tr>\n",
       "    <tr>\n",
       "      <th>4</th>\n",
       "      <td>5</td>\n",
       "      <td>0</td>\n",
       "      <td>3</td>\n",
       "      <td>Allen, Mr. William Henry</td>\n",
       "      <td>male</td>\n",
       "      <td>35.0</td>\n",
       "      <td>0</td>\n",
       "      <td>0</td>\n",
       "      <td>373450</td>\n",
       "      <td>8.0500</td>\n",
       "      <td>NaN</td>\n",
       "      <td>S</td>\n",
       "      <td>8</td>\n",
       "      <td>1</td>\n",
       "      <td>2</td>\n",
       "      <td>0</td>\n",
       "      <td>1</td>\n",
       "    </tr>\n",
       "    <tr>\n",
       "      <th>5</th>\n",
       "      <td>6</td>\n",
       "      <td>0</td>\n",
       "      <td>3</td>\n",
       "      <td>Moran, Mr. James</td>\n",
       "      <td>male</td>\n",
       "      <td>29.7</td>\n",
       "      <td>0</td>\n",
       "      <td>0</td>\n",
       "      <td>330877</td>\n",
       "      <td>8.4583</td>\n",
       "      <td>NaN</td>\n",
       "      <td>Q</td>\n",
       "      <td>8</td>\n",
       "      <td>1</td>\n",
       "      <td>1</td>\n",
       "      <td>0</td>\n",
       "      <td>1</td>\n",
       "    </tr>\n",
       "    <tr>\n",
       "      <th>6</th>\n",
       "      <td>7</td>\n",
       "      <td>0</td>\n",
       "      <td>1</td>\n",
       "      <td>McCarthy, Mr. Timothy J</td>\n",
       "      <td>male</td>\n",
       "      <td>54.0</td>\n",
       "      <td>0</td>\n",
       "      <td>0</td>\n",
       "      <td>17463</td>\n",
       "      <td>51.8625</td>\n",
       "      <td>E46</td>\n",
       "      <td>S</td>\n",
       "      <td>4</td>\n",
       "      <td>1</td>\n",
       "      <td>2</td>\n",
       "      <td>0</td>\n",
       "      <td>1</td>\n",
       "    </tr>\n",
       "    <tr>\n",
       "      <th>7</th>\n",
       "      <td>8</td>\n",
       "      <td>0</td>\n",
       "      <td>3</td>\n",
       "      <td>Palsson, Master. Gosta Leonard</td>\n",
       "      <td>male</td>\n",
       "      <td>2.0</td>\n",
       "      <td>3</td>\n",
       "      <td>1</td>\n",
       "      <td>349909</td>\n",
       "      <td>21.0750</td>\n",
       "      <td>NaN</td>\n",
       "      <td>S</td>\n",
       "      <td>8</td>\n",
       "      <td>1</td>\n",
       "      <td>2</td>\n",
       "      <td>1</td>\n",
       "      <td>5</td>\n",
       "    </tr>\n",
       "    <tr>\n",
       "      <th>8</th>\n",
       "      <td>9</td>\n",
       "      <td>1</td>\n",
       "      <td>3</td>\n",
       "      <td>Johnson, Mrs. Oscar W (Elisabeth Vilhelmina Berg)</td>\n",
       "      <td>female</td>\n",
       "      <td>27.0</td>\n",
       "      <td>0</td>\n",
       "      <td>2</td>\n",
       "      <td>347742</td>\n",
       "      <td>11.1333</td>\n",
       "      <td>NaN</td>\n",
       "      <td>S</td>\n",
       "      <td>8</td>\n",
       "      <td>0</td>\n",
       "      <td>2</td>\n",
       "      <td>0</td>\n",
       "      <td>3</td>\n",
       "    </tr>\n",
       "    <tr>\n",
       "      <th>9</th>\n",
       "      <td>10</td>\n",
       "      <td>1</td>\n",
       "      <td>2</td>\n",
       "      <td>Nasser, Mrs. Nicholas (Adele Achem)</td>\n",
       "      <td>female</td>\n",
       "      <td>14.0</td>\n",
       "      <td>1</td>\n",
       "      <td>0</td>\n",
       "      <td>237736</td>\n",
       "      <td>30.0708</td>\n",
       "      <td>NaN</td>\n",
       "      <td>C</td>\n",
       "      <td>8</td>\n",
       "      <td>0</td>\n",
       "      <td>0</td>\n",
       "      <td>1</td>\n",
       "      <td>2</td>\n",
       "    </tr>\n",
       "  </tbody>\n",
       "</table>\n",
       "</div>"
      ],
      "text/plain": [
       "   PassengerId  Survived  Pclass  \\\n",
       "0            1         0       3   \n",
       "1            2         1       1   \n",
       "2            3         1       3   \n",
       "3            4         1       1   \n",
       "4            5         0       3   \n",
       "5            6         0       3   \n",
       "6            7         0       1   \n",
       "7            8         0       3   \n",
       "8            9         1       3   \n",
       "9           10         1       2   \n",
       "\n",
       "                                                Name     Sex   Age  SibSp  \\\n",
       "0                            Braund, Mr. Owen Harris    male  22.0      1   \n",
       "1  Cumings, Mrs. John Bradley (Florence Briggs Th...  female  38.0      1   \n",
       "2                             Heikkinen, Miss. Laina  female  26.0      0   \n",
       "3       Futrelle, Mrs. Jacques Heath (Lily May Peel)  female  35.0      1   \n",
       "4                           Allen, Mr. William Henry    male  35.0      0   \n",
       "5                                   Moran, Mr. James    male  29.7      0   \n",
       "6                            McCarthy, Mr. Timothy J    male  54.0      0   \n",
       "7                     Palsson, Master. Gosta Leonard    male   2.0      3   \n",
       "8  Johnson, Mrs. Oscar W (Elisabeth Vilhelmina Berg)  female  27.0      0   \n",
       "9                Nasser, Mrs. Nicholas (Adele Achem)  female  14.0      1   \n",
       "\n",
       "   Parch            Ticket     Fare Cabin Embarked  CabinProcessed  Sex_enc  \\\n",
       "0      0         A/5 21171   7.2500   NaN        S               8        1   \n",
       "1      0          PC 17599  71.2833   C85        C               2        0   \n",
       "2      0  STON/O2. 3101282   7.9250   NaN        S               8        0   \n",
       "3      0            113803  53.1000  C123        S               2        0   \n",
       "4      0            373450   8.0500   NaN        S               8        1   \n",
       "5      0            330877   8.4583   NaN        Q               8        1   \n",
       "6      0             17463  51.8625   E46        S               4        1   \n",
       "7      1            349909  21.0750   NaN        S               8        1   \n",
       "8      2            347742  11.1333   NaN        S               8        0   \n",
       "9      0            237736  30.0708   NaN        C               8        0   \n",
       "\n",
       "   Embarked_enc  Children  Family  \n",
       "0             2         0       2  \n",
       "1             0         0       2  \n",
       "2             2         0       1  \n",
       "3             2         0       2  \n",
       "4             2         0       1  \n",
       "5             1         0       1  \n",
       "6             2         0       1  \n",
       "7             2         1       5  \n",
       "8             2         0       3  \n",
       "9             0         1       2  "
      ]
     },
     "execution_count": 46,
     "metadata": {},
     "output_type": "execute_result"
    }
   ],
   "source": [
    "# Filling missing `Age` data with average age\n",
    "df_test['Age'].fillna(mean_age_rounded, inplace=True)\n",
    "df.head(10)"
   ]
  },
  {
   "cell_type": "markdown",
   "id": "ab33db93",
   "metadata": {
    "papermill": {
     "duration": 0.026962,
     "end_time": "2024-07-16T06:42:40.100110",
     "exception": false,
     "start_time": "2024-07-16T06:42:40.073148",
     "status": "completed"
    },
    "tags": []
   },
   "source": [
    "#### Categorizing `Cabin` feature\n",
    "\n",
    "Likewise, the data in `Cabin` will be converted from an object type into a categorical value then `cat.code` to assign hierarchial numbers as the lifeboats are on the sundeck & the higher floors would have closer access to them. \n",
    "\n",
    "Missing values shall be grouped together in its own category as 'X'."
   ]
  },
  {
   "cell_type": "code",
   "execution_count": 47,
   "id": "05a8e78d",
   "metadata": {
    "execution": {
     "iopub.execute_input": "2024-07-16T06:42:40.157373Z",
     "iopub.status.busy": "2024-07-16T06:42:40.156135Z",
     "iopub.status.idle": "2024-07-16T06:42:40.166830Z",
     "shell.execute_reply": "2024-07-16T06:42:40.165491Z"
    },
    "papermill": {
     "duration": 0.042215,
     "end_time": "2024-07-16T06:42:40.169383",
     "exception": false,
     "start_time": "2024-07-16T06:42:40.127168",
     "status": "completed"
    },
    "tags": []
   },
   "outputs": [
    {
     "data": {
      "text/plain": [
       "Cabin\n",
       "B57 B59 B63 B66    3\n",
       "B45                2\n",
       "C89                2\n",
       "C55 C57            2\n",
       "A34                2\n",
       "                  ..\n",
       "E52                1\n",
       "D30                1\n",
       "E31                1\n",
       "C62 C64            1\n",
       "C105               1\n",
       "Name: count, Length: 76, dtype: int64"
      ]
     },
     "execution_count": 47,
     "metadata": {},
     "output_type": "execute_result"
    }
   ],
   "source": [
    "# Exploring the Cabin Columns\n",
    "df_test['Cabin'].value_counts()"
   ]
  },
  {
   "cell_type": "code",
   "execution_count": 48,
   "id": "00e3c6c6",
   "metadata": {
    "execution": {
     "iopub.execute_input": "2024-07-16T06:42:40.228348Z",
     "iopub.status.busy": "2024-07-16T06:42:40.227959Z",
     "iopub.status.idle": "2024-07-16T06:42:40.249860Z",
     "shell.execute_reply": "2024-07-16T06:42:40.248673Z"
    },
    "papermill": {
     "duration": 0.054049,
     "end_time": "2024-07-16T06:42:40.252368",
     "exception": false,
     "start_time": "2024-07-16T06:42:40.198319",
     "status": "completed"
    },
    "tags": []
   },
   "outputs": [
    {
     "data": {
      "text/html": [
       "<div>\n",
       "<style scoped>\n",
       "    .dataframe tbody tr th:only-of-type {\n",
       "        vertical-align: middle;\n",
       "    }\n",
       "\n",
       "    .dataframe tbody tr th {\n",
       "        vertical-align: top;\n",
       "    }\n",
       "\n",
       "    .dataframe thead th {\n",
       "        text-align: right;\n",
       "    }\n",
       "</style>\n",
       "<table border=\"1\" class=\"dataframe\">\n",
       "  <thead>\n",
       "    <tr style=\"text-align: right;\">\n",
       "      <th></th>\n",
       "      <th>PassengerId</th>\n",
       "      <th>Pclass</th>\n",
       "      <th>Name</th>\n",
       "      <th>Sex</th>\n",
       "      <th>Age</th>\n",
       "      <th>SibSp</th>\n",
       "      <th>Parch</th>\n",
       "      <th>Ticket</th>\n",
       "      <th>Fare</th>\n",
       "      <th>Cabin</th>\n",
       "      <th>Embarked</th>\n",
       "      <th>CabinProcessed</th>\n",
       "    </tr>\n",
       "  </thead>\n",
       "  <tbody>\n",
       "    <tr>\n",
       "      <th>0</th>\n",
       "      <td>892</td>\n",
       "      <td>3</td>\n",
       "      <td>Kelly, Mr. James</td>\n",
       "      <td>male</td>\n",
       "      <td>34.5</td>\n",
       "      <td>0</td>\n",
       "      <td>0</td>\n",
       "      <td>330911</td>\n",
       "      <td>7.8292</td>\n",
       "      <td>NaN</td>\n",
       "      <td>Q</td>\n",
       "      <td>8</td>\n",
       "    </tr>\n",
       "    <tr>\n",
       "      <th>1</th>\n",
       "      <td>893</td>\n",
       "      <td>3</td>\n",
       "      <td>Wilkes, Mrs. James (Ellen Needs)</td>\n",
       "      <td>female</td>\n",
       "      <td>47.0</td>\n",
       "      <td>1</td>\n",
       "      <td>0</td>\n",
       "      <td>363272</td>\n",
       "      <td>7.0000</td>\n",
       "      <td>NaN</td>\n",
       "      <td>S</td>\n",
       "      <td>8</td>\n",
       "    </tr>\n",
       "    <tr>\n",
       "      <th>2</th>\n",
       "      <td>894</td>\n",
       "      <td>2</td>\n",
       "      <td>Myles, Mr. Thomas Francis</td>\n",
       "      <td>male</td>\n",
       "      <td>62.0</td>\n",
       "      <td>0</td>\n",
       "      <td>0</td>\n",
       "      <td>240276</td>\n",
       "      <td>9.6875</td>\n",
       "      <td>NaN</td>\n",
       "      <td>Q</td>\n",
       "      <td>8</td>\n",
       "    </tr>\n",
       "    <tr>\n",
       "      <th>3</th>\n",
       "      <td>895</td>\n",
       "      <td>3</td>\n",
       "      <td>Wirz, Mr. Albert</td>\n",
       "      <td>male</td>\n",
       "      <td>27.0</td>\n",
       "      <td>0</td>\n",
       "      <td>0</td>\n",
       "      <td>315154</td>\n",
       "      <td>8.6625</td>\n",
       "      <td>NaN</td>\n",
       "      <td>S</td>\n",
       "      <td>8</td>\n",
       "    </tr>\n",
       "    <tr>\n",
       "      <th>4</th>\n",
       "      <td>896</td>\n",
       "      <td>3</td>\n",
       "      <td>Hirvonen, Mrs. Alexander (Helga E Lindqvist)</td>\n",
       "      <td>female</td>\n",
       "      <td>22.0</td>\n",
       "      <td>1</td>\n",
       "      <td>1</td>\n",
       "      <td>3101298</td>\n",
       "      <td>12.2875</td>\n",
       "      <td>NaN</td>\n",
       "      <td>S</td>\n",
       "      <td>8</td>\n",
       "    </tr>\n",
       "  </tbody>\n",
       "</table>\n",
       "</div>"
      ],
      "text/plain": [
       "   PassengerId  Pclass                                          Name     Sex  \\\n",
       "0          892       3                              Kelly, Mr. James    male   \n",
       "1          893       3              Wilkes, Mrs. James (Ellen Needs)  female   \n",
       "2          894       2                     Myles, Mr. Thomas Francis    male   \n",
       "3          895       3                              Wirz, Mr. Albert    male   \n",
       "4          896       3  Hirvonen, Mrs. Alexander (Helga E Lindqvist)  female   \n",
       "\n",
       "    Age  SibSp  Parch   Ticket     Fare Cabin Embarked  CabinProcessed  \n",
       "0  34.5      0      0   330911   7.8292   NaN        Q               8  \n",
       "1  47.0      1      0   363272   7.0000   NaN        S               8  \n",
       "2  62.0      0      0   240276   9.6875   NaN        Q               8  \n",
       "3  27.0      0      0   315154   8.6625   NaN        S               8  \n",
       "4  22.0      1      1  3101298  12.2875   NaN        S               8  "
      ]
     },
     "execution_count": 48,
     "metadata": {},
     "output_type": "execute_result"
    }
   ],
   "source": [
    "'''\n",
    "    1) Replaces missing values with 'Missing'\n",
    "    2) Extracts the first letter of each cabin\n",
    "    3) 'Missing' is then converted in 'X'\n",
    "'''\n",
    "df_test['CabinProcessed'] = df_test['Cabin'].fillna('Missing').apply(lambda x:x[0] if x!='Missing' else 'X')\n",
    "\n",
    "# Convert to CabinProcessed into categorical variables\n",
    "df_test['CabinProcessed'] = (df_test['CabinProcessed'].astype('category')\n",
    "                        .cat.set_categories(['A','B','C','D','E','F','G','T','X'])\n",
    "                        .cat.codes\n",
    "                       )\n",
    "df_test.head()"
   ]
  },
  {
   "cell_type": "code",
   "execution_count": 49,
   "id": "b23bb80e",
   "metadata": {
    "execution": {
     "iopub.execute_input": "2024-07-16T06:42:40.311126Z",
     "iopub.status.busy": "2024-07-16T06:42:40.310767Z",
     "iopub.status.idle": "2024-07-16T06:42:40.319853Z",
     "shell.execute_reply": "2024-07-16T06:42:40.318519Z"
    },
    "papermill": {
     "duration": 0.042286,
     "end_time": "2024-07-16T06:42:40.322345",
     "exception": false,
     "start_time": "2024-07-16T06:42:40.280059",
     "status": "completed"
    },
    "tags": []
   },
   "outputs": [
    {
     "data": {
      "text/plain": [
       "CabinProcessed\n",
       "8    327\n",
       "2     35\n",
       "1     18\n",
       "3     13\n",
       "4      9\n",
       "5      8\n",
       "0      7\n",
       "6      1\n",
       "Name: count, dtype: int64"
      ]
     },
     "execution_count": 49,
     "metadata": {},
     "output_type": "execute_result"
    }
   ],
   "source": [
    "# Checking if Cabin were processed properly\n",
    "df_test['CabinProcessed'].value_counts()"
   ]
  },
  {
   "cell_type": "markdown",
   "id": "c597712e",
   "metadata": {
    "papermill": {
     "duration": 0.027898,
     "end_time": "2024-07-16T06:42:40.378770",
     "exception": false,
     "start_time": "2024-07-16T06:42:40.350872",
     "status": "completed"
    },
    "tags": []
   },
   "source": [
    "Let's check if there's still any missing values in this test dataset"
   ]
  },
  {
   "cell_type": "code",
   "execution_count": 50,
   "id": "8042038b",
   "metadata": {
    "execution": {
     "iopub.execute_input": "2024-07-16T06:42:40.437556Z",
     "iopub.status.busy": "2024-07-16T06:42:40.437135Z",
     "iopub.status.idle": "2024-07-16T06:42:40.446620Z",
     "shell.execute_reply": "2024-07-16T06:42:40.445379Z"
    },
    "papermill": {
     "duration": 0.042335,
     "end_time": "2024-07-16T06:42:40.448996",
     "exception": false,
     "start_time": "2024-07-16T06:42:40.406661",
     "status": "completed"
    },
    "tags": []
   },
   "outputs": [
    {
     "data": {
      "text/plain": [
       "PassengerId         0\n",
       "Pclass              0\n",
       "Name                0\n",
       "Sex                 0\n",
       "Age                 0\n",
       "SibSp               0\n",
       "Parch               0\n",
       "Ticket              0\n",
       "Fare                1\n",
       "Cabin             327\n",
       "Embarked            0\n",
       "CabinProcessed      0\n",
       "dtype: int64"
      ]
     },
     "execution_count": 50,
     "metadata": {},
     "output_type": "execute_result"
    }
   ],
   "source": [
    "df_test.isna().sum()"
   ]
  },
  {
   "cell_type": "markdown",
   "id": "b8601cce",
   "metadata": {
    "papermill": {
     "duration": 0.027945,
     "end_time": "2024-07-16T06:42:40.505548",
     "exception": false,
     "start_time": "2024-07-16T06:42:40.477603",
     "status": "completed"
    },
    "tags": []
   },
   "source": [
    "Great, there's all the missing data has been dealt with! We can ignore the `Cabin` feature for now because we've already processed it into `CabinProcessed` & we'll drop the original `Cabin` feature before modelling."
   ]
  },
  {
   "cell_type": "markdown",
   "id": "57ac8bdb",
   "metadata": {
    "papermill": {
     "duration": 0.028509,
     "end_time": "2024-07-16T06:42:40.562526",
     "exception": false,
     "start_time": "2024-07-16T06:42:40.534017",
     "status": "completed"
    },
    "tags": []
   },
   "source": [
    "### Converting features into numerical values\n",
    "\n",
    "Machine learning models can only work with numerical values, hence we shall convert the remaining features that are are interested in, into numerical dtypes. \n",
    "\n",
    "These features are `Sex`, `Embarked`"
   ]
  },
  {
   "cell_type": "markdown",
   "id": "5aa0a4b3",
   "metadata": {
    "papermill": {
     "duration": 0.029352,
     "end_time": "2024-07-16T06:42:40.619888",
     "exception": false,
     "start_time": "2024-07-16T06:42:40.590536",
     "status": "completed"
    },
    "tags": []
   },
   "source": [
    "#### LabelEncode `Sex`"
   ]
  },
  {
   "cell_type": "code",
   "execution_count": 51,
   "id": "681960fe",
   "metadata": {
    "execution": {
     "iopub.execute_input": "2024-07-16T06:42:40.679800Z",
     "iopub.status.busy": "2024-07-16T06:42:40.679363Z",
     "iopub.status.idle": "2024-07-16T06:42:40.685872Z",
     "shell.execute_reply": "2024-07-16T06:42:40.684695Z"
    },
    "papermill": {
     "duration": 0.040241,
     "end_time": "2024-07-16T06:42:40.688337",
     "exception": false,
     "start_time": "2024-07-16T06:42:40.648096",
     "status": "completed"
    },
    "tags": []
   },
   "outputs": [],
   "source": [
    "df_test['Sex_enc'] = label_encoder.fit_transform(df_test['Sex'])"
   ]
  },
  {
   "cell_type": "markdown",
   "id": "ea6a0e19",
   "metadata": {
    "papermill": {
     "duration": 0.02738,
     "end_time": "2024-07-16T06:42:40.745097",
     "exception": false,
     "start_time": "2024-07-16T06:42:40.717717",
     "status": "completed"
    },
    "tags": []
   },
   "source": [
    "#### LabelEncode `Embarked`"
   ]
  },
  {
   "cell_type": "code",
   "execution_count": 52,
   "id": "9ab476a8",
   "metadata": {
    "execution": {
     "iopub.execute_input": "2024-07-16T06:42:40.803098Z",
     "iopub.status.busy": "2024-07-16T06:42:40.802667Z",
     "iopub.status.idle": "2024-07-16T06:42:40.820878Z",
     "shell.execute_reply": "2024-07-16T06:42:40.819722Z"
    },
    "papermill": {
     "duration": 0.050275,
     "end_time": "2024-07-16T06:42:40.823317",
     "exception": false,
     "start_time": "2024-07-16T06:42:40.773042",
     "status": "completed"
    },
    "tags": []
   },
   "outputs": [
    {
     "data": {
      "text/html": [
       "<div>\n",
       "<style scoped>\n",
       "    .dataframe tbody tr th:only-of-type {\n",
       "        vertical-align: middle;\n",
       "    }\n",
       "\n",
       "    .dataframe tbody tr th {\n",
       "        vertical-align: top;\n",
       "    }\n",
       "\n",
       "    .dataframe thead th {\n",
       "        text-align: right;\n",
       "    }\n",
       "</style>\n",
       "<table border=\"1\" class=\"dataframe\">\n",
       "  <thead>\n",
       "    <tr style=\"text-align: right;\">\n",
       "      <th></th>\n",
       "      <th>PassengerId</th>\n",
       "      <th>Pclass</th>\n",
       "      <th>Name</th>\n",
       "      <th>Sex</th>\n",
       "      <th>Age</th>\n",
       "      <th>SibSp</th>\n",
       "      <th>Parch</th>\n",
       "      <th>Ticket</th>\n",
       "      <th>Fare</th>\n",
       "      <th>Cabin</th>\n",
       "      <th>Embarked</th>\n",
       "      <th>CabinProcessed</th>\n",
       "      <th>Sex_enc</th>\n",
       "      <th>Embarked_enc</th>\n",
       "    </tr>\n",
       "  </thead>\n",
       "  <tbody>\n",
       "    <tr>\n",
       "      <th>0</th>\n",
       "      <td>892</td>\n",
       "      <td>3</td>\n",
       "      <td>Kelly, Mr. James</td>\n",
       "      <td>male</td>\n",
       "      <td>34.5</td>\n",
       "      <td>0</td>\n",
       "      <td>0</td>\n",
       "      <td>330911</td>\n",
       "      <td>7.8292</td>\n",
       "      <td>NaN</td>\n",
       "      <td>Q</td>\n",
       "      <td>8</td>\n",
       "      <td>1</td>\n",
       "      <td>1</td>\n",
       "    </tr>\n",
       "    <tr>\n",
       "      <th>1</th>\n",
       "      <td>893</td>\n",
       "      <td>3</td>\n",
       "      <td>Wilkes, Mrs. James (Ellen Needs)</td>\n",
       "      <td>female</td>\n",
       "      <td>47.0</td>\n",
       "      <td>1</td>\n",
       "      <td>0</td>\n",
       "      <td>363272</td>\n",
       "      <td>7.0000</td>\n",
       "      <td>NaN</td>\n",
       "      <td>S</td>\n",
       "      <td>8</td>\n",
       "      <td>0</td>\n",
       "      <td>2</td>\n",
       "    </tr>\n",
       "    <tr>\n",
       "      <th>2</th>\n",
       "      <td>894</td>\n",
       "      <td>2</td>\n",
       "      <td>Myles, Mr. Thomas Francis</td>\n",
       "      <td>male</td>\n",
       "      <td>62.0</td>\n",
       "      <td>0</td>\n",
       "      <td>0</td>\n",
       "      <td>240276</td>\n",
       "      <td>9.6875</td>\n",
       "      <td>NaN</td>\n",
       "      <td>Q</td>\n",
       "      <td>8</td>\n",
       "      <td>1</td>\n",
       "      <td>1</td>\n",
       "    </tr>\n",
       "    <tr>\n",
       "      <th>3</th>\n",
       "      <td>895</td>\n",
       "      <td>3</td>\n",
       "      <td>Wirz, Mr. Albert</td>\n",
       "      <td>male</td>\n",
       "      <td>27.0</td>\n",
       "      <td>0</td>\n",
       "      <td>0</td>\n",
       "      <td>315154</td>\n",
       "      <td>8.6625</td>\n",
       "      <td>NaN</td>\n",
       "      <td>S</td>\n",
       "      <td>8</td>\n",
       "      <td>1</td>\n",
       "      <td>2</td>\n",
       "    </tr>\n",
       "    <tr>\n",
       "      <th>4</th>\n",
       "      <td>896</td>\n",
       "      <td>3</td>\n",
       "      <td>Hirvonen, Mrs. Alexander (Helga E Lindqvist)</td>\n",
       "      <td>female</td>\n",
       "      <td>22.0</td>\n",
       "      <td>1</td>\n",
       "      <td>1</td>\n",
       "      <td>3101298</td>\n",
       "      <td>12.2875</td>\n",
       "      <td>NaN</td>\n",
       "      <td>S</td>\n",
       "      <td>8</td>\n",
       "      <td>0</td>\n",
       "      <td>2</td>\n",
       "    </tr>\n",
       "  </tbody>\n",
       "</table>\n",
       "</div>"
      ],
      "text/plain": [
       "   PassengerId  Pclass                                          Name     Sex  \\\n",
       "0          892       3                              Kelly, Mr. James    male   \n",
       "1          893       3              Wilkes, Mrs. James (Ellen Needs)  female   \n",
       "2          894       2                     Myles, Mr. Thomas Francis    male   \n",
       "3          895       3                              Wirz, Mr. Albert    male   \n",
       "4          896       3  Hirvonen, Mrs. Alexander (Helga E Lindqvist)  female   \n",
       "\n",
       "    Age  SibSp  Parch   Ticket     Fare Cabin Embarked  CabinProcessed  \\\n",
       "0  34.5      0      0   330911   7.8292   NaN        Q               8   \n",
       "1  47.0      1      0   363272   7.0000   NaN        S               8   \n",
       "2  62.0      0      0   240276   9.6875   NaN        Q               8   \n",
       "3  27.0      0      0   315154   8.6625   NaN        S               8   \n",
       "4  22.0      1      1  3101298  12.2875   NaN        S               8   \n",
       "\n",
       "   Sex_enc  Embarked_enc  \n",
       "0        1             1  \n",
       "1        0             2  \n",
       "2        1             1  \n",
       "3        1             2  \n",
       "4        0             2  "
      ]
     },
     "execution_count": 52,
     "metadata": {},
     "output_type": "execute_result"
    }
   ],
   "source": [
    "df_test['Embarked_enc'] = label_encoder.fit_transform(df_test['Embarked'])\n",
    "df_test.head()"
   ]
  },
  {
   "cell_type": "markdown",
   "id": "e4ed2346",
   "metadata": {
    "papermill": {
     "duration": 0.028293,
     "end_time": "2024-07-16T06:42:40.879889",
     "exception": false,
     "start_time": "2024-07-16T06:42:40.851596",
     "status": "completed"
    },
    "tags": []
   },
   "source": [
    "### 2) Feature Engineering\n",
    "\n",
    "#### Adding `Children` feature\n",
    "\n",
    "Similarly, we'll add a new feature called `Children` to determine if anyone is younger than 18 years old."
   ]
  },
  {
   "cell_type": "code",
   "execution_count": 53,
   "id": "182ccdc0",
   "metadata": {
    "execution": {
     "iopub.execute_input": "2024-07-16T06:42:40.939299Z",
     "iopub.status.busy": "2024-07-16T06:42:40.938914Z",
     "iopub.status.idle": "2024-07-16T06:42:40.960377Z",
     "shell.execute_reply": "2024-07-16T06:42:40.959280Z"
    },
    "papermill": {
     "duration": 0.053345,
     "end_time": "2024-07-16T06:42:40.962827",
     "exception": false,
     "start_time": "2024-07-16T06:42:40.909482",
     "status": "completed"
    },
    "tags": []
   },
   "outputs": [
    {
     "data": {
      "text/html": [
       "<div>\n",
       "<style scoped>\n",
       "    .dataframe tbody tr th:only-of-type {\n",
       "        vertical-align: middle;\n",
       "    }\n",
       "\n",
       "    .dataframe tbody tr th {\n",
       "        vertical-align: top;\n",
       "    }\n",
       "\n",
       "    .dataframe thead th {\n",
       "        text-align: right;\n",
       "    }\n",
       "</style>\n",
       "<table border=\"1\" class=\"dataframe\">\n",
       "  <thead>\n",
       "    <tr style=\"text-align: right;\">\n",
       "      <th></th>\n",
       "      <th>PassengerId</th>\n",
       "      <th>Pclass</th>\n",
       "      <th>Name</th>\n",
       "      <th>Sex</th>\n",
       "      <th>Age</th>\n",
       "      <th>SibSp</th>\n",
       "      <th>Parch</th>\n",
       "      <th>Ticket</th>\n",
       "      <th>Fare</th>\n",
       "      <th>Cabin</th>\n",
       "      <th>Embarked</th>\n",
       "      <th>CabinProcessed</th>\n",
       "      <th>Sex_enc</th>\n",
       "      <th>Embarked_enc</th>\n",
       "      <th>Children</th>\n",
       "    </tr>\n",
       "  </thead>\n",
       "  <tbody>\n",
       "    <tr>\n",
       "      <th>0</th>\n",
       "      <td>892</td>\n",
       "      <td>3</td>\n",
       "      <td>Kelly, Mr. James</td>\n",
       "      <td>male</td>\n",
       "      <td>34.5</td>\n",
       "      <td>0</td>\n",
       "      <td>0</td>\n",
       "      <td>330911</td>\n",
       "      <td>7.8292</td>\n",
       "      <td>NaN</td>\n",
       "      <td>Q</td>\n",
       "      <td>8</td>\n",
       "      <td>1</td>\n",
       "      <td>1</td>\n",
       "      <td>0</td>\n",
       "    </tr>\n",
       "    <tr>\n",
       "      <th>1</th>\n",
       "      <td>893</td>\n",
       "      <td>3</td>\n",
       "      <td>Wilkes, Mrs. James (Ellen Needs)</td>\n",
       "      <td>female</td>\n",
       "      <td>47.0</td>\n",
       "      <td>1</td>\n",
       "      <td>0</td>\n",
       "      <td>363272</td>\n",
       "      <td>7.0000</td>\n",
       "      <td>NaN</td>\n",
       "      <td>S</td>\n",
       "      <td>8</td>\n",
       "      <td>0</td>\n",
       "      <td>2</td>\n",
       "      <td>0</td>\n",
       "    </tr>\n",
       "    <tr>\n",
       "      <th>2</th>\n",
       "      <td>894</td>\n",
       "      <td>2</td>\n",
       "      <td>Myles, Mr. Thomas Francis</td>\n",
       "      <td>male</td>\n",
       "      <td>62.0</td>\n",
       "      <td>0</td>\n",
       "      <td>0</td>\n",
       "      <td>240276</td>\n",
       "      <td>9.6875</td>\n",
       "      <td>NaN</td>\n",
       "      <td>Q</td>\n",
       "      <td>8</td>\n",
       "      <td>1</td>\n",
       "      <td>1</td>\n",
       "      <td>0</td>\n",
       "    </tr>\n",
       "    <tr>\n",
       "      <th>3</th>\n",
       "      <td>895</td>\n",
       "      <td>3</td>\n",
       "      <td>Wirz, Mr. Albert</td>\n",
       "      <td>male</td>\n",
       "      <td>27.0</td>\n",
       "      <td>0</td>\n",
       "      <td>0</td>\n",
       "      <td>315154</td>\n",
       "      <td>8.6625</td>\n",
       "      <td>NaN</td>\n",
       "      <td>S</td>\n",
       "      <td>8</td>\n",
       "      <td>1</td>\n",
       "      <td>2</td>\n",
       "      <td>0</td>\n",
       "    </tr>\n",
       "    <tr>\n",
       "      <th>4</th>\n",
       "      <td>896</td>\n",
       "      <td>3</td>\n",
       "      <td>Hirvonen, Mrs. Alexander (Helga E Lindqvist)</td>\n",
       "      <td>female</td>\n",
       "      <td>22.0</td>\n",
       "      <td>1</td>\n",
       "      <td>1</td>\n",
       "      <td>3101298</td>\n",
       "      <td>12.2875</td>\n",
       "      <td>NaN</td>\n",
       "      <td>S</td>\n",
       "      <td>8</td>\n",
       "      <td>0</td>\n",
       "      <td>2</td>\n",
       "      <td>0</td>\n",
       "    </tr>\n",
       "    <tr>\n",
       "      <th>5</th>\n",
       "      <td>897</td>\n",
       "      <td>3</td>\n",
       "      <td>Svensson, Mr. Johan Cervin</td>\n",
       "      <td>male</td>\n",
       "      <td>14.0</td>\n",
       "      <td>0</td>\n",
       "      <td>0</td>\n",
       "      <td>7538</td>\n",
       "      <td>9.2250</td>\n",
       "      <td>NaN</td>\n",
       "      <td>S</td>\n",
       "      <td>8</td>\n",
       "      <td>1</td>\n",
       "      <td>2</td>\n",
       "      <td>1</td>\n",
       "    </tr>\n",
       "    <tr>\n",
       "      <th>6</th>\n",
       "      <td>898</td>\n",
       "      <td>3</td>\n",
       "      <td>Connolly, Miss. Kate</td>\n",
       "      <td>female</td>\n",
       "      <td>30.0</td>\n",
       "      <td>0</td>\n",
       "      <td>0</td>\n",
       "      <td>330972</td>\n",
       "      <td>7.6292</td>\n",
       "      <td>NaN</td>\n",
       "      <td>Q</td>\n",
       "      <td>8</td>\n",
       "      <td>0</td>\n",
       "      <td>1</td>\n",
       "      <td>0</td>\n",
       "    </tr>\n",
       "    <tr>\n",
       "      <th>7</th>\n",
       "      <td>899</td>\n",
       "      <td>2</td>\n",
       "      <td>Caldwell, Mr. Albert Francis</td>\n",
       "      <td>male</td>\n",
       "      <td>26.0</td>\n",
       "      <td>1</td>\n",
       "      <td>1</td>\n",
       "      <td>248738</td>\n",
       "      <td>29.0000</td>\n",
       "      <td>NaN</td>\n",
       "      <td>S</td>\n",
       "      <td>8</td>\n",
       "      <td>1</td>\n",
       "      <td>2</td>\n",
       "      <td>0</td>\n",
       "    </tr>\n",
       "    <tr>\n",
       "      <th>8</th>\n",
       "      <td>900</td>\n",
       "      <td>3</td>\n",
       "      <td>Abrahim, Mrs. Joseph (Sophie Halaut Easu)</td>\n",
       "      <td>female</td>\n",
       "      <td>18.0</td>\n",
       "      <td>0</td>\n",
       "      <td>0</td>\n",
       "      <td>2657</td>\n",
       "      <td>7.2292</td>\n",
       "      <td>NaN</td>\n",
       "      <td>C</td>\n",
       "      <td>8</td>\n",
       "      <td>0</td>\n",
       "      <td>0</td>\n",
       "      <td>0</td>\n",
       "    </tr>\n",
       "    <tr>\n",
       "      <th>9</th>\n",
       "      <td>901</td>\n",
       "      <td>3</td>\n",
       "      <td>Davies, Mr. John Samuel</td>\n",
       "      <td>male</td>\n",
       "      <td>21.0</td>\n",
       "      <td>2</td>\n",
       "      <td>0</td>\n",
       "      <td>A/4 48871</td>\n",
       "      <td>24.1500</td>\n",
       "      <td>NaN</td>\n",
       "      <td>S</td>\n",
       "      <td>8</td>\n",
       "      <td>1</td>\n",
       "      <td>2</td>\n",
       "      <td>0</td>\n",
       "    </tr>\n",
       "  </tbody>\n",
       "</table>\n",
       "</div>"
      ],
      "text/plain": [
       "   PassengerId  Pclass                                          Name     Sex  \\\n",
       "0          892       3                              Kelly, Mr. James    male   \n",
       "1          893       3              Wilkes, Mrs. James (Ellen Needs)  female   \n",
       "2          894       2                     Myles, Mr. Thomas Francis    male   \n",
       "3          895       3                              Wirz, Mr. Albert    male   \n",
       "4          896       3  Hirvonen, Mrs. Alexander (Helga E Lindqvist)  female   \n",
       "5          897       3                    Svensson, Mr. Johan Cervin    male   \n",
       "6          898       3                          Connolly, Miss. Kate  female   \n",
       "7          899       2                  Caldwell, Mr. Albert Francis    male   \n",
       "8          900       3     Abrahim, Mrs. Joseph (Sophie Halaut Easu)  female   \n",
       "9          901       3                       Davies, Mr. John Samuel    male   \n",
       "\n",
       "    Age  SibSp  Parch     Ticket     Fare Cabin Embarked  CabinProcessed  \\\n",
       "0  34.5      0      0     330911   7.8292   NaN        Q               8   \n",
       "1  47.0      1      0     363272   7.0000   NaN        S               8   \n",
       "2  62.0      0      0     240276   9.6875   NaN        Q               8   \n",
       "3  27.0      0      0     315154   8.6625   NaN        S               8   \n",
       "4  22.0      1      1    3101298  12.2875   NaN        S               8   \n",
       "5  14.0      0      0       7538   9.2250   NaN        S               8   \n",
       "6  30.0      0      0     330972   7.6292   NaN        Q               8   \n",
       "7  26.0      1      1     248738  29.0000   NaN        S               8   \n",
       "8  18.0      0      0       2657   7.2292   NaN        C               8   \n",
       "9  21.0      2      0  A/4 48871  24.1500   NaN        S               8   \n",
       "\n",
       "   Sex_enc  Embarked_enc  Children  \n",
       "0        1             1         0  \n",
       "1        0             2         0  \n",
       "2        1             1         0  \n",
       "3        1             2         0  \n",
       "4        0             2         0  \n",
       "5        1             2         1  \n",
       "6        0             1         0  \n",
       "7        1             2         0  \n",
       "8        0             0         0  \n",
       "9        1             2         0  "
      ]
     },
     "execution_count": 53,
     "metadata": {},
     "output_type": "execute_result"
    }
   ],
   "source": [
    "df_test['Children'] = df_test['Age'] < 18\n",
    "df_test['Children'] = df_test['Children'].astype(int)\n",
    "df_test.head(10)"
   ]
  },
  {
   "cell_type": "markdown",
   "id": "9c1a3ec9",
   "metadata": {
    "papermill": {
     "duration": 0.028069,
     "end_time": "2024-07-16T06:42:41.019197",
     "exception": false,
     "start_time": "2024-07-16T06:42:40.991128",
     "status": "completed"
    },
    "tags": []
   },
   "source": [
    "#### Combining SibSp & Parch\n",
    "\n",
    "Similarly, we'll combine the `SibSp` & `Parch` into a `Family` feature."
   ]
  },
  {
   "cell_type": "code",
   "execution_count": 54,
   "id": "5cc376a3",
   "metadata": {
    "execution": {
     "iopub.execute_input": "2024-07-16T06:42:41.079707Z",
     "iopub.status.busy": "2024-07-16T06:42:41.078726Z",
     "iopub.status.idle": "2024-07-16T06:42:41.099084Z",
     "shell.execute_reply": "2024-07-16T06:42:41.097815Z"
    },
    "papermill": {
     "duration": 0.053131,
     "end_time": "2024-07-16T06:42:41.101369",
     "exception": false,
     "start_time": "2024-07-16T06:42:41.048238",
     "status": "completed"
    },
    "tags": []
   },
   "outputs": [
    {
     "data": {
      "text/html": [
       "<div>\n",
       "<style scoped>\n",
       "    .dataframe tbody tr th:only-of-type {\n",
       "        vertical-align: middle;\n",
       "    }\n",
       "\n",
       "    .dataframe tbody tr th {\n",
       "        vertical-align: top;\n",
       "    }\n",
       "\n",
       "    .dataframe thead th {\n",
       "        text-align: right;\n",
       "    }\n",
       "</style>\n",
       "<table border=\"1\" class=\"dataframe\">\n",
       "  <thead>\n",
       "    <tr style=\"text-align: right;\">\n",
       "      <th></th>\n",
       "      <th>PassengerId</th>\n",
       "      <th>Pclass</th>\n",
       "      <th>Name</th>\n",
       "      <th>Sex</th>\n",
       "      <th>Age</th>\n",
       "      <th>SibSp</th>\n",
       "      <th>Parch</th>\n",
       "      <th>Ticket</th>\n",
       "      <th>Fare</th>\n",
       "      <th>Cabin</th>\n",
       "      <th>Embarked</th>\n",
       "      <th>CabinProcessed</th>\n",
       "      <th>Sex_enc</th>\n",
       "      <th>Embarked_enc</th>\n",
       "      <th>Children</th>\n",
       "      <th>Family</th>\n",
       "    </tr>\n",
       "  </thead>\n",
       "  <tbody>\n",
       "    <tr>\n",
       "      <th>0</th>\n",
       "      <td>892</td>\n",
       "      <td>3</td>\n",
       "      <td>Kelly, Mr. James</td>\n",
       "      <td>male</td>\n",
       "      <td>34.5</td>\n",
       "      <td>0</td>\n",
       "      <td>0</td>\n",
       "      <td>330911</td>\n",
       "      <td>7.8292</td>\n",
       "      <td>NaN</td>\n",
       "      <td>Q</td>\n",
       "      <td>8</td>\n",
       "      <td>1</td>\n",
       "      <td>1</td>\n",
       "      <td>0</td>\n",
       "      <td>1</td>\n",
       "    </tr>\n",
       "    <tr>\n",
       "      <th>1</th>\n",
       "      <td>893</td>\n",
       "      <td>3</td>\n",
       "      <td>Wilkes, Mrs. James (Ellen Needs)</td>\n",
       "      <td>female</td>\n",
       "      <td>47.0</td>\n",
       "      <td>1</td>\n",
       "      <td>0</td>\n",
       "      <td>363272</td>\n",
       "      <td>7.0000</td>\n",
       "      <td>NaN</td>\n",
       "      <td>S</td>\n",
       "      <td>8</td>\n",
       "      <td>0</td>\n",
       "      <td>2</td>\n",
       "      <td>0</td>\n",
       "      <td>2</td>\n",
       "    </tr>\n",
       "    <tr>\n",
       "      <th>2</th>\n",
       "      <td>894</td>\n",
       "      <td>2</td>\n",
       "      <td>Myles, Mr. Thomas Francis</td>\n",
       "      <td>male</td>\n",
       "      <td>62.0</td>\n",
       "      <td>0</td>\n",
       "      <td>0</td>\n",
       "      <td>240276</td>\n",
       "      <td>9.6875</td>\n",
       "      <td>NaN</td>\n",
       "      <td>Q</td>\n",
       "      <td>8</td>\n",
       "      <td>1</td>\n",
       "      <td>1</td>\n",
       "      <td>0</td>\n",
       "      <td>1</td>\n",
       "    </tr>\n",
       "    <tr>\n",
       "      <th>3</th>\n",
       "      <td>895</td>\n",
       "      <td>3</td>\n",
       "      <td>Wirz, Mr. Albert</td>\n",
       "      <td>male</td>\n",
       "      <td>27.0</td>\n",
       "      <td>0</td>\n",
       "      <td>0</td>\n",
       "      <td>315154</td>\n",
       "      <td>8.6625</td>\n",
       "      <td>NaN</td>\n",
       "      <td>S</td>\n",
       "      <td>8</td>\n",
       "      <td>1</td>\n",
       "      <td>2</td>\n",
       "      <td>0</td>\n",
       "      <td>1</td>\n",
       "    </tr>\n",
       "    <tr>\n",
       "      <th>4</th>\n",
       "      <td>896</td>\n",
       "      <td>3</td>\n",
       "      <td>Hirvonen, Mrs. Alexander (Helga E Lindqvist)</td>\n",
       "      <td>female</td>\n",
       "      <td>22.0</td>\n",
       "      <td>1</td>\n",
       "      <td>1</td>\n",
       "      <td>3101298</td>\n",
       "      <td>12.2875</td>\n",
       "      <td>NaN</td>\n",
       "      <td>S</td>\n",
       "      <td>8</td>\n",
       "      <td>0</td>\n",
       "      <td>2</td>\n",
       "      <td>0</td>\n",
       "      <td>3</td>\n",
       "    </tr>\n",
       "  </tbody>\n",
       "</table>\n",
       "</div>"
      ],
      "text/plain": [
       "   PassengerId  Pclass                                          Name     Sex  \\\n",
       "0          892       3                              Kelly, Mr. James    male   \n",
       "1          893       3              Wilkes, Mrs. James (Ellen Needs)  female   \n",
       "2          894       2                     Myles, Mr. Thomas Francis    male   \n",
       "3          895       3                              Wirz, Mr. Albert    male   \n",
       "4          896       3  Hirvonen, Mrs. Alexander (Helga E Lindqvist)  female   \n",
       "\n",
       "    Age  SibSp  Parch   Ticket     Fare Cabin Embarked  CabinProcessed  \\\n",
       "0  34.5      0      0   330911   7.8292   NaN        Q               8   \n",
       "1  47.0      1      0   363272   7.0000   NaN        S               8   \n",
       "2  62.0      0      0   240276   9.6875   NaN        Q               8   \n",
       "3  27.0      0      0   315154   8.6625   NaN        S               8   \n",
       "4  22.0      1      1  3101298  12.2875   NaN        S               8   \n",
       "\n",
       "   Sex_enc  Embarked_enc  Children  Family  \n",
       "0        1             1         0       1  \n",
       "1        0             2         0       2  \n",
       "2        1             1         0       1  \n",
       "3        1             2         0       1  \n",
       "4        0             2         0       3  "
      ]
     },
     "execution_count": 54,
     "metadata": {},
     "output_type": "execute_result"
    }
   ],
   "source": [
    "df_test['Family'] = df_test['SibSp'] + df_test['Parch'] + 1\n",
    "df_test.head()"
   ]
  },
  {
   "cell_type": "markdown",
   "id": "b2abb5ca",
   "metadata": {
    "papermill": {
     "duration": 0.028847,
     "end_time": "2024-07-16T06:42:41.158870",
     "exception": false,
     "start_time": "2024-07-16T06:42:41.130023",
     "status": "completed"
    },
    "tags": []
   },
   "source": [
    "####  Removing redundant features\n",
    "\n",
    "Now, we can remove redundant features like `PassengerId`, `Name`, `Ticket` & `Fare`. Likewise `SibSp`, `Parch`, `Sex`, `Embarked` & `Cabin` will also be removed to avoid duplicate biases results."
   ]
  },
  {
   "cell_type": "code",
   "execution_count": 55,
   "id": "3f0933e1",
   "metadata": {
    "execution": {
     "iopub.execute_input": "2024-07-16T06:42:41.221630Z",
     "iopub.status.busy": "2024-07-16T06:42:41.221224Z",
     "iopub.status.idle": "2024-07-16T06:42:41.236965Z",
     "shell.execute_reply": "2024-07-16T06:42:41.235720Z"
    },
    "papermill": {
     "duration": 0.048662,
     "end_time": "2024-07-16T06:42:41.239380",
     "exception": false,
     "start_time": "2024-07-16T06:42:41.190718",
     "status": "completed"
    },
    "tags": []
   },
   "outputs": [
    {
     "data": {
      "text/html": [
       "<div>\n",
       "<style scoped>\n",
       "    .dataframe tbody tr th:only-of-type {\n",
       "        vertical-align: middle;\n",
       "    }\n",
       "\n",
       "    .dataframe tbody tr th {\n",
       "        vertical-align: top;\n",
       "    }\n",
       "\n",
       "    .dataframe thead th {\n",
       "        text-align: right;\n",
       "    }\n",
       "</style>\n",
       "<table border=\"1\" class=\"dataframe\">\n",
       "  <thead>\n",
       "    <tr style=\"text-align: right;\">\n",
       "      <th></th>\n",
       "      <th>Pclass</th>\n",
       "      <th>Age</th>\n",
       "      <th>CabinProcessed</th>\n",
       "      <th>Sex_enc</th>\n",
       "      <th>Embarked_enc</th>\n",
       "      <th>Children</th>\n",
       "      <th>Family</th>\n",
       "    </tr>\n",
       "  </thead>\n",
       "  <tbody>\n",
       "    <tr>\n",
       "      <th>0</th>\n",
       "      <td>3</td>\n",
       "      <td>34.5</td>\n",
       "      <td>8</td>\n",
       "      <td>1</td>\n",
       "      <td>1</td>\n",
       "      <td>0</td>\n",
       "      <td>1</td>\n",
       "    </tr>\n",
       "    <tr>\n",
       "      <th>1</th>\n",
       "      <td>3</td>\n",
       "      <td>47.0</td>\n",
       "      <td>8</td>\n",
       "      <td>0</td>\n",
       "      <td>2</td>\n",
       "      <td>0</td>\n",
       "      <td>2</td>\n",
       "    </tr>\n",
       "    <tr>\n",
       "      <th>2</th>\n",
       "      <td>2</td>\n",
       "      <td>62.0</td>\n",
       "      <td>8</td>\n",
       "      <td>1</td>\n",
       "      <td>1</td>\n",
       "      <td>0</td>\n",
       "      <td>1</td>\n",
       "    </tr>\n",
       "    <tr>\n",
       "      <th>3</th>\n",
       "      <td>3</td>\n",
       "      <td>27.0</td>\n",
       "      <td>8</td>\n",
       "      <td>1</td>\n",
       "      <td>2</td>\n",
       "      <td>0</td>\n",
       "      <td>1</td>\n",
       "    </tr>\n",
       "    <tr>\n",
       "      <th>4</th>\n",
       "      <td>3</td>\n",
       "      <td>22.0</td>\n",
       "      <td>8</td>\n",
       "      <td>0</td>\n",
       "      <td>2</td>\n",
       "      <td>0</td>\n",
       "      <td>3</td>\n",
       "    </tr>\n",
       "  </tbody>\n",
       "</table>\n",
       "</div>"
      ],
      "text/plain": [
       "   Pclass   Age  CabinProcessed  Sex_enc  Embarked_enc  Children  Family\n",
       "0       3  34.5               8        1             1         0       1\n",
       "1       3  47.0               8        0             2         0       2\n",
       "2       2  62.0               8        1             1         0       1\n",
       "3       3  27.0               8        1             2         0       1\n",
       "4       3  22.0               8        0             2         0       3"
      ]
     },
     "execution_count": 55,
     "metadata": {},
     "output_type": "execute_result"
    }
   ],
   "source": [
    "df_test = df_test.drop(columns=['Name', 'Sex', 'Cabin', 'Ticket', 'Fare', 'SibSp', 'Parch', 'Embarked', 'PassengerId'])\n",
    "df_test.head()"
   ]
  },
  {
   "cell_type": "code",
   "execution_count": 56,
   "id": "3599ecec",
   "metadata": {
    "execution": {
     "iopub.execute_input": "2024-07-16T06:42:41.299592Z",
     "iopub.status.busy": "2024-07-16T06:42:41.299163Z",
     "iopub.status.idle": "2024-07-16T06:42:41.311110Z",
     "shell.execute_reply": "2024-07-16T06:42:41.310028Z"
    },
    "papermill": {
     "duration": 0.044422,
     "end_time": "2024-07-16T06:42:41.313452",
     "exception": false,
     "start_time": "2024-07-16T06:42:41.269030",
     "status": "completed"
    },
    "tags": []
   },
   "outputs": [
    {
     "name": "stdout",
     "output_type": "stream",
     "text": [
      "<class 'pandas.core.frame.DataFrame'>\n",
      "RangeIndex: 418 entries, 0 to 417\n",
      "Data columns (total 7 columns):\n",
      " #   Column          Non-Null Count  Dtype  \n",
      "---  ------          --------------  -----  \n",
      " 0   Pclass          418 non-null    int64  \n",
      " 1   Age             418 non-null    float64\n",
      " 2   CabinProcessed  418 non-null    int8   \n",
      " 3   Sex_enc         418 non-null    int64  \n",
      " 4   Embarked_enc    418 non-null    int64  \n",
      " 5   Children        418 non-null    int64  \n",
      " 6   Family          418 non-null    int64  \n",
      "dtypes: float64(1), int64(5), int8(1)\n",
      "memory usage: 20.1 KB\n"
     ]
    }
   ],
   "source": [
    "df_test.info()"
   ]
  },
  {
   "cell_type": "markdown",
   "id": "4d049b45",
   "metadata": {
    "papermill": {
     "duration": 0.030122,
     "end_time": "2024-07-16T06:42:41.372841",
     "exception": false,
     "start_time": "2024-07-16T06:42:41.342719",
     "status": "completed"
    },
    "tags": []
   },
   "source": [
    "### 3) Modelling\n",
    "\n",
    "Here, we shall apply the Random Forest model & create and output to the predicted passenger survivability."
   ]
  },
  {
   "cell_type": "code",
   "execution_count": 57,
   "id": "ff4dce62",
   "metadata": {
    "execution": {
     "iopub.execute_input": "2024-07-16T06:42:41.433667Z",
     "iopub.status.busy": "2024-07-16T06:42:41.433141Z",
     "iopub.status.idle": "2024-07-16T06:42:41.447848Z",
     "shell.execute_reply": "2024-07-16T06:42:41.446310Z"
    },
    "papermill": {
     "duration": 0.048606,
     "end_time": "2024-07-16T06:42:41.450622",
     "exception": false,
     "start_time": "2024-07-16T06:42:41.402016",
     "status": "completed"
    },
    "tags": []
   },
   "outputs": [
    {
     "name": "stdout",
     "output_type": "stream",
     "text": [
      "Done!\n"
     ]
    }
   ],
   "source": [
    "#df_test1 = df_test.drop('PassengerId', axis=1)\n",
    "\n",
    "# Predict on test dataset\n",
    "test_predictions = best_xgb.predict(df_test)\n",
    "\n",
    "output = pd.DataFrame({'PassengerId': test_data['PassengerId'],\n",
    "                      'Survived': test_predictions})\n",
    "output.to_csv('submission2.csv', index=False)\n",
    "print('Done!')"
   ]
  }
 ],
 "metadata": {
  "kaggle": {
   "accelerator": "none",
   "dataSources": [
    {
     "databundleVersionId": 26502,
     "sourceId": 3136,
     "sourceType": "competition"
    }
   ],
   "dockerImageVersionId": 30715,
   "isGpuEnabled": false,
   "isInternetEnabled": true,
   "language": "python",
   "sourceType": "notebook"
  },
  "kernelspec": {
   "display_name": "Python 3",
   "language": "python",
   "name": "python3"
  },
  "language_info": {
   "codemirror_mode": {
    "name": "ipython",
    "version": 3
   },
   "file_extension": ".py",
   "mimetype": "text/x-python",
   "name": "python",
   "nbconvert_exporter": "python",
   "pygments_lexer": "ipython3",
   "version": "3.10.13"
  },
  "papermill": {
   "default_parameters": {},
   "duration": 32.967073,
   "end_time": "2024-07-16T06:42:42.201527",
   "environment_variables": {},
   "exception": null,
   "input_path": "__notebook__.ipynb",
   "output_path": "__notebook__.ipynb",
   "parameters": {},
   "start_time": "2024-07-16T06:42:09.234454",
   "version": "2.5.0"
  }
 },
 "nbformat": 4,
 "nbformat_minor": 5
}
